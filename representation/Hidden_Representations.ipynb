{
 "cells": [
  {
   "cell_type": "markdown",
   "metadata": {},
   "source": [
    "# Gibbs Sampler"
   ]
  },
  {
   "cell_type": "markdown",
   "metadata": {},
   "source": [
    "\\begin{eqnarray}\n",
    "r_{1:K}^{t} & \\sim & p(r_{1:K}^{t} \\mid x_{1:N}^{t}, \\theta_{1:K}, w_{1:N}, \\rho_{1:N}) \n",
    "\\propto \\Bigl(\\prod_{k=1}^K \\theta_{k \\mid r^t_{\\pi(\\mathbf{r}_k)}}(r^t_k) \\Bigr)\n",
    "\\Bigl( \\prod_{n=1}^N \\exp\\bigl( \\frac{1}{2} \\log \\rho_{n \\mid r^t_{\\pi(\\mathbf{x}_n)}} - \\frac{1}{2} ({w_{n \\mid r^t_{\\pi(\\mathbf{x}_n)}}}^\\mathrm{T} \\phi(x^t_{\\pi(\\mathbf{x}_n)}) - x_n^t)^2 \\bigr) \\Bigr) \\\\\n",
    "\\theta_{k \\mid r_{\\pi(\\mathbf{r}_k)}} & \\sim & p(\\theta_{k \\mid r_{\\pi(\\mathbf{r}_k)}} \\mid r_{1:K}^{1:T}) \n",
    "= \\mathcal{D}(\\theta_{k \\mid r_{\\pi(\\mathbf{r}_k)}}; \\gamma^*_{k \\mid r_{\\pi(\\mathbf{r}_k)}}) \\\\\n",
    "\\rho_{n \\mid r_{\\pi(\\mathbf{x}_n)}} & \\sim & p(\\rho_{n \\mid r_{\\pi(\\mathbf{x}_n)}} \\mid x_{1:N}^{1:T}, r_{1:K}^{1:T}) \n",
    "= \\mathcal{G}(\\rho_{n \\mid r_{\\pi(\\mathbf{x}_n)}}; a^*_{n \\mid r_{\\pi(\\mathbf{x}_n)}}, b^*_{n \\mid r_{\\pi(\\mathbf{x}_n)}}) \\\\\n",
    "w_{n \\mid r_{\\pi(\\mathbf{x}_n)}} & \\sim & p(w_{n \\mid r_{\\pi(\\mathbf{x}_n)}} \\mid \\rho_{n \\mid r_{\\pi(\\mathbf{x}_n)}}, x_{1:N}^{1:T}, r_{1:K}^{1:T}) \n",
    "= \\mathcal{N}(w_{n \\mid r_{\\pi(\\mathbf{x}_n)}}; m^*_{n \\mid r_{\\pi(\\mathbf{x}_n)}}, (\\rho_{n \\mid r_{\\pi(\\mathbf{x}_n)}} \\Lambda^*_{n \\mid r_{\\pi(\\mathbf{x}_n)}})^{-1})\n",
    "\\end{eqnarray}"
   ]
  },
  {
   "cell_type": "markdown",
   "metadata": {},
   "source": [
    "# Implementation"
   ]
  },
  {
   "cell_type": "code",
   "execution_count": 1,
   "metadata": {},
   "outputs": [],
   "source": [
    "include(\"src/Misc.jl\");\n",
    "include(\"src/Datasets.jl\");\n",
    "include(\"src/BayesianCausality.jl\");"
   ]
  },
  {
   "cell_type": "code",
   "execution_count": 2,
   "metadata": {},
   "outputs": [],
   "source": [
    "using .Misc, .BayesianCausality\n",
    "import .Datasets"
   ]
  },
  {
   "cell_type": "code",
   "execution_count": 3,
   "metadata": {},
   "outputs": [],
   "source": [
    "using Statistics\n",
    "\n",
    "import PyPlot, Seaborn "
   ]
  },
  {
   "cell_type": "code",
   "execution_count": 4,
   "metadata": {},
   "outputs": [
    {
     "data": {
      "text/plain": [
       "36"
      ]
     },
     "execution_count": 4,
     "metadata": {},
     "output_type": "execute_result"
    }
   ],
   "source": [
    "import Base.Filesystem: mkpath\n",
    "\n",
    "MARKER = [\"o\", \"v\", \"d\", \"X\", \"p\", \"*\", \"P\"];\n",
    "\n",
    "RESULTS_PATH = \"./results/abalone\"\n",
    "PARAMS_PATH = \"./params\"\n",
    "IMG_PATH = \"./img\"\n",
    "N_PARAMS = 36"
   ]
  },
  {
   "cell_type": "code",
   "execution_count": 5,
   "metadata": {},
   "outputs": [],
   "source": [
    "import Random: randperm, seed!\n",
    "\n",
    "seed!(8457);"
   ]
  },
  {
   "cell_type": "markdown",
   "metadata": {},
   "source": [
    "## Read Data"
   ]
  },
  {
   "cell_type": "code",
   "execution_count": 6,
   "metadata": {},
   "outputs": [
    {
     "data": {
      "text/plain": [
       "([0.514, 0.2255, 0.677, 0.516, 0.205, 0.3515, 0.7775, 0.768, 0.5095, 0.8945  …  0.577, 0.615, 0.791, 0.8395, 0.8675, 0.887, 0.966, 1.176, 1.0945, 1.9485], [0.095, 0.09, 0.135, 0.125, 0.08, 0.095, 0.15, 0.125, 0.125, 0.15  …  0.125, 0.125, 0.165, 0.13, 0.155, 0.165, 0.135, 0.205, 0.15, 0.195])"
      ]
     },
     "execution_count": 6,
     "metadata": {},
     "output_type": "execute_result"
    }
   ],
   "source": [
    "abalone_data = Datasets.abalone()\n",
    "\n",
    "X₁, X₂ = abalone_data[:whole], abalone_data[:height]"
   ]
  },
  {
   "cell_type": "code",
   "execution_count": 7,
   "metadata": {},
   "outputs": [],
   "source": [
    "x = (X₁ .- mean(X₁)) ./ std(X₁)\n",
    "y = (X₂ .- mean(X₂)) ./ std(X₂)\n",
    "\n",
    "X = [x y];"
   ]
  },
  {
   "cell_type": "markdown",
   "metadata": {},
   "source": [
    "## Read Parameters"
   ]
  },
  {
   "cell_type": "code",
   "execution_count": 8,
   "metadata": {},
   "outputs": [
    {
     "data": {
      "text/plain": [
       "(1.0, 1.0, 0.0, 0.1)"
      ]
     },
     "execution_count": 8,
     "metadata": {},
     "output_type": "execute_result"
    }
   ],
   "source": [
    "N_PARAM = 20\n",
    "params = Dict(Symbol(String(p)) => v for (p,v) ∈ load_json(\"$PARAMS_PATH/params-$N_PARAM.json\"))\n",
    "\n",
    "γ, M = params[:γ], params[:M]\n",
    "a₁, b₁, m₁, λ₁ = params[:a₁], params[:b₁], params[:m₁], params[:λ₁]\n",
    "a₂, b₂, m₂, λ₂ = params[:a₂], params[:b₂], params[:m₂], params[:λ₂]"
   ]
  },
  {
   "cell_type": "code",
   "execution_count": 9,
   "metadata": {},
   "outputs": [],
   "source": [
    "Rs = 1:5\n",
    "\n",
    "causal_params = Dict(:γ=>γ, :m₁=>m₁, :m₂=>m₂, :λ₁=>λ₁, :λ₂=>λ₂, \n",
    "                     :a₁=>a₁, :a₂=>a₂, :b₁=>b₁, :b₂=>b₂);\n",
    "spurious_params = Dict(:γ=>γ, :m₁=>m₁, :m₂=>m₂, :λ₁=>λ₁, :λ₂=>λ₁, \n",
    "                       :a₁=>a₁, :a₂=>a₁, :b₁=>b₁, :b₂=>b₁);"
   ]
  },
  {
   "cell_type": "code",
   "execution_count": 10,
   "metadata": {},
   "outputs": [
    {
     "data": {
      "text/plain": [
       "100"
      ]
     },
     "execution_count": 10,
     "metadata": {},
     "output_type": "execute_result"
    }
   ],
   "source": [
    "RPT, P = 100, 1000\n",
    "EPOCHS = 100"
   ]
  },
  {
   "cell_type": "markdown",
   "metadata": {},
   "source": [
    "## Model Selection"
   ]
  },
  {
   "cell_type": "code",
   "execution_count": 11,
   "metadata": {},
   "outputs": [
    {
     "data": {
      "text/plain": [
       "3×5 Array{Float64,2}:\n",
       "  -9691.02   -8449.26  -7694.06  -7455.85  -7364.56\n",
       "  -9691.02   -8585.82  -7882.25  -7744.26  -7638.52\n",
       " -12143.2   -10616.2   -9648.61  -8876.14  -8545.83"
      ]
     },
     "execution_count": 11,
     "metadata": {},
     "output_type": "execute_result"
    }
   ],
   "source": [
    "vb_scores = reshape([p for R ∈ Rs for p ∈ vb_causal_likelihoods(x, y, R; EPOCHS=EPOCHS, M=M, causal_params...)],3,:)    "
   ]
  },
  {
   "cell_type": "code",
   "execution_count": 12,
   "metadata": {},
   "outputs": [],
   "source": [
    "save_json(\"$RESULTS_PATH/vb_scores.json\", scores=vb_scores);"
   ]
  },
  {
   "cell_type": "code",
   "execution_count": 13,
   "metadata": {},
   "outputs": [
    {
     "data": {
      "text/plain": [
       "3×5 Array{Float64,2}:\n",
       "  -9691.02   -8791.07  -8486.31  -7909.67  -7778.76\n",
       "  -9691.02   -8911.76  -8552.38  -8235.14  -8076.15\n",
       " -12143.2   -10642.2   -9721.46  -8935.8   -8785.88"
      ]
     },
     "execution_count": 13,
     "metadata": {},
     "output_type": "execute_result"
    }
   ],
   "source": [
    "smc_scores = reshape([p for R ∈ Rs for p ∈ causal_likelihoods(x, y, R, P; M=M, causal_params...)],3,:)"
   ]
  },
  {
   "cell_type": "code",
   "execution_count": 14,
   "metadata": {},
   "outputs": [],
   "source": [
    "save_json(\"$RESULTS_PATH/smc_scores.json\", scores=smc_scores);"
   ]
  },
  {
   "cell_type": "code",
   "execution_count": 15,
   "metadata": {},
   "outputs": [
    {
     "data": {
      "text/plain": [
       "(-7778.763553257743, CartesianIndex(1, 5))"
      ]
     },
     "execution_count": 15,
     "metadata": {},
     "output_type": "execute_result"
    }
   ],
   "source": [
    "findmax(smc_scores) "
   ]
  },
  {
   "cell_type": "code",
   "execution_count": 16,
   "metadata": {},
   "outputs": [],
   "source": [
    "hyper_params = spurious_params;\n",
    "M, R = 1, 5;"
   ]
  },
  {
   "cell_type": "markdown",
   "metadata": {},
   "source": [
    "## Dual EM"
   ]
  },
  {
   "cell_type": "code",
   "execution_count": 17,
   "metadata": {
    "scrolled": true
   },
   "outputs": [],
   "source": [
    "r_em = dual_em(X, R; EPOCHS=EPOCHS, M=M, hyper_params...);"
   ]
  },
  {
   "cell_type": "code",
   "execution_count": 18,
   "metadata": {},
   "outputs": [],
   "source": [
    "save_json(\"$RESULTS_PATH/dual_em.json\", r=r_em);"
   ]
  },
  {
   "cell_type": "markdown",
   "metadata": {},
   "source": [
    "## Particle Gibbs"
   ]
  },
  {
   "cell_type": "code",
   "execution_count": 19,
   "metadata": {},
   "outputs": [],
   "source": [
    "log_Z, Πᵖ = smc_weight(X,R,P; M=M, hyper_params...)\n",
    "for i ∈ 1:RPT\n",
    "    Πᵖ = p_gibbs(X, Πᵖ,P; hyper_params...)\n",
    "end"
   ]
  },
  {
   "cell_type": "code",
   "execution_count": 20,
   "metadata": {},
   "outputs": [],
   "source": [
    "save_json(\"$RESULTS_PATH/p_gibbs.json\", r=Πᵖ.r);"
   ]
  },
  {
   "cell_type": "markdown",
   "metadata": {},
   "source": [
    "## Read Results"
   ]
  },
  {
   "cell_type": "code",
   "execution_count": 21,
   "metadata": {},
   "outputs": [],
   "source": [
    "import Seaborn"
   ]
  },
  {
   "cell_type": "code",
   "execution_count": 22,
   "metadata": {},
   "outputs": [],
   "source": [
    "r_PG = Int.(load_json(\"$RESULTS_PATH/p_gibbs.json\")[\"r\"]);\n",
    "r_EM = Int.(load_json(\"$RESULTS_PATH/dual_em.json\")[\"r\"]);\n",
    "\n",
    "r_TR = Int.(abalone_data[:rings]);"
   ]
  },
  {
   "cell_type": "code",
   "execution_count": 23,
   "metadata": {},
   "outputs": [
    {
     "data": {
      "text/plain": [
       "5×29 Array{Float64,2}:\n",
       " 0.0         0.0         0.0        …  0.000646412  0.0  0.0       \n",
       " 0.00121655  0.00121655  0.0182482     0.0          0.0  0.0       \n",
       " 0.0         0.0         0.0           0.00176056   0.0  0.00176056\n",
       " 0.0         0.0         0.0           0.0          0.0  0.0       \n",
       " 0.0         0.0         0.0           0.0          0.0  0.0       "
      ]
     },
     "execution_count": 23,
     "metadata": {},
     "output_type": "execute_result"
    }
   ],
   "source": [
    "C_EM = 1.0*cooccurrences([r_EM r_TR])\n",
    "C_EM ./= sum(C_EM,dims=2)"
   ]
  },
  {
   "cell_type": "code",
   "execution_count": 24,
   "metadata": {},
   "outputs": [
    {
     "data": {
      "image/png": "[encoded data removed]",
      "text/plain": [
       "PyPlot.Figure(PyObject <Figure size 500x150 with 1 Axes>)"
      ]
     },
     "metadata": {},
     "output_type": "display_data"
    }
   ],
   "source": [
    "fig, ax = PyPlot.subplots(1,1,figsize=(5,1.5))\n",
    "Seaborn.heatmap(C_EM[[3,4,2,1],:]; cmap=\"viridis\", cbar=false, ax=ax)\n",
    "ax.set_xticks([0,5,10,15,20,25] .+ 0.5)\n",
    "ax.set_xticklabels([1,6,11,16,21,26])\n",
    "ax.set_xlabel(\"Age\")\n",
    "ax.set_yticks([0,1,2,3] .+ 0.5)\n",
    "ax.set_yticklabels([1,2,3,4])\n",
    "ax.set_ylabel(\"\\$r_1\\$\")\n",
    "#ax.set_title(\"Cooccurence matrix of 'latent variable vs abalone ages'\")\n",
    "PyPlot.savefig(\"./img/abalone_DEM.pdf\", bbox_inches=\"tight\");"
   ]
  },
  {
   "cell_type": "code",
   "execution_count": 25,
   "metadata": {},
   "outputs": [
    {
     "data": {
      "text/plain": [
       "5×29 Array{Float64,2}:\n",
       " 0.0         0.0         0.0        …  0.000646412  0.0  0.0       \n",
       " 0.00121655  0.00121655  0.0182482     0.0          0.0  0.0       \n",
       " 0.0         0.0         0.0           0.00176056   0.0  0.00176056\n",
       " 0.0         0.0         0.0           0.0          0.0  0.0       \n",
       " 0.0         0.0         0.0           0.0          0.0  0.0       "
      ]
     },
     "execution_count": 25,
     "metadata": {},
     "output_type": "execute_result"
    }
   ],
   "source": [
    "C_EM"
   ]
  },
  {
   "cell_type": "code",
   "execution_count": 26,
   "metadata": {},
   "outputs": [
    {
     "data": {
      "image/png": "[encoded data removed]",
      "text/plain": [
       "PyPlot.Figure(PyObject <Figure size 640x480 with 1 Axes>)"
      ]
     },
     "metadata": {},
     "output_type": "display_data"
    },
    {
     "data": {
      "text/plain": [
       "(-2.5, 5)"
      ]
     },
     "execution_count": 26,
     "metadata": {},
     "output_type": "execute_result"
    }
   ],
   "source": [
    "for r ∈ 1:R\n",
    "    PyPlot.scatter(X₁[r_EM .== r], X₂[r_EM .== r])\n",
    "end\n",
    "PyPlot.xlim(-2.5,5)\n",
    "PyPlot.ylim(-2.5,5)"
   ]
  },
  {
   "cell_type": "code",
   "execution_count": 27,
   "metadata": {},
   "outputs": [
    {
     "data": {
      "text/plain": [
       "5×29 Array{Float64,2}:\n",
       " 0.0        0.0        0.0       0.00540541  …  0.0         0.0  0.0        \n",
       " 0.0        0.0        0.0       0.0            0.0         0.0  0.0        \n",
       " 0.0        0.0        0.0       0.0            0.0         0.0  0.0        \n",
       " 0.0        0.0        0.0       0.0            0.00115473  0.0  0.000577367\n",
       " 0.0018622  0.0018622  0.027933  0.102421       0.0         0.0  0.0        "
      ]
     },
     "execution_count": 27,
     "metadata": {},
     "output_type": "execute_result"
    }
   ],
   "source": [
    "C_PG = 1.0*cooccurrences([r_PG Int.(abalone_data[:rings])])\n",
    "C_PG ./= sum(C_PG,dims=2)"
   ]
  },
  {
   "cell_type": "code",
   "execution_count": 28,
   "metadata": {},
   "outputs": [
    {
     "data": {
      "image/png": "[encoded data removed]",
      "text/plain": [
       "PyPlot.Figure(PyObject <Figure size 500x150 with 1 Axes>)"
      ]
     },
     "metadata": {},
     "output_type": "display_data"
    }
   ],
   "source": [
    "fig, ax = PyPlot.subplots(1,1,figsize=(5,1.5))\n",
    "Seaborn.heatmap(C_PG[[4,3,1,2],:]; cmap=\"viridis\", cbar=false, ax=ax)\n",
    "ax.set_xticks([0,5,10,15,20,25] .+ 0.5)\n",
    "ax.set_xticklabels([1,6,11,16,21,26])\n",
    "ax.set_xlabel(\"Age\")\n",
    "ax.set_yticks([0,1,2,3] .+ 0.5)\n",
    "ax.set_yticklabels([1,2,3,4])\n",
    "ax.set_ylabel(\"\\$r_1\\$\")\n",
    "#ax.set_title(\"Cooccurence matrix of 'latent variable vs abalone ages'\")\n",
    "PyPlot.savefig(\"./img/abalone_PG.pdf\", bbox_inches=\"tight\");"
   ]
  },
  {
   "cell_type": "code",
   "execution_count": 29,
   "metadata": {},
   "outputs": [
    {
     "data": {
      "image/png": "[encoded data removed]",
      "text/plain": [
       "PyPlot.Figure(PyObject <Figure size 640x480 with 1 Axes>)"
      ]
     },
     "metadata": {},
     "output_type": "display_data"
    },
    {
     "data": {
      "text/plain": [
       "(-2.5, 5)"
      ]
     },
     "execution_count": 29,
     "metadata": {},
     "output_type": "execute_result"
    }
   ],
   "source": [
    "for r ∈ 1:R\n",
    "    PyPlot.scatter(X₁[r_PG .== r], X₂[r_PG .== r])\n",
    "end\n",
    "PyPlot.xlim(-2.5,5)\n",
    "PyPlot.ylim(-2.5,5)"
   ]
  },
  {
   "cell_type": "code",
   "execution_count": 30,
   "metadata": {},
   "outputs": [
    {
     "data": {
      "image/png": "[encoded data removed]",
      "text/plain": [
       "PyPlot.Figure(PyObject <Figure size 640x480 with 1 Axes>)"
      ]
     },
     "metadata": {},
     "output_type": "display_data"
    }
   ],
   "source": [
    "PyPlot.scatter3D(X₁, X₂, r_TR)\n",
    "PyPlot.xlim(-2.5,4)\n",
    "PyPlot.ylim(-2.5,4)\n",
    "PyPlot.gca().view_init(30,-75)"
   ]
  }
 ],
 "metadata": {
  "hide_input": false,
  "kernelspec": {
   "display_name": "Julia 1.0.4",
   "language": "julia",
   "name": "julia-1.0"
  },
  "language_info": {
   "file_extension": ".jl",
   "mimetype": "application/julia",
   "name": "julia",
   "version": "1.0.4"
  },
  "latex_envs": {
   "LaTeX_envs_menu_present": false,
   "autoclose": false,
   "autocomplete": false,
   "bibliofile": "biblio.bib",
   "cite_by": "apalike",
   "current_citInitial": 1,
   "eqLabelWithNumbers": true,
   "eqNumInitial": 1,
   "hotkeys": {
    "equation": "Ctrl-E",
    "itemize": "Ctrl-I"
   },
   "labels_anchors": false,
   "latex_user_defs": false,
   "report_style_numbering": false,
   "user_envs_cfg": false
  }
 },
 "nbformat": 4,
 "nbformat_minor": 2
}
