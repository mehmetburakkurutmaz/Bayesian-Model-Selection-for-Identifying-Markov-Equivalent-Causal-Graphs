{
 "cells": [
  {
   "cell_type": "markdown",
   "metadata": {},
   "source": [
    "# CEP Pairs"
   ]
  },
  {
   "cell_type": "code",
   "execution_count": 1,
   "metadata": {},
   "outputs": [],
   "source": [
    "include(\"src/Misc.jl\");\n",
    "include(\"src/Datasets.jl\");"
   ]
  },
  {
   "cell_type": "code",
   "execution_count": 2,
   "metadata": {},
   "outputs": [],
   "source": [
    "using .Misc\n",
    "import .Datasets"
   ]
  },
  {
   "cell_type": "code",
   "execution_count": 3,
   "metadata": {},
   "outputs": [],
   "source": [
    "using Statistics, Distributions\n",
    "using SpecialFunctions, LinearAlgebra\n",
    "import Random: randperm, seed!\n",
    "\n",
    "using PyPlot\n",
    "seed!(1000);"
   ]
  },
  {
   "cell_type": "code",
   "execution_count": 4,
   "metadata": {},
   "outputs": [
    {
     "data": {
      "text/plain": [
       "36"
      ]
     },
     "execution_count": 4,
     "metadata": {},
     "output_type": "execute_result"
    }
   ],
   "source": [
    "MARKER = [\"o\", \"v\", \"d\", \"X\", \"p\", \"*\", \"P\"];\n",
    "RESULTS_PATH = \"./results/tuebingen/vb\";\n",
    "PARAMS_PATH = \"./params\";\n",
    "\n",
    "N_PARAMS = 36"
   ]
  },
  {
   "cell_type": "code",
   "execution_count": 5,
   "metadata": {},
   "outputs": [
    {
     "data": {
      "text/plain": [
       "split_data (generic function with 1 method)"
      ]
     },
     "execution_count": 5,
     "metadata": {},
     "output_type": "execute_result"
    }
   ],
   "source": [
    "function split_data(N,K)\n",
    "    splits = fill(Int(floor(N/K)),K)\n",
    "    splits[1:(N%K)] .+= 1\n",
    "    return [0; cumsum(splits)]\n",
    "end"
   ]
  },
  {
   "cell_type": "code",
   "execution_count": 6,
   "metadata": {
    "scrolled": true
   },
   "outputs": [
    {
     "data": {
      "text/plain": [
       "accuracy (generic function with 1 method)"
      ]
     },
     "execution_count": 6,
     "metadata": {},
     "output_type": "execute_result"
    }
   ],
   "source": [
    "function accuracy(models,g_truth; weights=ones(length(models)))\n",
    "    return sum((models .== g_truth) .* weights) / sum(weights)\n",
    "end"
   ]
  },
  {
   "cell_type": "code",
   "execution_count": 7,
   "metadata": {},
   "outputs": [
    {
     "data": {
      "text/plain": [
       "spurious_pairs (generic function with 1 method)"
      ]
     },
     "execution_count": 7,
     "metadata": {},
     "output_type": "execute_result"
    }
   ],
   "source": [
    "function spurious_pairs(models)\n",
    "    return (1:length(models))[(models .== 3)[:,1]]\n",
    "end"
   ]
  },
  {
   "cell_type": "markdown",
   "metadata": {},
   "source": [
    "## Read Results"
   ]
  },
  {
   "cell_type": "code",
   "execution_count": 8,
   "metadata": {
    "scrolled": false
   },
   "outputs": [
    {
     "name": "stderr",
     "output_type": "stream",
     "text": [
      "┌ Warning: readtable is deprecated, use CSV.read from the CSV package instead\n",
      "│   caller = ip:0x0\n",
      "└ @ Core :-1\n"
     ]
    }
   ],
   "source": [
    "valid_pairs = setdiff(1:100,[52,53,54,55,71])\n",
    "tuebingen_data = Datasets.tuebingen(valid_pairs);"
   ]
  },
  {
   "cell_type": "code",
   "execution_count": 9,
   "metadata": {},
   "outputs": [],
   "source": [
    "CEP_datasets = Dict(\n",
    "    \"Abalone\" => [5,6,7,8,9,10,11],\n",
    "    \"Armagan Tarim\" => [89,90,91],\n",
    "    \"Armann & Buelthoff\" => [66],\n",
    "    \"arrhythmia\" => [22,23,24],\n",
    "    \"auto-mpg\" => [13,14,15,16],\n",
    "    \"Bafu\" => [49,50,51],\n",
    "    \"bone-dataset\" => [83],\n",
    "    \"B.Janzing\" => [42,72],\n",
    "    \"census income\" => [12,17],\n",
    "    \"concrete_data\" => [25,26,27,28,29,30,31,32],\n",
    "    \"cpus\" => [95],\n",
    "    \"DWD\" => [1,2,3,4,20,21],\n",
    "    \"D.Janzing\" => [92,93],\n",
    "    \"Food and Agriculture\" => [71],\n",
    "    \"GAGurine\" => [18],\n",
    "    \"geyser\" => [19],\n",
    "    \"Hipel & Mcleod\" => [48],\n",
    "    \"liver_orders\" => [33,34,35,36,37],\n",
    "    \"Mahecha, M.\" => [76,77,78],\n",
    "    \"Moffat A.M.\" => [73,74,75],\n",
    "    \"Mooij\" => [65],\n",
    "    \"Mooij2\" => [81],\n",
    "    \"Mopex\" => [88],\n",
    "    \"ncep-ncar\" => [43,44,45,46],\n",
    "    \"nlschools\" => [94],\n",
    "    \"Oswald\" => [80],\n",
    "    \"pima indian diabetes\" =>[38,39,40,41],\n",
    "    \"Plant and Soil\" => [84,85,86,87],\n",
    "    \"P.Stark\" => [64],\n",
    "    \"spatial-econometrics\" => [79],\n",
    "    \"sunspot\" => [67],\n",
    "    \"traffic\" => [47],\n",
    "    \"UNdata\" => [52,53,54,55,56,57,58,59,60,68,69,70],\n",
    "    \"whistler-daily-snowfall\" => [82],\n",
    "    \"Yahoo\" => [61,62,63]\n",
    ");"
   ]
  },
  {
   "cell_type": "code",
   "execution_count": 10,
   "metadata": {},
   "outputs": [],
   "source": [
    "DS = [values(CEP_datasets)...];"
   ]
  },
  {
   "cell_type": "code",
   "execution_count": 11,
   "metadata": {
    "scrolled": true
   },
   "outputs": [
    {
     "data": {
      "text/plain": [
       "18"
      ]
     },
     "execution_count": 11,
     "metadata": {},
     "output_type": "execute_result"
    }
   ],
   "source": [
    "N_data = length(valid_pairs)\n",
    "N_datasets = length(CEP_datasets)\n",
    "N_mid = Int(ceil(N_datasets/2))"
   ]
  },
  {
   "cell_type": "code",
   "execution_count": 12,
   "metadata": {},
   "outputs": [],
   "source": [
    "params = [Dict(Symbol(String(p)) => v for (p,v) ∈ load_json(\"$PARAMS_PATH/params-$n.json\"))\n",
    "                                      for n ∈ 1:N_PARAMS];"
   ]
  },
  {
   "cell_type": "code",
   "execution_count": 13,
   "metadata": {},
   "outputs": [],
   "source": [
    "results = zeros(N_PARAMS,N_data,3,5,3)\n",
    "\n",
    "for n ∈ 1:N_PARAMS, pair ∈ 1:length(valid_pairs)\n",
    "    result = load_json(\"$RESULTS_PATH/params-$n/$(tuebingen_data[pair][:id]).json\")[\"scores\"]\n",
    "    for dir ∈ 1:3, r ∈ 1:5, m ∈ 1:3\n",
    "        results[n,pair,dir,r,m] = result[m][r][dir]\n",
    "    end\n",
    "end"
   ]
  },
  {
   "cell_type": "code",
   "execution_count": 14,
   "metadata": {},
   "outputs": [],
   "source": [
    "ground_truth = ['>' in pair[:relationship] ? 1 : 2 for pair ∈ tuebingen_data];\n",
    "weights = [pair[:weight] for pair ∈ tuebingen_data];"
   ]
  },
  {
   "cell_type": "markdown",
   "metadata": {},
   "source": [
    "## Empirical Bayes"
   ]
  },
  {
   "cell_type": "code",
   "execution_count": 15,
   "metadata": {},
   "outputs": [
    {
     "data": {
      "text/plain": [
       "0.48576914614876887"
      ]
     },
     "execution_count": 15,
     "metadata": {},
     "output_type": "execute_result"
    }
   ],
   "source": [
    "labels_eb = [findmax(nanmax(results[:,n,1:2,:,:],(1,3,4)))[2] for n ∈ 1:N_data]\n",
    "accuracy(labels_eb,ground_truth;weights=weights)"
   ]
  },
  {
   "cell_type": "code",
   "execution_count": 16,
   "metadata": {},
   "outputs": [],
   "source": [
    "labels_all = [findmax(nanmax(results[p,n,:,:,:],(2,3)))[2] for p ∈ 1:N_PARAMS, n ∈ 1:N_data];\n",
    "labels_two = [findmax(nanmax(results[p,n,1:2,:,:],(2,3)))[2] for p ∈ 1:N_PARAMS, n ∈ 1:N_data];"
   ]
  },
  {
   "cell_type": "markdown",
   "metadata": {},
   "source": [
    "## $M \\times K$ Cross Validation "
   ]
  },
  {
   "cell_type": "code",
   "execution_count": 17,
   "metadata": {},
   "outputs": [],
   "source": [
    "M, K = 10, 3\n",
    "performance = zeros(M,K);\n",
    "splits = split_data(length(valid_pairs),K);"
   ]
  },
  {
   "cell_type": "code",
   "execution_count": 18,
   "metadata": {},
   "outputs": [],
   "source": [
    "for m ∈ 1:M\n",
    "    perm_pairs = randperm(N_data)\n",
    "    for k ∈ 1:K\n",
    "        test = perm_pairs[splits[k]+1:splits[k+1]]\n",
    "        train = setdiff(perm_pairs,test)\n",
    "    \n",
    "        tr_acc = [accuracy(labels_two[n,train], ground_truth[train]; weights=weights[train]) for n ∈ 1:N_PARAMS]\n",
    "        p_setting = findmax(tr_acc)[2]\n",
    "        performance[m,k] = accuracy(labels_two[p_setting,test], ground_truth[test]; weights=weights[test])\n",
    "    end\n",
    "end"
   ]
  },
  {
   "cell_type": "code",
   "execution_count": 19,
   "metadata": {},
   "outputs": [
    {
     "data": {
      "image/png": "[encoded data removed]",
      "text/plain": [
       "Figure(PyObject <Figure size 640x480 with 1 Axes>)"
      ]
     },
     "metadata": {},
     "output_type": "display_data"
    },
    {
     "name": "stdout",
     "output_type": "stream",
     "text": [
      "%68 CI => 0.7851950373637865 ± 0.08809025477375333\n"
     ]
    }
   ],
   "source": [
    "PyPlot.hist(performance[:]);\n",
    "println(\"%68 CI => $(nanmean(performance)) ± $(nanstd(performance))\")"
   ]
  },
  {
   "cell_type": "markdown",
   "metadata": {},
   "source": [
    "# ROC (K-fold)"
   ]
  },
  {
   "cell_type": "code",
   "execution_count": 20,
   "metadata": {},
   "outputs": [],
   "source": [
    "M, K = 10, 3\n",
    "AUCs = zeros(M,K)\n",
    "splits = split_data(length(valid_pairs),K);"
   ]
  },
  {
   "cell_type": "code",
   "execution_count": 21,
   "metadata": {},
   "outputs": [],
   "source": [
    "for m ∈ 1:M\n",
    "    perm_pairs = randperm(N_data)\n",
    "    for k ∈ 1:K\n",
    "        test = perm_pairs[splits[k]+1:splits[k+1]]\n",
    "        train = setdiff(perm_pairs,test)\n",
    "    \n",
    "        tr_acc = [accuracy(labels_two[n,train], ground_truth[train]; weights=weights[train]) for n ∈ 1:N_PARAMS]\n",
    "        p_setting = findmax(tr_acc)[2]\n",
    "        \n",
    "        score = nanmax(results[p_setting,test,1,:,:],(2,3)) .- nanmax(results[p_setting,test,2,:,:],(2,3))\n",
    "        AUCs[m,k] = AUC(score, ground_truth[test], 1; weights=weights[test])\n",
    "    end    \n",
    "end"
   ]
  },
  {
   "cell_type": "code",
   "execution_count": 22,
   "metadata": {
    "scrolled": false
   },
   "outputs": [
    {
     "data": {
      "image/png": "[encoded data removed]",
      "text/plain": [
       "Figure(PyObject <Figure size 640x480 with 1 Axes>)"
      ]
     },
     "metadata": {},
     "output_type": "display_data"
    },
    {
     "name": "stdout",
     "output_type": "stream",
     "text": [
      "%68 CI => 0.840990629340226 ± 0.12944816732391592\n"
     ]
    }
   ],
   "source": [
    "PyPlot.hist(AUCs[:]);\n",
    "println(\"%68 CI => $(nanmean(AUCs)) ± $(nanstd(AUCs))\")"
   ]
  },
  {
   "cell_type": "markdown",
   "metadata": {},
   "source": [
    "## Accuracy of Each Parameter"
   ]
  },
  {
   "cell_type": "code",
   "execution_count": 23,
   "metadata": {},
   "outputs": [
    {
     "data": {
      "text/plain": [
       "(0.8234922666788579, 13)"
      ]
     },
     "execution_count": 23,
     "metadata": {},
     "output_type": "execute_result"
    }
   ],
   "source": [
    "acc = [accuracy(labels_two[n,:],ground_truth; weights=weights) for n ∈ 1:N_PARAMS];\n",
    "findmax(acc)"
   ]
  },
  {
   "cell_type": "code",
   "execution_count": 27,
   "metadata": {},
   "outputs": [
    {
     "data": {
      "image/png": "[encoded data removed]",
      "text/plain": [
       "Figure(PyObject <Figure size 800x600 with 4 Axes>)"
      ]
     },
     "metadata": {},
     "output_type": "display_data"
    }
   ],
   "source": [
    "spr_pairs = [19, 86, 87, 93]\n",
    "R, C = 2, Int(ceil(length(spr_pairs)/2))\n",
    "fig, ax = PyPlot.subplots(2,2,figsize=(4*C,R*3))\n",
    "\n",
    "for (ord, pr) ∈ enumerate(spr_pairs)\n",
    "    plot_pair(tuebingen_data[pr]; ax=ax[ord], normalize=true, alpha=0.5)\n",
    "    ax[ord].set_title(tuebingen_data[pr][:id])\n",
    "end\n",
    "PyPlot.tight_layout()\n",
    "PyPlot.savefig(\"./img/spr_pairs.pdf\", bbox_inches=\"tight\");"
   ]
  },
  {
   "cell_type": "code",
   "execution_count": 28,
   "metadata": {},
   "outputs": [
    {
     "ename": "BoundsError",
     "evalue": "BoundsError: attempt to access 36×95×3×5×3 Array{Float64,5} at index [20, 19, Base.Slice(Base.OneTo(3)), 3]",
     "output_type": "error",
     "traceback": [
      "BoundsError: attempt to access 36×95×3×5×3 Array{Float64,5} at index [20, 19, Base.Slice(Base.OneTo(3)), 3]",
      "",
      "Stacktrace:",
      " [1] throw_boundserror(::Array{Float64,5}, ::Tuple{Int64,Int64,Base.Slice{Base.OneTo{Int64}},Int64}) at ./abstractarray.jl:484",
      " [2] checkbounds at ./abstractarray.jl:449 [inlined]",
      " [3] _getindex at ./multidimensional.jl:596 [inlined]",
      " [4] getindex(::Array{Float64,5}, ::Int64, ::Int64, ::Function, ::Int64) at ./abstractarray.jl:905",
      " [5] (::getfield(Main, Symbol(\"##26#27\")))(::Int64) at ./none:0",
      " [6] iterate at ./generator.jl:47 [inlined]",
      " [7] collect(::Base.Generator{Array{Int64,1},getfield(Main, Symbol(\"##26#27\"))}) at ./array.jl:619",
      " [8] top-level scope at In[28]:1"
     ]
    }
   ],
   "source": [
    "[findmax(results[13,n,:,3])[2] for n ∈ spr_pairs]"
   ]
  },
  {
   "cell_type": "code",
   "execution_count": 33,
   "metadata": {},
   "outputs": [
    {
     "data": {
      "text/plain": [
       "Dict{Symbol,Any} with 13 entries:\n",
       "  :b₁   => 10.0\n",
       "  :Rs   => Any[1, 2, 3, 4, 5]\n",
       "  :a₂   => 10.0\n",
       "  :m₁   => 0.0\n",
       "  :λ₁   => 0.1\n",
       "  :a₁   => 100.0\n",
       "  :name => \"params-13\"\n",
       "  :γ    => 10.0\n",
       "  :P    => 1000\n",
       "  :Ms   => Any[2, 3, 4]\n",
       "  :λ₂   => 0.1\n",
       "  :m₂   => 0.0\n",
       "  :b₂   => 1.0"
      ]
     },
     "execution_count": 33,
     "metadata": {},
     "output_type": "execute_result"
    }
   ],
   "source": [
    "params[13]"
   ]
  },
  {
   "cell_type": "markdown",
   "metadata": {},
   "source": [
    "## Tables"
   ]
  },
  {
   "cell_type": "code",
   "execution_count": 29,
   "metadata": {},
   "outputs": [],
   "source": [
    "import Printf: @sprintf"
   ]
  },
  {
   "cell_type": "code",
   "execution_count": 30,
   "metadata": {
    "scrolled": false
   },
   "outputs": [
    {
     "name": "stdout",
     "output_type": "stream",
     "text": [
      "\\begin{tabular}{|ll|rrrrrrr|}\n",
      "\\hline\n",
      " & \\# & $\\gamma_1$ & $\\lambda_{n \\mid r_1}$ & $m_{n \\mid r_1}$ & $a_1$ & $b_1$ & $a_2$ & $b_2$ \\\\\n",
      "\\hline\n",
      "\\multirow{36}{*}{\\rotatebox[origin=c]{90}{\\textsc{Hyperparameter Setting}}}\n",
      " & 1 & 10.0 & 0.1 & 0.0 & 100.0 & 100.0 & 100.0 & 100.0 \\\\\n",
      " & 2 & 10.0 & 0.1 & 0.0 & 100.0 & 100.0 & 100.0 & 100.0 \\\\\n",
      " & 3 & 10.0 & 0.1 & 0.0 & 100.0 & 100.0 & 100.0 & 100.0 \\\\\n",
      " & 4 & 10.0 & 0.1 & 0.0 & 100.0 & 10.0 & 100.0 & 100.0 \\\\\n",
      " & 5 & 10.0 & 0.1 & 0.0 & 100.0 & 10.0 & 100.0 & 100.0 \\\\\n",
      " & 6 & 10.0 & 0.1 & 0.0 & 100.0 & 10.0 & 100.0 & 100.0 \\\\\n",
      " & 7 & 10.0 & 0.1 & 0.0 & 100.0 & 1.0 & 100.0 & 100.0 \\\\\n",
      " & 8 & 10.0 & 0.1 & 0.0 & 100.0 & 1.0 & 100.0 & 100.0 \\\\\n",
      " & 9 & 10.0 & 0.1 & 0.0 & 100.0 & 1.0 & 100.0 & 100.0 \\\\\n",
      " & 10 & 10.0 & 0.1 & 0.0 & 100.0 & 100.0 & 10.0 & 10.0 \\\\\n",
      " & 11 & 10.0 & 0.1 & 0.0 & 100.0 & 100.0 & 10.0 & 10.0 \\\\\n",
      " & 12 & 10.0 & 0.1 & 0.0 & 100.0 & 10.0 & 10.0 & 10.0 \\\\\n",
      " & 13 & 10.0 & 0.1 & 0.0 & 100.0 & 10.0 & 10.0 & 10.0 \\\\\n",
      " & 14 & 10.0 & 0.1 & 0.0 & 100.0 & 1.0 & 10.0 & 10.0 \\\\\n",
      " & 15 & 10.0 & 0.1 & 0.0 & 100.0 & 1.0 & 10.0 & 10.0 \\\\\n",
      " & 16 & 10.0 & 0.1 & 0.0 & 100.0 & 100.0 & 1.0 & 1.0 \\\\\n",
      " & 17 & 10.0 & 0.1 & 0.0 & 100.0 & 10.0 & 1.0 & 1.0 \\\\\n",
      " & 18 & 10.0 & 0.1 & 0.0 & 100.0 & 1.0 & 1.0 & 1.0 \\\\\n",
      " & 19 & 10.0 & 0.1 & 0.0 & 10.0 & 10.0 & 100.0 & 100.0 \\\\\n",
      " & 20 & 10.0 & 0.1 & 0.0 & 10.0 & 10.0 & 100.0 & 100.0 \\\\\n",
      " & 21 & 10.0 & 0.1 & 0.0 & 10.0 & 10.0 & 100.0 & 100.0 \\\\\n",
      " & 22 & 10.0 & 0.1 & 0.0 & 10.0 & 1.0 & 100.0 & 100.0 \\\\\n",
      " & 23 & 10.0 & 0.1 & 0.0 & 10.0 & 1.0 & 100.0 & 100.0 \\\\\n",
      " & 24 & 10.0 & 0.1 & 0.0 & 10.0 & 1.0 & 100.0 & 100.0 \\\\\n",
      " & 25 & 10.0 & 0.1 & 0.0 & 10.0 & 10.0 & 10.0 & 10.0 \\\\\n",
      " & 26 & 10.0 & 0.1 & 0.0 & 10.0 & 10.0 & 10.0 & 10.0 \\\\\n",
      " & 27 & 10.0 & 0.1 & 0.0 & 10.0 & 1.0 & 10.0 & 10.0 \\\\\n",
      " & 28 & 10.0 & 0.1 & 0.0 & 10.0 & 1.0 & 10.0 & 10.0 \\\\\n",
      " & 29 & 10.0 & 0.1 & 0.0 & 10.0 & 10.0 & 1.0 & 1.0 \\\\\n",
      " & 30 & 10.0 & 0.1 & 0.0 & 10.0 & 1.0 & 1.0 & 1.0 \\\\\n",
      " & 31 & 10.0 & 0.1 & 0.0 & 1.0 & 1.0 & 100.0 & 100.0 \\\\\n",
      " & 32 & 10.0 & 0.1 & 0.0 & 1.0 & 1.0 & 100.0 & 100.0 \\\\\n",
      " & 33 & 10.0 & 0.1 & 0.0 & 1.0 & 1.0 & 100.0 & 100.0 \\\\\n",
      " & 34 & 10.0 & 0.1 & 0.0 & 1.0 & 1.0 & 10.0 & 10.0 \\\\\n",
      " & 35 & 10.0 & 0.1 & 0.0 & 1.0 & 1.0 & 10.0 & 10.0 \\\\\n",
      " & 36 & 10.0 & 0.1 & 0.0 & 1.0 & 1.0 & 1.0 & 1.0 \\\\\n",
      "\\hline\n",
      "\\end{tabular}"
     ]
    }
   ],
   "source": [
    "bottom = \"\"\"\\\\hline\n",
    "\\\\end{tabular}\"\"\"\n",
    "\n",
    "top = \"\"\"\n",
    "\\\\begin{tabular}{|ll|rrrrrrr|}\n",
    "\\\\hline\n",
    " & \\\\# & \\$\\\\gamma_1\\$ & \\$\\\\lambda_{n \\\\mid r_1}\\$ & \\$m_{n \\\\mid r_1}\\$ & \\$a_1\\$ & \\$b_1\\$ & \\$a_2\\$ & \\$b_2\\$ \\\\\\\\\n",
    "\\\\hline\n",
    "\\\\multirow{36}{*}{\\\\rotatebox[origin=c]{90}{\\\\textsc{Hyperparameter Setting}}}\n",
    "\"\"\"\n",
    "\n",
    "middle = \"\"\n",
    "for pr in 1:N_PARAMS\n",
    "    a₁, a₂, b₁, b₂ = params[pr][:a₁], params[pr][:a₂], params[pr][:b₁], params[pr][:b₂]\n",
    "    middle *= \" & $(pr) & 10.0 & 0.1 & 0.0 & $(a₁) & $(b₁) & $(a₂) & $(a₂) \\\\\\\\\\n\"\n",
    "end\n",
    "\n",
    "print(top*middle*bottom)"
   ]
  },
  {
   "cell_type": "code",
   "execution_count": 31,
   "metadata": {},
   "outputs": [
    {
     "name": "stdout",
     "output_type": "stream",
     "text": [
      "\\begin{tabular}{|ll|rrrr|}\n",
      "\\hline\n",
      " & \\# & $\\to$ & $\\leftarrow$ & $\\wedge$ & \\textsc{Accuracy} \\\\\n",
      "\\hline\n",
      "\\multirow{36}{*}{\\rotatebox[origin=c]{90}{\\textsc{Hyperparameter Setting}}}\n",
      " & 1 & 0 & 0 & 95 & 0.50 \\\\\n",
      " & 2 & 1 & 0 & 94 & 0.35 \\\\\n",
      " & 3 & 2 & 0 & 93 & 0.31 \\\\\n",
      " & 4 & 0 & 0 & 95 & 0.73 \\\\\n",
      " & 5 & 0 & 1 & 94 & 0.60 \\\\\n",
      " & 6 & 2 & 1 & 92 & 0.37 \\\\\n",
      " & 7 & 0 & 1 & 94 & 0.75 \\\\\n",
      " & 8 & 1 & 2 & 92 & 0.75 \\\\\n",
      " & 9 & 0 & 2 & 93 & 0.61 \\\\\n",
      " & 10 & 1 & 0 & 94 & 0.48 \\\\\n",
      " & 11 & 2 & 0 & 93 & 0.35 \\\\\n",
      " & 12 & 0 & 1 & 94 & 0.72 \\\\\n",
      " & 13 & 2 & 1 & 92 & 0.82 \\\\\n",
      " & 14 & 0 & 2 & 93 & 0.73 \\\\\n",
      " & 15 & 1 & 2 & 92 & 0.73 \\\\\n",
      " & 16 & 2 & 0 & 93 & 0.42 \\\\\n",
      " & 17 & 2 & 1 & 92 & 0.80 \\\\\n",
      " & 18 & 1 & 2 & 92 & 0.71 \\\\\n",
      " & 19 & 0 & 0 & 95 & 0.58 \\\\\n",
      " & 20 & 0 & 1 & 94 & 0.29 \\\\\n",
      " & 21 & 2 & 1 & 92 & 0.30 \\\\\n",
      " & 22 & 0 & 1 & 94 & 0.72 \\\\\n",
      " & 23 & 1 & 2 & 92 & 0.29 \\\\\n",
      " & 24 & 3 & 1 & 91 & 0.28 \\\\\n",
      " & 25 & 0 & 1 & 94 & 0.57 \\\\\n",
      " & 26 & 2 & 1 & 92 & 0.37 \\\\\n",
      " & 27 & 1 & 2 & 92 & 0.70 \\\\\n",
      " & 28 & 1 & 2 & 92 & 0.65 \\\\\n",
      " & 29 & 2 & 1 & 92 & 0.39 \\\\\n",
      " & 30 & 1 & 2 & 92 & 0.74 \\\\\n",
      " & 31 & 0 & 1 & 94 & 0.65 \\\\\n",
      " & 32 & 1 & 2 & 92 & 0.22 \\\\\n",
      " & 33 & 2 & 2 & 91 & 0.27 \\\\\n",
      " & 34 & 1 & 2 & 92 & 0.67 \\\\\n",
      " & 35 & 2 & 1 & 92 & 0.27 \\\\\n",
      " & 36 & 1 & 2 & 92 & 0.58 \\\\\n",
      "\\hline\n",
      "\\end{tabular}"
     ]
    }
   ],
   "source": [
    "bottom = \"\"\"\\\\hline\n",
    "\\\\end{tabular}\"\"\"\n",
    "\n",
    "top = \"\"\"\n",
    "\\\\begin{tabular}{|ll|rrrr|}\n",
    "\\\\hline\n",
    " & \\\\# & \\$\\\\to\\$ & \\$\\\\leftarrow\\$ & \\$\\\\wedge\\$ & \\\\textsc{Accuracy} \\\\\\\\\n",
    "\\\\hline\n",
    "\\\\multirow{36}{*}{\\\\rotatebox[origin=c]{90}{\\\\textsc{Hyperparameter Setting}}}\n",
    "\"\"\"\n",
    "\n",
    "middle = \"\"\n",
    "for pr in 1:N_PARAMS\n",
    "    x2y = sum(labels_all[pr,:] .== 1)\n",
    "    y2x = sum(labels_all[pr,:] .== 2)\n",
    "    xry = sum(labels_all[pr,:] .== 3)\n",
    "    acc_pr = @sprintf(\"%.2f\",acc[pr])\n",
    "    middle *= \" & $(pr) & $(x2y) & $(y2x) & $(xry) & $(acc_pr) \\\\\\\\\\n\"\n",
    "end\n",
    "\n",
    "print(top*middle*bottom)"
   ]
  }
 ],
 "metadata": {
  "hide_input": false,
  "kernelspec": {
   "display_name": "Julia 1.0.5",
   "language": "julia",
   "name": "julia-1.0"
  },
  "language_info": {
   "file_extension": ".jl",
   "mimetype": "application/julia",
   "name": "julia",
   "version": "1.0.5"
  },
  "latex_envs": {
   "LaTeX_envs_menu_present": false,
   "autoclose": false,
   "autocomplete": false,
   "bibliofile": "biblio.bib",
   "cite_by": "apalike",
   "current_citInitial": 1,
   "eqLabelWithNumbers": true,
   "eqNumInitial": 1,
   "hotkeys": {
    "equation": "Ctrl-E",
    "itemize": "Ctrl-I"
   },
   "labels_anchors": false,
   "latex_user_defs": false,
   "report_style_numbering": false,
   "user_envs_cfg": false
  }
 },
 "nbformat": 4,
 "nbformat_minor": 2
}
