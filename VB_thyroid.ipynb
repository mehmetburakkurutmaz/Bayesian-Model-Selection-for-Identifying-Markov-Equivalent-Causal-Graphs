{
 "cells": [
  {
   "cell_type": "code",
   "execution_count": 1,
   "metadata": {},
   "outputs": [],
   "source": [
    "using Statistics, Distributions\n",
    "using SpecialFunctions, LinearAlgebra\n",
    "import Base.Iterators: product\n",
    "import Clustering: kmeans\n",
    "import PyPlot\n",
    "\n",
    "using Random: seed!"
   ]
  },
  {
   "cell_type": "code",
   "execution_count": 2,
   "metadata": {},
   "outputs": [],
   "source": [
    "include(\"./src/Misc.jl\")\n",
    "include(\"./src/BayesianCausality.jl\")\n",
    "include(\"./src/Datasets.jl\")\n",
    "\n",
    "using .Misc\n",
    "import .Datasets\n",
    "import .BayesianCausality: v_bayes"
   ]
  },
  {
   "cell_type": "markdown",
   "metadata": {},
   "source": [
    "## Trying the new library functions"
   ]
  },
  {
   "cell_type": "code",
   "execution_count": 3,
   "metadata": {},
   "outputs": [
    {
     "data": {
      "text/plain": [
       "make_param (generic function with 1 method)"
      ]
     },
     "execution_count": 3,
     "metadata": {},
     "output_type": "execute_result"
    }
   ],
   "source": [
    "function make_param(R::Int, M::Int; γᵣ, m₁ᵣ, m₂ᵣ, λ₁ᵣ, λ₂ᵣ, a₁ᵣ, a₂ᵣ, b₁ᵣ, b₂ᵣ)\n",
    "    return  Dict(:γ=>fill(γᵣ,R), :m₁=>zeros(R), :m₂=>zeros(R,M), :Λ₁=>fill(λ₁ᵣ,R), \n",
    "        :Λ₂=>zeros(R,M,M) .+ λ₂ᵣ*reshape(diagm(0 => ones(M)),1,M,M), :a₁=>fill(a₁ᵣ,R), \n",
    "        :a₂=>fill(a₂ᵣ,R), :b₁=>fill(b₁ᵣ,R), :b₂=>fill(b₂ᵣ,R));\n",
    "end"
   ]
  },
  {
   "cell_type": "markdown",
   "metadata": {},
   "source": [
    "## Functions"
   ]
  },
  {
   "cell_type": "code",
   "execution_count": 4,
   "metadata": {},
   "outputs": [],
   "source": [
    "mutable struct Particle{ℜ <: Real}\n",
    "    r::Array{Int,1}\n",
    "    Σ_R::Array{ℜ,1}\n",
    "    Σ_Xₙ::Array{ℜ,2}\n",
    "    Σ_Xₙ²::Array{ℜ,2}\n",
    "\n",
    "    function Particle(X::Array{ℜ,2}, R::Int; N::Int=1) where {ℜ <: Real}\n",
    "        T, N = size(X)\n",
    "        return new{ℜ}(zeros(Int,T), zeros(ℜ,R), zeros(ℜ,R,N), zeros(ℜ,R,N))\n",
    "    end\n",
    "    \n",
    "    function Particle(r::Array{Int,1}, Σ_R::Array{Int,1}, Σ_Xₙ::Array{ℜ,2}, Σ_Xₙ²::Array{ℜ,2}) where {ℜ <: Real}\n",
    "        return new{ℜ}(copy(r), copy(Σ_R), copy(Σ_Xₙ), copy(Σ_Xₙ²))\n",
    "    end\n",
    "    \n",
    "    function Particle(p::Particle{ℜ}) where {ℜ <: Real}\n",
    "        return new{ℜ}(copy(p.r), copy(p.Σ_R), copy(p.Σ_Xₙ), copy(p.Σ_Xₙ²))\n",
    "    end \n",
    "end"
   ]
  },
  {
   "cell_type": "code",
   "execution_count": 5,
   "metadata": {},
   "outputs": [
    {
     "data": {
      "text/plain": [
       "naive_bayes (generic function with 2 methods)"
      ]
     },
     "execution_count": 5,
     "metadata": {},
     "output_type": "execute_result"
    }
   ],
   "source": [
    "function naive_bayes(X::Array{ℜ,2}, R::Ƶ=1; γ::Array{ℜ,1}, m::Array{ℜ,2}, Λ::Array{ℜ,2}, \n",
    "        a::Array{ℜ,2}, b::Array{ℜ,2}, EPOCHS=1) where {ℜ<:Real, Ƶ<:Integer}\n",
    "    T, N = size(X)\n",
    "    ELBO = zeros(EPOCHS)\n",
    "    \n",
    "    p = Particle(X, R; N=N)\n",
    "    p.r .=  T < R ? [1:T...] : R > 1 ? kmeans(Array(X'),R).assignments : ones(Int,T)\n",
    "    \n",
    "    x, γʰ = zeros(1,N), zeros(R)\n",
    "    Λʰ, mʰ = zeros(R,N), zeros(R,N)\n",
    "    aʰ, bʰ = zeros(R,N), zeros(R,N)\n",
    "    \n",
    "    log_q, q = zeros(R), zeros(R)\n",
    "    ρ, log_ρ, log_θ = zeros(R,N), zeros(R,N), zeros(R)\n",
    "    \n",
    "    for (t,r) ∈ enumerate(p.r)\n",
    "        p.Σ_R[r] += 1.0\n",
    "        p.Σ_Xₙ[r,:] .+= X[t,:]\n",
    "        p.Σ_Xₙ²[r,:] .+= X[t,:] .* X[t,:]\n",
    "    end\n",
    "    \n",
    "    for eph ∈ 1:EPOCHS\n",
    "        γʰ .= γ .+ p.Σ_R\n",
    "        Λʰ .= Λ .+ p.Σ_R\n",
    "        mʰ .= (Λ .* m .+ p.Σ_Xₙ) ./ Λʰ\n",
    "        aʰ .= a .+ p.Σ_R ./ 2\n",
    "        bʰ .= b .+ (p.Σ_Xₙ² .- mʰ .* Λʰ.* mʰ .+ m .* Λ .* m) ./ 2\n",
    "        \n",
    "        log_ρ .= digamma.(aʰ) .- log.(bʰ)\n",
    "        ρ .= aʰ ./ bʰ\n",
    "        log_θ .= digamma.(γʰ) .- digamma(sum(γ)+T)\n",
    "        \n",
    "        ELBO[eph] += (γ .- γʰ)'*log_θ\n",
    "        ELBO[eph] += lgamma(sum(γ)) - sum(lgamma,γ)\n",
    "        ELBO[eph] -= lgamma(sum(γ)+T) - sum(lgamma,γʰ)\n",
    "        ELBO[eph] += sum(a .* log.(b)) - sum(aʰ .* log.(bʰ))\n",
    "        ELBO[eph] += sum(lgamma,aʰ) - sum(lgamma,a)\n",
    "        ELBO[eph] += (sum(log,Λ) - sum(log,Λʰ))/2\n",
    "        ELBO[eph] += sum(1.0 .- Λ ./ Λʰ)/2\n",
    "        ELBO[eph] += sum((a .- aʰ) .* log_ρ) - sum((b .- bʰ) .* ρ)\n",
    "        ELBO[eph] -= sum(ρ .* Λ .* (mʰ .- m).^2)/2\n",
    "        \n",
    "        p.Σ_R .= 0.0\n",
    "        p.Σ_Xₙ .= 0.0\n",
    "        p.Σ_Xₙ² .= 0.0\n",
    "        \n",
    "        for t ∈ 1:T\n",
    "            x[:] .= X[t,:]\n",
    "            \n",
    "            log_q .= log_θ \n",
    "            log_q .+= sum(log_ρ .- ρ .* (x .- mʰ).^2 .- 1.0 ./ Λʰ,2)./2\n",
    "            log_q .-= logsumexp(log_q)\n",
    "            q .= exp.(log_q)\n",
    "                            \n",
    "            p.Σ_R .+= q\n",
    "            p.Σ_Xₙ .+= q * x[:]'\n",
    "            p.Σ_Xₙ² .+= q * (x .* x)[:]'\n",
    "                \n",
    "            ELBO[eph] += q'*(log_θ .- log_q)\n",
    "            ELBO[eph] += sum(q'*(log_ρ .- ρ .* (x .- mʰ).^2 .- 1.0 ./ Λʰ))/2\n",
    "\n",
    "            p.r[t] = argmax(log_q)\n",
    "        end\n",
    "                \n",
    "        ELBO[eph] -= T*log(2π)\n",
    "        if eph > 1 && ELBO[eph] - ELBO[eph-1] < 1e-6\n",
    "            ELBO = ELBO[1:eph]\n",
    "            break\n",
    "        end\n",
    "    end\n",
    "    return ELBO, p.r\n",
    "end"
   ]
  },
  {
   "cell_type": "markdown",
   "metadata": {},
   "source": [
    "# Thyroid"
   ]
  },
  {
   "cell_type": "code",
   "execution_count": 6,
   "metadata": {},
   "outputs": [],
   "source": [
    "C = Int.(Datasets.load(\"Thyroid\",[:class])[:])\n",
    "X = Datasets.load(\"Thyroid\",[2:6...])\n",
    "\n",
    "Xⁿ = X .- mean(X;dims=1)\n",
    "Xⁿ = Xⁿ ./ std(Xⁿ;dims=1);"
   ]
  },
  {
   "cell_type": "code",
   "execution_count": 7,
   "metadata": {},
   "outputs": [
    {
     "data": {
      "text/plain": [
       "(0.0, 1.0, 1.0)"
      ]
     },
     "execution_count": 7,
     "metadata": {},
     "output_type": "execute_result"
    }
   ],
   "source": [
    "T, N = size(Xⁿ)\n",
    "\n",
    "Λᵣ, γᵣ = 0.1, 10.\n",
    "mᵣ, aᵣ, bᵣ = 0., 1., 1."
   ]
  },
  {
   "cell_type": "code",
   "execution_count": 8,
   "metadata": {},
   "outputs": [
    {
     "name": "stderr",
     "output_type": "stream",
     "text": [
      "┌ Warning: `lgamma(x::Real)` is deprecated, use `(logabsgamma(x))[1]` instead.\n",
      "│   caller = #naive_bayes#6(::Array{Float64,1}, ::Array{Float64,2}, ::Array{Float64,2}, ::Array{Float64,2}, ::Array{Float64,2}, ::Int64, ::Function, ::Array{Float64,2}, ::Int64) at In[5]:34\n",
      "└ @ Main ./In[5]:34\n",
      "┌ Warning: `lgamma(x::Real)` is deprecated, use `(logabsgamma(x))[1]` instead.\n",
      "│   caller = mapreduce_first at reduce.jl:295 [inlined]\n",
      "└ @ Core ./reduce.jl:295\n",
      "┌ Warning: `lgamma(x::Real)` is deprecated, use `(logabsgamma(x))[1]` instead.\n",
      "│   caller = #naive_bayes#6(::Array{Float64,1}, ::Array{Float64,2}, ::Array{Float64,2}, ::Array{Float64,2}, ::Array{Float64,2}, ::Int64, ::Function, ::Array{Float64,2}, ::Int64) at In[5]:35\n",
      "└ @ Main ./In[5]:35\n",
      "┌ Warning: `lgamma(x::Real)` is deprecated, use `(logabsgamma(x))[1]` instead.\n",
      "│   caller = _mapreduce(::typeof(lgamma), ::typeof(Base.add_sum), ::IndexLinear, ::Array{Float64,2}) at reduce.jl:311\n",
      "└ @ Base ./reduce.jl:311\n",
      "┌ Warning: `lgamma(x::Real)` is deprecated, use `(logabsgamma(x))[1]` instead.\n",
      "│   caller = _mapreduce(::typeof(lgamma), ::typeof(Base.add_sum), ::IndexLinear, ::Array{Float64,2}) at reduce.jl:311\n",
      "└ @ Base ./reduce.jl:311\n",
      "┌ Warning: `lgamma(x::Real)` is deprecated, use `(logabsgamma(x))[1]` instead.\n",
      "│   caller = _mapreduce(::typeof(lgamma), ::typeof(Base.add_sum), ::IndexLinear, ::Array{Float64,2}) at reduce.jl:314\n",
      "└ @ Base ./reduce.jl:314\n",
      "┌ Warning: `lgamma(x::Real)` is deprecated, use `(logabsgamma(x))[1]` instead.\n",
      "│   caller = _mapreduce(::typeof(lgamma), ::typeof(Base.add_sum), ::IndexLinear, ::Array{Float64,1}) at reduce.jl:311\n",
      "└ @ Base ./reduce.jl:311\n",
      "┌ Warning: `lgamma(x::Real)` is deprecated, use `(logabsgamma(x))[1]` instead.\n",
      "│   caller = _mapreduce(::typeof(lgamma), ::typeof(Base.add_sum), ::IndexLinear, ::Array{Float64,1}) at reduce.jl:311\n",
      "└ @ Base ./reduce.jl:311\n",
      "┌ Warning: `lgamma(x::Real)` is deprecated, use `(logabsgamma(x))[1]` instead.\n",
      "│   caller = _mapreduce(::typeof(lgamma), ::typeof(Base.add_sum), ::IndexLinear, ::Array{Float64,1}) at reduce.jl:314\n",
      "└ @ Base ./reduce.jl:314\n",
      "┌ Warning: `lgamma(x::Real)` is deprecated, use `(logabsgamma(x))[1]` instead.\n",
      "│   caller = mapreduce_impl(::typeof(lgamma), ::typeof(Base.add_sum), ::Array{Float64,2}, ::Int64, ::Int64, ::Int64) at reduce.jl:161\n",
      "└ @ Base ./reduce.jl:161\n",
      "┌ Warning: `lgamma(x::Real)` is deprecated, use `(logabsgamma(x))[1]` instead.\n",
      "│   caller = mapreduce_impl(::typeof(lgamma), ::typeof(Base.add_sum), ::Array{Float64,2}, ::Int64, ::Int64, ::Int64) at reduce.jl:161\n",
      "└ @ Base ./reduce.jl:161\n",
      "┌ Warning: `lgamma(x::Real)` is deprecated, use `(logabsgamma(x))[1]` instead.\n",
      "│   caller = macro expansion at reduce.jl:164 [inlined]\n",
      "└ @ Core ./reduce.jl:164\n"
     ]
    }
   ],
   "source": [
    "Rs = 1:10\n",
    "ELBOs = fill(-Inf,length(Rs))\n",
    "\n",
    "for (r,R) ∈ enumerate(Rs)\n",
    "    param_naive = Dict(:γ=>fill(γᵣ,R), :m=>fill(mᵣ,R,N), \n",
    "        :Λ=>fill(Λᵣ,R,N), :a=>fill(aᵣ,R,N), :b=>fill(bᵣ,R,N))\n",
    "    for rpt ∈ 1:20\n",
    "        ELBOs[r] = max(ELBOs[r],naive_bayes(Xⁿ,R; param_naive...,EPOCHS=100)[1][end])\n",
    "    end\n",
    "end"
   ]
  },
  {
   "cell_type": "code",
   "execution_count": 23,
   "metadata": {},
   "outputs": [
    {
     "name": "stdout",
     "output_type": "stream",
     "text": [
      "$\\mathcal{B_P}[\\mathcal{Q}]$"
     ]
    }
   ],
   "source": [
    "print(\"\\$\\\\mathcal{B_P}[\\\\mathcal{Q}]\\$\")"
   ]
  },
  {
   "cell_type": "code",
   "execution_count": 64,
   "metadata": {},
   "outputs": [
    {
     "data": {
      "image/png": "[encoded data removed]",
      "text/plain": [
       "PyPlot.Figure(PyObject <Figure size 600x300 with 1 Axes>)"
      ]
     },
     "metadata": {},
     "output_type": "display_data"
    }
   ],
   "source": [
    "PyPlot.figure(figsize=(6,3))\n",
    "PyPlot.ylabel(\"\\$\\\\mathcal{B}_\\\\mathcal{P}\\\\mathcal{[Q]}\\$\")\n",
    "PyPlot.xlabel(\"Cardinality of the Latent Confounder\")\n",
    "PyPlot.title(\"\\$\\\\mathcal{B}_\\\\mathcal{P}\\\\mathcal{[Q]}\\$ vs. Cardinality of the Latent Confounder in Thyroid Data\")\n",
    "PyPlot.xticks(1:10)\n",
    "PyPlot.rc(\"font\", size=10)\n",
    "PyPlot.rc(\"axes\", labelsize=12)\n",
    "PyPlot.scatter(Rs,ELBOs)\n",
    "PyPlot.plot(Rs,ELBOs)\n",
    "PyPlot.tight_layout()\n",
    "PyPlot.savefig(\"img/thy.pdf\", format=\"pdf\", bbox_to_anchor=\"tight\")"
   ]
  },
  {
   "cell_type": "code",
   "execution_count": 10,
   "metadata": {},
   "outputs": [
    {
     "data": {
      "text/plain": [
       "([-418.662, -404.055, -398.222, -397.867, -397.795, -397.768, -397.758, -397.755, -397.754, -397.754, -397.753, -397.753, -397.753, -397.753, -397.753, -397.753, -397.753, -397.753], [1, 1, 1, 1, 1, 1, 1, 1, 1, 1  …  3, 2, 2, 2, 3, 3, 2, 1, 2, 1])"
      ]
     },
     "execution_count": 10,
     "metadata": {},
     "output_type": "execute_result"
    }
   ],
   "source": [
    "R = 3\n",
    "param_naive = Dict(:γ=>fill(γᵣ,R), :m=>fill(mᵣ,R,N), \n",
    "        :Λ=>fill(Λᵣ,R,N), :a=>fill(aᵣ,R,N), :b=>fill(bᵣ,R,N))\n",
    "    \n",
    "ELBO, Cʰ = naive_bayes(Xⁿ,R; param_naive...,EPOCHS=100)"
   ]
  },
  {
   "cell_type": "code",
   "execution_count": 11,
   "metadata": {},
   "outputs": [
    {
     "data": {
      "text/plain": [
       "3×3 Array{Int64,2}:\n",
       "  0   1  149\n",
       "  0   0   35\n",
       " 16  10    4"
      ]
     },
     "execution_count": 11,
     "metadata": {},
     "output_type": "execute_result"
    }
   ],
   "source": [
    "conf = cooccurrences([C Cʰ])\n",
    "c = conf[:,[2,3,1]]"
   ]
  },
  {
   "cell_type": "code",
   "execution_count": 12,
   "metadata": {},
   "outputs": [
    {
     "data": {
      "text/plain": [
       "0.018604651162790697"
      ]
     },
     "execution_count": 12,
     "metadata": {},
     "output_type": "execute_result"
    }
   ],
   "source": [
    "sum(diag(c))/sum(c)"
   ]
  },
  {
   "cell_type": "code",
   "execution_count": null,
   "metadata": {},
   "outputs": [],
   "source": []
  }
 ],
 "metadata": {
  "kernelspec": {
   "display_name": "Julia 1.0.5",
   "language": "julia",
   "name": "julia-1.0"
  },
  "language_info": {
   "file_extension": ".jl",
   "mimetype": "application/julia",
   "name": "julia",
   "version": "1.0.5"
  }
 },
 "nbformat": 4,
 "nbformat_minor": 4
}
