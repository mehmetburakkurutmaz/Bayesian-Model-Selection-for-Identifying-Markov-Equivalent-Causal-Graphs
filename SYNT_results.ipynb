{
 "cells": [
  {
   "cell_type": "markdown",
   "metadata": {},
   "source": [
    "# Synthetic Data Pairs"
   ]
  },
  {
   "cell_type": "code",
   "execution_count": 1,
   "metadata": {},
   "outputs": [],
   "source": [
    "include(\"src/Misc.jl\");"
   ]
  },
  {
   "cell_type": "code",
   "execution_count": 2,
   "metadata": {},
   "outputs": [],
   "source": [
    "using .Misc\n",
    "import .Misc: generate_params"
   ]
  },
  {
   "cell_type": "code",
   "execution_count": 3,
   "metadata": {},
   "outputs": [],
   "source": [
    "using Statistics, Distributions\n",
    "using SpecialFunctions, LinearAlgebra\n",
    "import Random: randperm, seed!\n",
    "import Printf: @sprintf\n",
    "\n",
    "using PyPlot\n",
    "seed!(8457);"
   ]
  },
  {
   "cell_type": "code",
   "execution_count": 4,
   "metadata": {},
   "outputs": [
    {
     "data": {
      "text/plain": [
       "36"
      ]
     },
     "execution_count": 4,
     "metadata": {},
     "output_type": "execute_result"
    }
   ],
   "source": [
    "MARKER = [\"o\", \"v\", \"d\", \"X\", \"p\", \"*\", \"P\"];\n",
    "RESULTS_PATH = \"./results/synthetic/smc/all\";\n",
    "PARAMS_PATH = \"./params\";\n",
    "DATA_PATH = \"./data/synthetic\";\n",
    "\n",
    "N_PARAMS = 36"
   ]
  },
  {
   "cell_type": "code",
   "execution_count": 5,
   "metadata": {
    "scrolled": true
   },
   "outputs": [
    {
     "data": {
      "text/plain": [
       "accuracy (generic function with 1 method)"
      ]
     },
     "execution_count": 5,
     "metadata": {},
     "output_type": "execute_result"
    }
   ],
   "source": [
    "function accuracy(models,g_truth; weights=ones(length(models)))\n",
    "    return sum((models .== g_truth) .* weights) / sum(weights)\n",
    "end"
   ]
  },
  {
   "cell_type": "code",
   "execution_count": 6,
   "metadata": {},
   "outputs": [
    {
     "data": {
      "text/plain": [
       "spurious_pairs (generic function with 1 method)"
      ]
     },
     "execution_count": 6,
     "metadata": {},
     "output_type": "execute_result"
    }
   ],
   "source": [
    "function spurious_pairs(models)\n",
    "    return valid_pairs[(models .== 3)[:,1]]\n",
    "end"
   ]
  },
  {
   "cell_type": "code",
   "execution_count": 7,
   "metadata": {},
   "outputs": [
    {
     "data": {
      "text/plain": [
       "540"
      ]
     },
     "execution_count": 7,
     "metadata": {},
     "output_type": "execute_result"
    }
   ],
   "source": [
    "T, Rs = 2000, 1:5\n",
    "REPEAT = 1\n",
    "\n",
    "N_DATA = length(Rs)*N_PARAMS*REPEAT*3"
   ]
  },
  {
   "cell_type": "markdown",
   "metadata": {},
   "source": [
    "## Generate Data"
   ]
  },
  {
   "cell_type": "code",
   "execution_count": 8,
   "metadata": {},
   "outputs": [
    {
     "data": {
      "text/plain": [
       "generate_params (generic function with 1 method)"
      ]
     },
     "execution_count": 8,
     "metadata": {},
     "output_type": "execute_result"
    }
   ],
   "source": [
    "function generate_params(A₁,A₂,B₁,B₂)\n",
    "    num = 0\n",
    "    for a₁ ∈ A₁, a₂ ∈ A₂, b₁ ∈ B₁, b₂ ∈ B₂\n",
    "        if a₁ >= b₁ && a₂ >= b₂\n",
    "                num += 1\n",
    "                setup = Dict(:name => \"params-$num\", :P => 100, :Rs => 1:5, :M => 2, \n",
    "                             :γ => 10.0, :m₁ => 0.0, :m₂ => 0.0, :λ₁ => 0.1, \n",
    "                             :λ₂ => 0.1, :a₁ => a₁, :a₂ => a₂, :b₁ => b₁, :b₂ => b₂);\n",
    "                save_json(\"$PARAMS_PATH/params-$num.json\"; setup...)\n",
    "        end\n",
    "    end\n",
    "    return num\n",
    "end"
   ]
  },
  {
   "cell_type": "code",
   "execution_count": 9,
   "metadata": {},
   "outputs": [
    {
     "data": {
      "text/plain": [
       "generate_data (generic function with 1 method)"
      ]
     },
     "execution_count": 9,
     "metadata": {},
     "output_type": "execute_result"
    }
   ],
   "source": [
    "function generate_data(T::Int, R::Int; K=2, α=10.0, m₁=0.0, m₂=0.0,\n",
    "        λ₁=0.1, λ₂=0.1, a₁=1.0, a₂=1.0, b₁=1.0, b₂=1.0, pr=0, rel=\"^\", id=0)\n",
    "    \n",
    "    if rel==\"^\"\n",
    "        K, a₂, b₂ = 1, a₁, b₁\n",
    "    end\n",
    "    \n",
    "    θ = rand(Dirichlet(R,α))\n",
    "    ρ₁, ρ₂ = rand(Gamma(a₁,1/b₁),R), rand(Gamma(a₂,1/b₂),R)\n",
    "    μ₁ = [rand(Normal(m₁, (λ₁ * ρ₁[r])^(-1/2))) for r ∈ 1:R]\n",
    "    w₂ = [rand(MultivariateNormal(m₂*ones(K), Diagonal(ones(K)/(λ₂*ρ₂[r])))) for r ∈ 1:R]\n",
    "    \n",
    "    rs = rand(Categorical(θ),T)\n",
    "    X₁ = [rand(Normal(μ₁[r], ρ₁[r]^(-1/2))) for r ∈ rs]\n",
    "    X₂ = [rand(Normal(w₂[r]'*(X₁[t].^(0:K-1)), ρ₂[r]^(-1/2))) for (t,r) ∈ enumerate(rs)]\n",
    "    \n",
    "    X = rel==\"<-\" ? X₂ : X₁\n",
    "    Y = rel==\"<-\" ? X₁ : X₂\n",
    "    \n",
    "    pair = Dict(:X_label => \"X\", :Y_label => \"Y\", :dataset => pr, :weight => 1.0,\n",
    "                :id => \"syth-$id\", :relationship => rel, :X => X, :Y => Y)\n",
    "    save_json(\"$DATA_PATH/synt-$id.json\"; pair...)\n",
    "    \n",
    "    return pair\n",
    "end"
   ]
  },
  {
   "cell_type": "code",
   "execution_count": 10,
   "metadata": {},
   "outputs": [
    {
     "data": {
      "text/plain": [
       "(2000, 1:5)"
      ]
     },
     "execution_count": 10,
     "metadata": {},
     "output_type": "execute_result"
    }
   ],
   "source": [
    "T, Rs = 2000, 1:5"
   ]
  },
  {
   "cell_type": "code",
   "execution_count": 11,
   "metadata": {},
   "outputs": [],
   "source": [
    "N_PARAMS = generate_params(10.0.^(0:2), 10.0.^(0:2), 10.0.^(0:2), 10.0.^(0:2))\n",
    "\n",
    "params = [Dict(Symbol(String(p)) => v for (p,v) ∈ load_json(\"$PARAMS_PATH/params-$n.json\"))\n",
    "                                      for n ∈ 1:N_PARAMS];"
   ]
  },
  {
   "cell_type": "code",
   "execution_count": 12,
   "metadata": {},
   "outputs": [],
   "source": [
    "N_DATA = 0\n",
    "for rep ∈ 1:1, R ∈ Rs, pr ∈ 1:N_PARAMS, rel ∈ [\"->\", \"<-\", \"^\"]\n",
    "    N_DATA += 1\n",
    "    a₁, a₂, b₁, b₂ = params[pr][:a₁], params[pr][:a₂], params[pr][:b₁], params[pr][:b₂]\n",
    "    generate_data(T, R; pr=pr, rel=rel, id=N_DATA, a₁=a₁, a₂=a₂, b₁=b₁, b₂=b₂)\n",
    "end"
   ]
  },
  {
   "cell_type": "code",
   "execution_count": 13,
   "metadata": {},
   "outputs": [
    {
     "data": {
      "text/plain": [
       "540"
      ]
     },
     "execution_count": 13,
     "metadata": {},
     "output_type": "execute_result"
    }
   ],
   "source": [
    "N_DATA"
   ]
  },
  {
   "cell_type": "markdown",
   "metadata": {},
   "source": [
    "## Read Results"
   ]
  },
  {
   "cell_type": "code",
   "execution_count": 14,
   "metadata": {
    "scrolled": true
   },
   "outputs": [],
   "source": [
    "params = [Dict(Symbol(String(p)) => v for (p,v) ∈ load_json(\"$PARAMS_PATH/params-$pr.json\"))\n",
    "                                      for pr ∈ 1:N_PARAMS]\n",
    "\n",
    "synt_data = [Dict(Symbol(String(p)) => v for (p,v) ∈ load_json(\"$DATA_PATH/synt-$id.json\")) \n",
    "                                    for id ∈ 1:N_DATA];"
   ]
  },
  {
   "cell_type": "code",
   "execution_count": 15,
   "metadata": {},
   "outputs": [],
   "source": [
    "results = zeros(REPEAT,length(Rs),N_PARAMS,3,3,length(Rs))\n",
    "ground_truth = zeros(Int,REPEAT,length(Rs),N_PARAMS,3)\n",
    "weights = zeros(REPEAT,length(Rs),N_PARAMS,3)\n",
    "\n",
    "id = 0\n",
    "for rep ∈ 1:REPEAT, R ∈ Rs, pr ∈ 1:N_PARAMS, rel ∈ 1:3\n",
    "    id += 1\n",
    "    result = hcat(load_json(\"$RESULTS_PATH/$(synt_data[id][:id]).json\")[\"scores\"]...)\n",
    "    results[rep,R,pr,rel,:,:] .= result\n",
    "    \n",
    "    pair = synt_data[id]\n",
    "    ground_truth[rep,R,pr,rel] = pair[:relationship] == \"->\" ? 1 : (pair[:relationship] == \"<-\" ? 2 : 3)\n",
    "    weights[rep,R,pr,rel] = pair[:weight]\n",
    "end"
   ]
  },
  {
   "cell_type": "code",
   "execution_count": 16,
   "metadata": {},
   "outputs": [],
   "source": [
    "labels_all = [findmax(nanmax(results[rep,R,pr,rel,:,:],2))[2] \n",
    "              for rep ∈ 1:REPEAT, R ∈ Rs, pr ∈ 1:N_PARAMS, rel ∈ 1:3];"
   ]
  },
  {
   "cell_type": "code",
   "execution_count": 17,
   "metadata": {
    "scrolled": true
   },
   "outputs": [
    {
     "data": {
      "text/plain": [
       "0.9851851851851852"
      ]
     },
     "execution_count": 17,
     "metadata": {},
     "output_type": "execute_result"
    }
   ],
   "source": [
    "accuracy(labels_all,ground_truth; weights=weights)"
   ]
  },
  {
   "cell_type": "markdown",
   "metadata": {},
   "source": [
    "## Accuracy w.r.t Ground Truth"
   ]
  },
  {
   "cell_type": "code",
   "execution_count": 18,
   "metadata": {},
   "outputs": [],
   "source": [
    "import Seaborn: heatmap"
   ]
  },
  {
   "cell_type": "code",
   "execution_count": 19,
   "metadata": {},
   "outputs": [
    {
     "data": {
      "text/plain": [
       "3×3 Array{Int64,2}:\n",
       " 177    3    0\n",
       "   5  175    0\n",
       "   0    0  180"
      ]
     },
     "execution_count": 19,
     "metadata": {},
     "output_type": "execute_result"
    }
   ],
   "source": [
    "confusion_matrix = zeros(Int,3,3)\n",
    "\n",
    "for rel ∈ 1:3, p ∈ 1:N_PARAMS, R ∈ 1:5\n",
    "    confusion_matrix[rel,findmax(nanmax(results[1,R,p,rel,:,:],2))[2]] +=1\n",
    "end\n",
    "\n",
    "confusion_matrix"
   ]
  },
  {
   "cell_type": "code",
   "execution_count": 20,
   "metadata": {},
   "outputs": [
    {
     "data": {
      "image/png": "[encoded data removed]",
      "text/plain": [
       "Figure(PyObject <Figure size 250x250 with 1 Axes>)"
      ]
     },
     "metadata": {},
     "output_type": "display_data"
    }
   ],
   "source": [
    "PyPlot.figure(figsize=(2.5,2.5))\n",
    "PyPlot.title(\"Confusion matrix\")\n",
    "PyPlot.xlabel(\"True Model\")\n",
    "PyPlot.ylabel(\"Predicted Model\")\n",
    "heatmap(confusion_matrix'; xticklabels=[\"x₁ \\$\\\\to\\$ x₂\", \"x₁\\$\\\\leftarrow\\$x₂\", \"x₁^x₂\"],\n",
    "    yticklabels=[\"x₁ \\$\\\\to\\$ x₂\", \"x₁\\$\\\\leftarrow\\$x₂\", \"x₁^x₂\"], annot=true, cmap=\"gray_r\",\n",
    "    linecolor=\"w\", linewidth=0.01, fmt=\"d\", cbar=false\n",
    ")\n",
    "\n",
    "PyPlot.savefig(\"./img/confusion_matrix.pdf\", bbox_inches=\"tight\");"
   ]
  },
  {
   "cell_type": "code",
   "execution_count": 21,
   "metadata": {
    "scrolled": true
   },
   "outputs": [
    {
     "data": {
      "text/plain": [
       "3-element Array{Float64,1}:\n",
       " 0.9833333333333333\n",
       " 0.9722222222222222\n",
       " 1.0               "
      ]
     },
     "execution_count": 21,
     "metadata": {},
     "output_type": "execute_result"
    }
   ],
   "source": [
    "[accuracy(labels_all[:,:,:,rel],ground_truth[:,:,:,rel]; weights=weights[:,:,:,rel]) for rel ∈ 1:3]"
   ]
  },
  {
   "cell_type": "markdown",
   "metadata": {},
   "source": [
    "# ROC"
   ]
  },
  {
   "cell_type": "code",
   "execution_count": 22,
   "metadata": {},
   "outputs": [],
   "source": [
    "AUCs = zeros(3)\n",
    "\n",
    "for lb ∈ 1:3\n",
    "    score = nanmax(results[:,:,:,:,lb,:],5) .- nanmax(results[:,:,:,:,setdiff(1:3,[lb]),:],dims=(5,6))\n",
    "    AUCs[lb] = AUC(score, ground_truth, lb; weights=weights)\n",
    "end"
   ]
  },
  {
   "cell_type": "code",
   "execution_count": 23,
   "metadata": {},
   "outputs": [
    {
     "data": {
      "text/plain": [
       "3-element Array{Float64,1}:\n",
       " 0.9993518518518518\n",
       " 0.9994135802469135\n",
       " 1.0               "
      ]
     },
     "execution_count": 23,
     "metadata": {},
     "output_type": "execute_result"
    }
   ],
   "source": [
    "AUCs"
   ]
  },
  {
   "cell_type": "code",
   "execution_count": 24,
   "metadata": {},
   "outputs": [
    {
     "data": {
      "image/png": "[encoded data removed]",
      "text/plain": [
       "Figure(PyObject <Figure size 500x250 with 1 Axes>)"
      ]
     },
     "metadata": {},
     "output_type": "display_data"
    }
   ],
   "source": [
    "PyPlot.figure(figsize=(5,2.5))\n",
    "PyPlot.title(\"ROC curves\")\n",
    "PyPlot.ylabel(\"True Positive Rate\")\n",
    "PyPlot.xlabel(\"False Positive Rate\")\n",
    "for (lb, dr) ∈ enumerate([\"x₁->x₂\", \"x₁<-x₂\", \"x₁^x₂\"])\n",
    "    score = nanmax(results[:,:,:,:,lb,:],5) .- nanmax(results[:,:,:,:,setdiff(1:3,[lb]),:],dims=(5,6))\n",
    "    PyPlot.plot(ROC(score, ground_truth, lb; weights=weights)...;label=\"$dr (AUC = $(@sprintf(\"%.3f\", AUCs[lb])))\")\n",
    "end\n",
    "PyPlot.plot([0,1],[0,1];linestyle=:dashed)\n",
    "PyPlot.legend()\n",
    "\n",
    "PyPlot.savefig(\"./img/roc_curve.pdf\", bbox_inches=\"tight\");"
   ]
  }
 ],
 "metadata": {
  "hide_input": false,
  "kernelspec": {
   "display_name": "Julia 1.0.5",
   "language": "julia",
   "name": "julia-1.0"
  },
  "language_info": {
   "file_extension": ".jl",
   "mimetype": "application/julia",
   "name": "julia",
   "version": "1.0.5"
  },
  "latex_envs": {
   "LaTeX_envs_menu_present": false,
   "autoclose": false,
   "autocomplete": false,
   "bibliofile": "biblio.bib",
   "cite_by": "apalike",
   "current_citInitial": 1,
   "eqLabelWithNumbers": true,
   "eqNumInitial": 1,
   "hotkeys": {
    "equation": "Ctrl-E",
    "itemize": "Ctrl-I"
   },
   "labels_anchors": false,
   "latex_user_defs": false,
   "report_style_numbering": false,
   "user_envs_cfg": false
  }
 },
 "nbformat": 4,
 "nbformat_minor": 2
}
