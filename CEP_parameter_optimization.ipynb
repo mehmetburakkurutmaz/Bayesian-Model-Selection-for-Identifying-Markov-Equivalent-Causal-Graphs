{
 "cells": [
  {
   "cell_type": "markdown",
   "metadata": {},
   "source": [
    "# Accuracy-based BO example"
   ]
  },
  {
   "cell_type": "code",
   "execution_count": null,
   "metadata": {
    "scrolled": true
   },
   "outputs": [],
   "source": [
    "include(\"src/BayesianCausalityOptimization.jl\");\n",
    "\n",
    "using .BayesianCausalityOptimization\n",
    "\n",
    "valid_pairs = setdiff(1:100,[52,53,54,55,71])\n",
    "tuebingen_data = BayesianCausalityOptimization.Datasets.tuebingen(valid_pairs);\n",
    "#pair_ids = [\"001\",\"007\",\"016\",\"025\",\"034\",\"049\",\"064\",\"072\",\"073\",\"078\",\"086\",\"087\",\"088\",\"096\",\"100\"]\n",
    "#selected_data = create_data(tuebingen_data, pair_ids, 1000);\n",
    "\n",
    "T_max = 10\n",
    "Rs = 5:5\n",
    "EPOCHS = 10\n",
    "M = 2\n",
    "P = 10\n",
    "n_iterations = 10\n",
    "\n",
    "optimizer, optimum = bayesian_optimization_accuracy(tuebingen_data, T_max;Rs=Rs, EPOCHS=EPOCHS, M=M, P=P, \n",
    "                                            n_iterations=n_iterations)"
   ]
  },
  {
   "cell_type": "markdown",
   "metadata": {},
   "source": [
    "# Unconstrained Likelihood-based BO Test"
   ]
  },
  {
   "cell_type": "code",
   "execution_count": 1,
   "metadata": {},
   "outputs": [
    {
     "name": "stderr",
     "output_type": "stream",
     "text": [
      "┌ Warning: readtable is deprecated, use CSV.read from the CSV package instead\n",
      "│   caller = ip:0x0\n",
      "└ @ Core :-1\n"
     ]
    }
   ],
   "source": [
    "include(\"src/BayesianCausalityOptimization.jl\");\n",
    "include(\"src/BayesianCausality.jl\");\n",
    "include(\"src/Datasets.jl\");\n",
    "include(\"src/Misc.jl\");\n",
    "\n",
    "using .Misc, .BayesianCausality, .BayesianCausalityOptimization\n",
    "using .Datasets\n",
    "using Statistics, Distributions\n",
    "using SpecialFunctions, LinearAlgebra\n",
    "import Base.Iterators: product\n",
    "import Random: randperm, seed!\n",
    "using BayesOpt\n",
    "import Base.Iterators: enumerate\n",
    "import Base.Filesystem: mkpath\n",
    "\n",
    "SEED = 100\n",
    "seed!(SEED)\n",
    "RESULTS_PATH = \"./results/tuebingen/vb-hp-opt\"\n",
    "PARAMS_PATH = \"./params\";\n",
    "\n",
    "valid_pairs = setdiff(1:100,[52,53,54,55,71])\n",
    "tuebingen_data = Datasets.tuebingen(valid_pairs);"
   ]
  },
  {
   "cell_type": "code",
   "execution_count": null,
   "metadata": {},
   "outputs": [],
   "source": [
    "vb_hyperparameter_optimization(tuebingen_data[1 : 3], 1000; \n",
    "name=\"trying_5/optimization_results/hp_opt_likelihood_1_7\", \n",
    "M=4, P=100, Rs=1:3, EPOCHS=20, hp_optimization_type=\"unconstrained\", n_iterations=20, norm=true, SEED=SEED, RESULTS_PATH=RESULTS_PATH, m_zero=true)"
   ]
  },
  {
   "cell_type": "code",
   "execution_count": 81,
   "metadata": {
    "scrolled": true
   },
   "outputs": [
    {
     "ename": "UndefVarError",
     "evalue": "UndefVarError: tuebingen_data not defined",
     "output_type": "error",
     "traceback": [
      "UndefVarError: tuebingen_data not defined",
      "",
      "Stacktrace:",
      " [1] top-level scope at In[81]:1"
     ]
    }
   ],
   "source": [
    "accuracy = causal_accuracy_preset_parameters(tuebingen_data[1:5],100; hp_folder=\"./results/tuebingen/vb-hp-opt/hp_opt_likelihood_with_m_unconstrained_seed_100\", M=4, P=100, Rs=1:3, EPOCHS=10, seed_no=100, test_method=\"vb\", ratio=1.)"
   ]
  },
  {
   "cell_type": "markdown",
   "metadata": {},
   "source": [
    "# Hyperparameter optimization"
   ]
  },
  {
   "cell_type": "code",
   "execution_count": 2,
   "metadata": {},
   "outputs": [],
   "source": [
    "SEED = 100\n",
    "seed!(SEED)\n",
    "\n",
    "valid_pairs = setdiff(1:100,[52,53,54,55,71])\n",
    "tuebingen_data = BayesianCausalityOptimization.Datasets.tuebingen(valid_pairs);"
   ]
  },
  {
   "cell_type": "code",
   "execution_count": null,
   "metadata": {
    "scrolled": false
   },
   "outputs": [],
   "source": [
    "for (id, data) in enumerate(tuebingen_data)\n",
    "    println(id, \" \", length(data[:X]))\n",
    "end"
   ]
  },
  {
   "cell_type": "code",
   "execution_count": null,
   "metadata": {
    "scrolled": false
   },
   "outputs": [],
   "source": [
    "vb_hyperparameter_optimization(tuebingen_data[1:5], 100; name=\"hp_opt_likelihood_with_m\", M=4, P=100, Rs=1:3, EPOCHS=10, hp_optimization_type=\"unconstrained\", n_iterations=10, norm=true, RESULTS_PATH=RESULTS_PATH)"
   ]
  },
  {
   "cell_type": "markdown",
   "metadata": {},
   "source": [
    "## Looking at liminal parameters"
   ]
  },
  {
   "cell_type": "code",
   "execution_count": 11,
   "metadata": {},
   "outputs": [
    {
     "ename": "UndefVarError",
     "evalue": "UndefVarError: load_json not defined",
     "output_type": "error",
     "traceback": [
      "UndefVarError: load_json not defined",
      "",
      "Stacktrace:",
      " [1] top-level scope at In[11]:1"
     ]
    }
   ],
   "source": [
    "ps = load_json(string(\"./results/tuebingen/vb-hp-opt/hp_opt_likelihood_full_data_w_bounds_m_zero_seed_100\",\"/parameters.json\"))[\"parameters\"];\n",
    "other_ps = load_json(string(\"./results/tuebingen/vb-hp-opt/hp_opt_1000_samples_m_zero\",\"/parameters.json\"))[\"parameters\"];"
   ]
  },
  {
   "cell_type": "code",
   "execution_count": 41,
   "metadata": {},
   "outputs": [
    {
     "name": "stdout",
     "output_type": "stream",
     "text": [
      "0.15619047619047619"
     ]
    }
   ],
   "source": [
    "param_counters = Dict(zip([\"γ\", \"b₂\", \"λ₁\", \"λ₂\", \"a₁\", \"a₂\", \"b₁\"], [0 for i in 1:7]))\n",
    "p_param_counters = Dict(zip([\"γ\", \"b₂\", \"λ₁\", \"λ₂\", \"a₁\", \"a₂\", \"b₁\"], [0 for i in 1:7]))\n",
    "n_param_counters = Dict(zip([\"γ\", \"b₂\", \"λ₁\", \"λ₂\", \"a₁\", \"a₂\", \"b₁\"], [0 for i in 1:7]))\n",
    "direction_counters = Dict(zip([\"<\", \">\", \"^\"], [0 for i in 1:3]))\n",
    "p_direction_counters = Dict(zip([\"<\", \">\", \"^\"], [0 for i in 1:3]))\n",
    "n_direction_counters = Dict(zip([\"<\", \">\", \"^\"], [0 for i in 1:3]))\n",
    "counter = 0\n",
    "limit_counter = 0\n",
    "positive_counter = 0\n",
    "negative_counter = 0\n",
    "higher_limit = 13.5\n",
    "lower_limit = 9\n",
    "common_count = 0\n",
    "uncommon_count = 0\n",
    "total_count = 0\n",
    "for key in keys(ps)\n",
    "    for i in 1:5\n",
    "        for direction in [\"<\",\">\",\"^\"]\n",
    "            for param in [\"γ\", \"b₂\", \"λ₁\", \"λ₂\", \"a₁\", \"a₂\", \"b₁\"]\n",
    "                val = ps[key][string(i)][direction][param]\n",
    "                val2 = other_ps[key][string(i)][direction][param]\n",
    "                if ((val>limit) | (val<-limit)) & ((val2>lower_limit) | (val2<-lower_limit))\n",
    "                    common_count += 1\n",
    "                elseif ((val>limit) | (val<-limit)) ⊻ ((val2>lower_limit) | (val2<-lower_limit))\n",
    "                    uncommon_count +=1\n",
    "                end\n",
    "                \n",
    "                counter += 1\n",
    "                if (val>limit) | (val<-limit)\n",
    "                    param_counters[param] += 1\n",
    "                    direction_counters[direction] += 1\n",
    "                    limit_counter +=1\n",
    "                end\n",
    "                if (val>limit)\n",
    "                    positive_counter += 1\n",
    "                    p_param_counters[param] += 1\n",
    "                    p_direction_counters[direction] += 1\n",
    "                end\n",
    "                if (val<-limit)\n",
    "                    negative_counter += 1\n",
    "                    n_param_counters[param] += 1\n",
    "                    n_direction_counters[direction] += 1\n",
    "                end\n",
    "            end\n",
    "        end\n",
    "    end\n",
    "end\n",
    "print(limit_counter/counter)"
   ]
  },
  {
   "cell_type": "markdown",
   "metadata": {},
   "source": [
    "# Zero pseudodata attempts"
   ]
  },
  {
   "cell_type": "code",
   "execution_count": 1,
   "metadata": {},
   "outputs": [
    {
     "name": "stderr",
     "output_type": "stream",
     "text": [
      "┌ Warning: readtable is deprecated, use CSV.read from the CSV package instead\n",
      "│   caller = ip:0x0\n",
      "└ @ Core :-1\n"
     ]
    }
   ],
   "source": [
    "include(\"src/BayesianCausalityOptimization.jl\");\n",
    "include(\"src/BayesianCausality.jl\");\n",
    "include(\"src/Datasets.jl\");\n",
    "include(\"src/Misc.jl\");\n",
    "\n",
    "using .Misc, .BayesianCausality, .BayesianCausalityOptimization\n",
    "using .Datasets\n",
    "using Statistics, Distributions\n",
    "using SpecialFunctions, LinearAlgebra\n",
    "import Base.Iterators: product\n",
    "import Random: randperm, seed!\n",
    "using BayesOpt\n",
    "import Base.Iterators: enumerate\n",
    "import Base.Filesystem: mkpath\n",
    "\n",
    "SEED = 100\n",
    "seed!(SEED)\n",
    "RESULTS_PATH = \"./results/tuebingen/vb-hp-opt\"\n",
    "PARAMS_PATH = \"./params\";\n",
    "\n",
    "valid_pairs = setdiff(1:100,[52,53,54,55,71])\n",
    "tuebingen_data = Datasets.tuebingen(valid_pairs);"
   ]
  },
  {
   "cell_type": "code",
   "execution_count": 7,
   "metadata": {},
   "outputs": [],
   "source": [
    "hp_folder = \"./results/tuebingen/vb-hp-opt/pseudodata_test\";"
   ]
  },
  {
   "cell_type": "code",
   "execution_count": 79,
   "metadata": {},
   "outputs": [
    {
     "ename": "UndefVarError",
     "evalue": "UndefVarError: hp_folder not defined",
     "output_type": "error",
     "traceback": [
      "UndefVarError: hp_folder not defined",
      "",
      "Stacktrace:",
      " [1] top-level scope at In[79]:1"
     ]
    }
   ],
   "source": [
    "accuracy = causal_accuracy_preset_parameters(tuebingen_data,1000; hp_folder=hp_folder, M=4, P=100, \n",
    "    Rs=1:5, EPOCHS=200, seed_no=100, test_method=\"vb\", ratio=1., zero_pseudodata=true)"
   ]
  },
  {
   "cell_type": "markdown",
   "metadata": {},
   "source": [
    "# Trying different Ms"
   ]
  },
  {
   "cell_type": "code",
   "execution_count": 131,
   "metadata": {},
   "outputs": [
    {
     "ename": "MethodError",
     "evalue": "MethodError: no method matching parse(::Type{UnitRange{Int64}}, ::String)\nClosest candidates are:\n  parse(!Matched::Type{LibGit2.GitCredential}, ::AbstractString) at /buildworker/worker/package_linux64/build/usr/share/julia/stdlib/v1.0/LibGit2/src/gitcredential.jl:73\n  parse(!Matched::Type{LibGit2.GitCredentialHelper}, ::AbstractString) at /buildworker/worker/package_linux64/build/usr/share/julia/stdlib/v1.0/LibGit2/src/gitcredential.jl:163\n  parse(!Matched::Type{Sockets.IPv4}, ::AbstractString) at /buildworker/worker/package_linux64/build/usr/share/julia/stdlib/v1.0/Sockets/src/IPAddr.jl:166\n  ...",
     "output_type": "error",
     "traceback": [
      "MethodError: no method matching parse(::Type{UnitRange{Int64}}, ::String)\nClosest candidates are:\n  parse(!Matched::Type{LibGit2.GitCredential}, ::AbstractString) at /buildworker/worker/package_linux64/build/usr/share/julia/stdlib/v1.0/LibGit2/src/gitcredential.jl:73\n  parse(!Matched::Type{LibGit2.GitCredentialHelper}, ::AbstractString) at /buildworker/worker/package_linux64/build/usr/share/julia/stdlib/v1.0/LibGit2/src/gitcredential.jl:163\n  parse(!Matched::Type{Sockets.IPv4}, ::AbstractString) at /buildworker/worker/package_linux64/build/usr/share/julia/stdlib/v1.0/Sockets/src/IPAddr.jl:166\n  ...",
      "",
      "Stacktrace:",
      " [1] top-level scope at In[131]:1"
     ]
    }
   ],
   "source": [
    "parse(UnitRange{Int64},\"1:5\")"
   ]
  },
  {
   "cell_type": "code",
   "execution_count": 117,
   "metadata": {},
   "outputs": [],
   "source": [
    "a = reshape([\"$(p)_$(M)_$(R)\" for M ∈ [\"m1\", \"m2\", \"m3\"] for R ∈ [\"r1\", \"r2\", \"r3\"] for p in [\"p1\",\"p2\",\"p3\"]],3,3,:);"
   ]
  },
  {
   "cell_type": "code",
   "execution_count": 118,
   "metadata": {},
   "outputs": [
    {
     "data": {
      "text/plain": [
       "3×3 Array{String,2}:\n",
       " \"p1_m1_r1\"  \"p1_m2_r1\"  \"p1_m3_r1\"\n",
       " \"p1_m1_r2\"  \"p1_m2_r2\"  \"p1_m3_r2\"\n",
       " \"p1_m1_r3\"  \"p1_m2_r3\"  \"p1_m3_r3\""
      ]
     },
     "execution_count": 118,
     "metadata": {},
     "output_type": "execute_result"
    }
   ],
   "source": [
    "a[1, :, :]"
   ]
  },
  {
   "cell_type": "code",
   "execution_count": 103,
   "metadata": {},
   "outputs": [
    {
     "data": {
      "text/plain": [
       "2×3×4 Array{Float64,3}:\n",
       "[:, :, 1] =\n",
       "  1.42675   1.53639   -2.76433\n",
       " -0.136104  0.415135   1.54728\n",
       "\n",
       "[:, :, 2] =\n",
       " -1.86786    0.169477  0.663542\n",
       "  0.979961  -2.59211   1.46754 \n",
       "\n",
       "[:, :, 3] =\n",
       " -0.82937    0.526713   1.78105 \n",
       " -0.211186  -0.262804  -0.718716\n",
       "\n",
       "[:, :, 4] =\n",
       " 0.393604   1.42297   0.199023\n",
       " 0.276449  -0.881488  1.63151 "
      ]
     },
     "execution_count": 103,
     "metadata": {},
     "output_type": "execute_result"
    }
   ],
   "source": [
    "a = randn(2,3,4)"
   ]
  },
  {
   "cell_type": "code",
   "execution_count": 106,
   "metadata": {},
   "outputs": [
    {
     "data": {
      "text/plain": [
       "3×4 Array{Float64,2}:\n",
       "  1.42675  -1.86786   -0.82937   0.393604\n",
       "  1.53639   0.169477   0.526713  1.42297 \n",
       " -2.76433   0.663542   1.78105   0.199023"
      ]
     },
     "execution_count": 106,
     "metadata": {},
     "output_type": "execute_result"
    }
   ],
   "source": [
    "a[1,:,:]"
   ]
  },
  {
   "cell_type": "code",
   "execution_count": 105,
   "metadata": {},
   "outputs": [
    {
     "data": {
      "text/plain": [
       "2×1×1 Array{Float64,3}:\n",
       "[:, :, 1] =\n",
       " 1.7810522798268196\n",
       " 1.6315141352976112"
      ]
     },
     "execution_count": 105,
     "metadata": {},
     "output_type": "execute_result"
    }
   ],
   "source": [
    "nanmax(a, dims=(2, 3))"
   ]
  },
  {
   "cell_type": "code",
   "execution_count": 127,
   "metadata": {},
   "outputs": [
    {
     "data": {
      "text/plain": [
       "3×5×4 Array{String,3}:\n",
       "[:, :, 1] =\n",
       " \">_M_2_R_1\"  \">_M_2_R_2\"  \">_M_2_R_3\"  \">_M_2_R_4\"  \">_M_2_R_5\"\n",
       " \"<_M_2_R_1\"  \"<_M_2_R_2\"  \"<_M_2_R_3\"  \"<_M_2_R_4\"  \"<_M_2_R_5\"\n",
       " \"^_M_2_R_1\"  \"^_M_2_R_2\"  \"^_M_2_R_3\"  \"^_M_2_R_4\"  \"^_M_2_R_5\"\n",
       "\n",
       "[:, :, 2] =\n",
       " \">_M_3_R_1\"  \">_M_3_R_2\"  \">_M_3_R_3\"  \">_M_3_R_4\"  \">_M_3_R_5\"\n",
       " \"<_M_3_R_1\"  \"<_M_3_R_2\"  \"<_M_3_R_3\"  \"<_M_3_R_4\"  \"<_M_3_R_5\"\n",
       " \"^_M_3_R_1\"  \"^_M_3_R_2\"  \"^_M_3_R_3\"  \"^_M_3_R_4\"  \"^_M_3_R_5\"\n",
       "\n",
       "[:, :, 3] =\n",
       " \">_M_4_R_1\"  \">_M_4_R_2\"  \">_M_4_R_3\"  \">_M_4_R_4\"  \">_M_4_R_5\"\n",
       " \"<_M_4_R_1\"  \"<_M_4_R_2\"  \"<_M_4_R_3\"  \"<_M_4_R_4\"  \"<_M_4_R_5\"\n",
       " \"^_M_4_R_1\"  \"^_M_4_R_2\"  \"^_M_4_R_3\"  \"^_M_4_R_4\"  \"^_M_4_R_5\"\n",
       "\n",
       "[:, :, 4] =\n",
       " \">_M_5_R_1\"  \">_M_5_R_2\"  \">_M_5_R_3\"  \">_M_5_R_4\"  \">_M_5_R_5\"\n",
       " \"<_M_5_R_1\"  \"<_M_5_R_2\"  \"<_M_5_R_3\"  \"<_M_5_R_4\"  \"<_M_5_R_5\"\n",
       " \"^_M_5_R_1\"  \"^_M_5_R_2\"  \"^_M_5_R_3\"  \"^_M_5_R_4\"  \"^_M_5_R_5\""
      ]
     },
     "metadata": {},
     "output_type": "display_data"
    },
    {
     "data": {
      "text/plain": [
       "3×5×4 Array{Float64,3}:\n",
       "[:, :, 1] =\n",
       " -772.492   -739.942   -783.346   -809.859   -691.305 \n",
       " -772.37    -740.194   -783.967   -754.827   -651.2   \n",
       "   -1.0e10    -1.0e10    -1.0e10    -1.0e10    -1.0e10\n",
       "\n",
       "[:, :, 2] =\n",
       " -767.006   -698.088   -710.833   -671.151   -692.717 \n",
       " -802.125   -750.932   -748.376   -751.275   -706.619 \n",
       "   -1.0e10    -1.0e10    -1.0e10    -1.0e10    -1.0e10\n",
       "\n",
       "[:, :, 3] =\n",
       " -761.44    -692.711   -741.113   -766.41    -724.59  \n",
       " -778.735   -693.31    -763.337   -761.075   -691.375 \n",
       "   -1.0e10    -1.0e10    -1.0e10    -1.0e10    -1.0e10\n",
       "\n",
       "[:, :, 4] =\n",
       " -769.431   -703.978   -814.483   -734.936   -753.088 \n",
       " -765.173   -727.805   -734.459   -740.3     -814.086 \n",
       "   -1.0e10    -1.0e10    -1.0e10    -1.0e10    -1.0e10"
      ]
     },
     "metadata": {},
     "output_type": "display_data"
    },
    {
     "data": {
      "text/plain": [
       "Dict{String,Float64} with 60 entries:\n",
       "  \"<_M_2_R_1\" => -772.37\n",
       "  \"<_M_4_R_2\" => -693.31\n",
       "  \"^_M_4_R_4\" => -1.0e10\n",
       "  \">_M_2_R_2\" => -739.942\n",
       "  \"^_M_3_R_2\" => -1.0e10\n",
       "  \"<_M_5_R_5\" => -814.086\n",
       "  \"<_M_2_R_5\" => -651.2\n",
       "  \">_M_2_R_4\" => -809.859\n",
       "  \"^_M_5_R_2\" => -1.0e10\n",
       "  \">_M_2_R_3\" => -783.346\n",
       "  \"<_M_4_R_4\" => -761.075\n",
       "  \"<_M_5_R_4\" => -740.3\n",
       "  \"<_M_4_R_1\" => -778.735\n",
       "  \">_M_4_R_5\" => -724.59\n",
       "  \">_M_5_R_1\" => -769.431\n",
       "  \">_M_5_R_5\" => -753.088\n",
       "  \"^_M_2_R_2\" => -1.0e10\n",
       "  \"<_M_3_R_1\" => -802.125\n",
       "  \"<_M_3_R_2\" => -750.932\n",
       "  \"^_M_4_R_3\" => -1.0e10\n",
       "  \"^_M_2_R_4\" => -1.0e10\n",
       "  \"^_M_2_R_3\" => -1.0e10\n",
       "  \"<_M_4_R_5\" => -691.375\n",
       "  \"^_M_3_R_1\" => -1.0e10\n",
       "  \">_M_3_R_5\" => -692.717\n",
       "  ⋮           => ⋮"
      ]
     },
     "metadata": {},
     "output_type": "display_data"
    },
    {
     "data": {
      "text/plain": [
       "3-element Array{Float64,1}:\n",
       " -671.1512201994304\n",
       " -651.1998113084147\n",
       "   -1.0e10         "
      ]
     },
     "metadata": {},
     "output_type": "display_data"
    },
    {
     "name": "stdout",
     "output_type": "stream",
     "text": [
      "pair0001...\t\t\tfalse\n"
     ]
    },
    {
     "data": {
      "text/plain": [
       "0.0"
      ]
     },
     "execution_count": 127,
     "metadata": {},
     "output_type": "execute_result"
    }
   ],
   "source": [
    "causal_accuracy_preset_parameters_Ms(tuebingen_data[1:1], Inf; hp_folder=hp_folder, Ms=2:5, Rs=1:5,\n",
    "    EPOCHS=20, seed_no=101, test_method=\"vb\", norm=true, ratio=1.0, pseudodata_type=\"kmeans\", m_zero=true)"
   ]
  },
  {
   "cell_type": "code",
   "execution_count": 139,
   "metadata": {},
   "outputs": [
    {
     "data": {
      "text/plain": [
       "4.0"
      ]
     },
     "execution_count": 139,
     "metadata": {},
     "output_type": "execute_result"
    }
   ],
   "source": [
    "ceil(3.2)"
   ]
  },
  {
   "cell_type": "code",
   "execution_count": 140,
   "metadata": {},
   "outputs": [
    {
     "name": "stderr",
     "output_type": "stream",
     "text": [
      "┌ Info: Recompiling stale cache file /home/melih/.julia/compiled/v1.0/GaussianMixtures/1kPVN.ji for GaussianMixtures [cc18c42c-b769-54ff-9e2a-b28141a64aae]\n",
      "└ @ Base loading.jl:1190\n",
      "┌ Warning: Module Distributions with build ID 83046383098641 is missing from the cache.\n",
      "│ This may mean Distributions [31c24e10-a181-5473-b8eb-7969acd0382f] does not support precompilation but is imported by a module that does.\n",
      "└ @ Base loading.jl:947\n"
     ]
    }
   ],
   "source": [
    "using GaussianMixtures: GMM\n"
   ]
  },
  {
   "cell_type": "code",
   "execution_count": 141,
   "metadata": {},
   "outputs": [
    {
     "name": "stdout",
     "output_type": "stream",
     "text": [
      "search: \u001b[0m\u001b[1mG\u001b[22ma\u001b[0m\u001b[1mm\u001b[22m\u001b[0m\u001b[1mm\u001b[22ma \u001b[0m\u001b[1mg\u001b[22ma\u001b[0m\u001b[1mm\u001b[22m\u001b[0m\u001b[1mm\u001b[22ma \u001b[0m\u001b[1mg\u001b[22ma\u001b[0m\u001b[1mm\u001b[22m\u001b[0m\u001b[1mm\u001b[22ma_inc \u001b[0m\u001b[1mg\u001b[22ma\u001b[0m\u001b[1mm\u001b[22m\u001b[0m\u001b[1mm\u001b[22ma_inc_inv l\u001b[0m\u001b[1mg\u001b[22ma\u001b[0m\u001b[1mm\u001b[22m\u001b[0m\u001b[1mm\u001b[22ma l\u001b[0m\u001b[1mg\u001b[22ma\u001b[0m\u001b[1mm\u001b[22m\u001b[0m\u001b[1mm\u001b[22ma_r di\u001b[0m\u001b[1mg\u001b[22ma\u001b[0m\u001b[1mm\u001b[22m\u001b[0m\u001b[1mm\u001b[22ma tri\u001b[0m\u001b[1mg\u001b[22ma\u001b[0m\u001b[1mm\u001b[22m\u001b[0m\u001b[1mm\u001b[22ma\n",
      "\n"
     ]
    },
    {
     "data": {
      "text/latex": [
       "\\texttt{GMM} is the type that stores information of a Guassian Mixture Model.  Currently two main covariance types are supported: full covarariance and diagonal covariance.\n",
       "\n",
       "\\rule{\\textwidth}{1pt}\n",
       "\\texttt{GMM(n::Int, d::Int, kind::Symbol=:diag)} initializes a GMM with means 0 and Indentity covariances\n",
       "\n"
      ],
      "text/markdown": [
       "`GMM` is the type that stores information of a Guassian Mixture Model.  Currently two main covariance types are supported: full covarariance and diagonal covariance.\n",
       "\n",
       "---\n",
       "\n",
       "`GMM(n::Int, d::Int, kind::Symbol=:diag)` initializes a GMM with means 0 and Indentity covariances\n"
      ],
      "text/plain": [
       "  \u001b[36mGMM\u001b[39m is the type that stores information of a Guassian Mixture Model.\n",
       "  Currently two main covariance types are supported: full covarariance and\n",
       "  diagonal covariance.\n",
       "\n",
       "  ────────────────────────────────────────────────────────────────────────────\n",
       "\n",
       "  \u001b[36mGMM(n::Int, d::Int, kind::Symbol=:diag)\u001b[39m initializes a GMM with means 0 and\n",
       "  Indentity covariances"
      ]
     },
     "execution_count": 141,
     "metadata": {},
     "output_type": "execute_result"
    }
   ],
   "source": [
    "?GMM"
   ]
  },
  {
   "cell_type": "code",
   "execution_count": 142,
   "metadata": {},
   "outputs": [
    {
     "name": "stderr",
     "output_type": "stream",
     "text": [
      "┌ Info: Recompiling stale cache file /home/melih/.julia/compiled/v1.0/ScikitLearn/tbUuI.ji for ScikitLearn [3646fa90-6ef7-5e7e-9f22-8aca16db6324]\n",
      "└ @ Base loading.jl:1190\n",
      "┌ Warning: Module StatsBase with build ID 82723105326086 is missing from the cache.\n",
      "│ This may mean StatsBase [2913bbd2-ae8a-5f71-8c99-4fb6c76f3a91] does not support precompilation but is imported by a module that does.\n",
      "└ @ Base loading.jl:947\n"
     ]
    }
   ],
   "source": [
    "using ScikitLearn: fit!"
   ]
  },
  {
   "cell_type": "code",
   "execution_count": 144,
   "metadata": {},
   "outputs": [],
   "source": [
    "using Clustering: kmeans"
   ]
  },
  {
   "cell_type": "code",
   "execution_count": 146,
   "metadata": {},
   "outputs": [],
   "source": [
    "results = kmeans(randn(2,30),3);"
   ]
  },
  {
   "cell_type": "code",
   "execution_count": 147,
   "metadata": {},
   "outputs": [
    {
     "data": {
      "text/plain": [
       "30-element Array{Int64,1}:\n",
       " 1\n",
       " 2\n",
       " 1\n",
       " 2\n",
       " 3\n",
       " 1\n",
       " 3\n",
       " 1\n",
       " 2\n",
       " 1\n",
       " 1\n",
       " 1\n",
       " 1\n",
       " ⋮\n",
       " 3\n",
       " 2\n",
       " 3\n",
       " 3\n",
       " 3\n",
       " 3\n",
       " 3\n",
       " 2\n",
       " 2\n",
       " 3\n",
       " 1\n",
       " 1"
      ]
     },
     "execution_count": 147,
     "metadata": {},
     "output_type": "execute_result"
    }
   ],
   "source": [
    "results.assignments"
   ]
  },
  {
   "cell_type": "code",
   "execution_count": 137,
   "metadata": {},
   "outputs": [
    {
     "data": {
      "text/plain": [
       "(5, 3)"
      ]
     },
     "execution_count": 137,
     "metadata": {},
     "output_type": "execute_result"
    }
   ],
   "source": [
    "size(zeros(5,3))"
   ]
  },
  {
   "cell_type": "code",
   "execution_count": 82,
   "metadata": {},
   "outputs": [
    {
     "name": "stderr",
     "output_type": "stream",
     "text": [
      "WARNING: using BayesianCausality.get_pseudodata in module Main conflicts with an existing identifier.\n",
      "┌ Warning: readtable is deprecated, use CSV.read from the CSV package instead\n",
      "│   caller = ip:0x0\n",
      "└ @ Core :-1\n"
     ]
    }
   ],
   "source": [
    "include(\"src/BayesianCausalityOptimization.jl\");\n",
    "include(\"src/BayesianCausality.jl\");\n",
    "include(\"src/Datasets.jl\");\n",
    "include(\"src/Misc.jl\");\n",
    "\n",
    "using .Misc, .BayesianCausality, .BayesianCausalityOptimization\n",
    "using .Datasets\n",
    "using Statistics, Distributions\n",
    "using SpecialFunctions, LinearAlgebra\n",
    "import Base.Iterators: product\n",
    "import Random: randperm, seed!\n",
    "using BayesOpt\n",
    "import Base.Iterators: enumerate\n",
    "import Base.Filesystem: mkpath\n",
    "\n",
    "SEED = 100\n",
    "seed!(SEED)\n",
    "RESULTS_PATH = \"./results/tuebingen/vb-hp-opt\"\n",
    "PARAMS_PATH = \"./params\";\n",
    "\n",
    "hp_folder = \"$RESULTS_PATH/multiple_Ms_attempt\"\n",
    "\n",
    "valid_pairs = setdiff(1:100,[52,53,54,55,71])\n",
    "tuebingen_data = Datasets.tuebingen(valid_pairs);"
   ]
  },
  {
   "cell_type": "code",
   "execution_count": 88,
   "metadata": {},
   "outputs": [
    {
     "name": "stdout",
     "output_type": "stream",
     "text": [
      "pair0001...\t\t\t[-768.493, -765.66, -1.0e10, -727.897, -737.67, -1.0e10, -729.374, -721.033, -1.0e10, -752.406, -725.817, -1.0e10, -754.266, -714.758, -1.0e10]\n",
      "[-759.298 -744.73 -774.471 -927.919 -751.426; -778.715 -746.392 -723.551 -748.995 -707.407; -1.0e10 -1.0e10 -1.0e10 -1.0e10 -1.0e10]\n",
      "false\n"
     ]
    },
    {
     "data": {
      "text/plain": [
       "0.0"
      ]
     },
     "execution_count": 88,
     "metadata": {},
     "output_type": "execute_result"
    }
   ],
   "source": [
    "causal_accuracy_preset_parameters_Ms(tuebingen_data[1:1], Inf; hp_folder=hp_folder, M=4, Rs=1:5,\n",
    "    EPOCHS=20, seed_no=100, test_method=\"vb\", norm=true, ratio=1.0, pseudodata_type=\"kmeans\", m_zero=true)"
   ]
  }
 ],
 "metadata": {
  "kernelspec": {
   "display_name": "Julia 1.0.5",
   "language": "julia",
   "name": "julia-1.0"
  },
  "language_info": {
   "file_extension": ".jl",
   "mimetype": "application/julia",
   "name": "julia",
   "version": "1.0.5"
  }
 },
 "nbformat": 4,
 "nbformat_minor": 2
}
