{
 "cells": [
  {
   "cell_type": "code",
   "execution_count": 1,
   "metadata": {},
   "outputs": [],
   "source": [
    "include(\"src/Misc.jl\");\n",
    "include(\"src/Datasets.jl\");\n",
    "using Base.Filesystem\n",
    "using .Misc\n",
    "import .Datasets"
   ]
  },
  {
   "cell_type": "code",
   "execution_count": 90,
   "metadata": {},
   "outputs": [],
   "source": [
    "stem = \"/home/pilab/Desktop/melih/aistats_causality/results/tuebingen/vb-hp-opt/hp_opt_likelihood_1000_data_reverse_buggy_m_zero_seed_100/\";\n",
    "subfolder = \"optimization_results/\"\n",
    "pars = Dict()\n",
    "liks = Dict()\n",
    "for folder in readdir(string(stem, subfolder))\n",
    "    merge!(pars, load_json(string(stem, subfolder, folder, \"/parameters.json\"))[\"parameters\"])\n",
    "    merge!(liks, load_json(string(stem, subfolder, folder, \"/likelihoods.json\"))[\"likelihoods\"])\n",
    "end\n",
    "save_json(string(stem, \"/parameters.json\"), parameters=pars);\n",
    "save_json(string(stem, \"/likelihoods.json\"), likelihoods=liks);"
   ]
  },
  {
   "cell_type": "markdown",
   "metadata": {},
   "source": [
    "Combine cross validation values"
   ]
  },
  {
   "cell_type": "code",
   "execution_count": 81,
   "metadata": {},
   "outputs": [],
   "source": [
    "pars = []\n",
    "main = \"./results/tuebingen/old/vb-seed/\"\n",
    "for folder in readdir(main)\n",
    "    pars = append!(pars, collect(flatten(load_json(string(main, folder, \"/accuracy.json\"))[\"performance\"])))\n",
    "end"
   ]
  },
  {
   "cell_type": "markdown",
   "metadata": {},
   "source": [
    "## Generate parameters"
   ]
  },
  {
   "cell_type": "code",
   "execution_count": 1,
   "metadata": {},
   "outputs": [],
   "source": [
    "include(\"src/Misc.jl\");\n",
    "using .Misc"
   ]
  },
  {
   "cell_type": "code",
   "execution_count": 2,
   "metadata": {},
   "outputs": [],
   "source": [
    "A₁,A₂,B₁,B₂ = [[100., 10., 1.] for i in 1:4];"
   ]
  },
  {
   "cell_type": "code",
   "execution_count": 3,
   "metadata": {},
   "outputs": [
    {
     "data": {
      "text/plain": [
       "36"
      ]
     },
     "execution_count": 3,
     "metadata": {},
     "output_type": "execute_result"
    }
   ],
   "source": [
    "generate_params(A₁,A₂,B₁,B₂;PATH=\"./params\")"
   ]
  }
 ],
 "metadata": {
  "kernelspec": {
   "display_name": "Julia 1.0.5",
   "language": "julia",
   "name": "julia-1.0"
  },
  "language_info": {
   "file_extension": ".jl",
   "mimetype": "application/julia",
   "name": "julia",
   "version": "1.0.5"
  }
 },
 "nbformat": 4,
 "nbformat_minor": 2
}
