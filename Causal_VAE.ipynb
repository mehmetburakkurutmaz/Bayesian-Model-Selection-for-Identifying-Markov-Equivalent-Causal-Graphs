{
  "nbformat": 4,
  "nbformat_minor": 0,
  "metadata": {
    "colab": {
      "name": "Causal_VAE.ipynb",
      "provenance": []
    },
    "kernelspec": {
      "name": "python3",
      "display_name": "Python 3"
    },
    "accelerator": "GPU"
  },
  "cells": [
    {
      "cell_type": "code",
      "metadata": {
        "id": "ZX5JehBgWl8P",
        "colab_type": "code",
        "outputId": "c6e6cd05-7890-4603-98c5-34cbd7ffe031",
        "colab": {
          "base_uri": "https://localhost:8080/",
          "height": 701
        }
      },
      "source": [
        "!pip install --upgrade tensorflow-gpu tensorflow-probability tensorflow-datasets"
      ],
      "execution_count": 1,
      "outputs": [
        {
          "output_type": "stream",
          "text": [
            "Requirement already up-to-date: tensorflow-gpu in /usr/local/lib/python3.6/dist-packages (2.0.0)\n",
            "Requirement already up-to-date: tensorflow-probability in /usr/local/lib/python3.6/dist-packages (0.8.0)\n",
            "Requirement already up-to-date: tensorflow-datasets in /usr/local/lib/python3.6/dist-packages (1.2.0)\n",
            "Requirement already satisfied, skipping upgrade: tensorboard<2.1.0,>=2.0.0 in /usr/local/lib/python3.6/dist-packages (from tensorflow-gpu) (2.0.0)\n",
            "Requirement already satisfied, skipping upgrade: wheel>=0.26 in /usr/local/lib/python3.6/dist-packages (from tensorflow-gpu) (0.33.6)\n",
            "Requirement already satisfied, skipping upgrade: numpy<2.0,>=1.16.0 in /usr/local/lib/python3.6/dist-packages (from tensorflow-gpu) (1.16.5)\n",
            "Requirement already satisfied, skipping upgrade: tensorflow-estimator<2.1.0,>=2.0.0 in /usr/local/lib/python3.6/dist-packages (from tensorflow-gpu) (2.0.0)\n",
            "Requirement already satisfied, skipping upgrade: gast==0.2.2 in /usr/local/lib/python3.6/dist-packages (from tensorflow-gpu) (0.2.2)\n",
            "Requirement already satisfied, skipping upgrade: protobuf>=3.6.1 in /usr/local/lib/python3.6/dist-packages (from tensorflow-gpu) (3.7.1)\n",
            "Requirement already satisfied, skipping upgrade: absl-py>=0.7.0 in /usr/local/lib/python3.6/dist-packages (from tensorflow-gpu) (0.8.0)\n",
            "Requirement already satisfied, skipping upgrade: grpcio>=1.8.6 in /usr/local/lib/python3.6/dist-packages (from tensorflow-gpu) (1.15.0)\n",
            "Requirement already satisfied, skipping upgrade: google-pasta>=0.1.6 in /usr/local/lib/python3.6/dist-packages (from tensorflow-gpu) (0.1.7)\n",
            "Requirement already satisfied, skipping upgrade: opt-einsum>=2.3.2 in /usr/local/lib/python3.6/dist-packages (from tensorflow-gpu) (3.0.1)\n",
            "Requirement already satisfied, skipping upgrade: keras-preprocessing>=1.0.5 in /usr/local/lib/python3.6/dist-packages (from tensorflow-gpu) (1.1.0)\n",
            "Requirement already satisfied, skipping upgrade: six>=1.10.0 in /usr/local/lib/python3.6/dist-packages (from tensorflow-gpu) (1.12.0)\n",
            "Requirement already satisfied, skipping upgrade: astor>=0.6.0 in /usr/local/lib/python3.6/dist-packages (from tensorflow-gpu) (0.8.0)\n",
            "Requirement already satisfied, skipping upgrade: termcolor>=1.1.0 in /usr/local/lib/python3.6/dist-packages (from tensorflow-gpu) (1.1.0)\n",
            "Requirement already satisfied, skipping upgrade: keras-applications>=1.0.8 in /usr/local/lib/python3.6/dist-packages (from tensorflow-gpu) (1.0.8)\n",
            "Requirement already satisfied, skipping upgrade: wrapt>=1.11.1 in /usr/local/lib/python3.6/dist-packages (from tensorflow-gpu) (1.11.2)\n",
            "Requirement already satisfied, skipping upgrade: decorator in /usr/local/lib/python3.6/dist-packages (from tensorflow-probability) (4.4.0)\n",
            "Requirement already satisfied, skipping upgrade: cloudpickle==1.1.1 in /usr/local/lib/python3.6/dist-packages (from tensorflow-probability) (1.1.1)\n",
            "Requirement already satisfied, skipping upgrade: future in /usr/local/lib/python3.6/dist-packages (from tensorflow-datasets) (0.16.0)\n",
            "Requirement already satisfied, skipping upgrade: attrs in /usr/local/lib/python3.6/dist-packages (from tensorflow-datasets) (19.1.0)\n",
            "Requirement already satisfied, skipping upgrade: promise in /usr/local/lib/python3.6/dist-packages (from tensorflow-datasets) (2.2.1)\n",
            "Requirement already satisfied, skipping upgrade: requests>=2.19.0 in /usr/local/lib/python3.6/dist-packages (from tensorflow-datasets) (2.21.0)\n",
            "Requirement already satisfied, skipping upgrade: psutil in /usr/local/lib/python3.6/dist-packages (from tensorflow-datasets) (5.4.8)\n",
            "Requirement already satisfied, skipping upgrade: tensorflow-metadata in /usr/local/lib/python3.6/dist-packages (from tensorflow-datasets) (0.14.0)\n",
            "Requirement already satisfied, skipping upgrade: tqdm in /usr/local/lib/python3.6/dist-packages (from tensorflow-datasets) (4.28.1)\n",
            "Requirement already satisfied, skipping upgrade: dill in /usr/local/lib/python3.6/dist-packages (from tensorflow-datasets) (0.3.0)\n",
            "Requirement already satisfied, skipping upgrade: setuptools>=41.0.0 in /usr/local/lib/python3.6/dist-packages (from tensorboard<2.1.0,>=2.0.0->tensorflow-gpu) (41.2.0)\n",
            "Requirement already satisfied, skipping upgrade: werkzeug>=0.11.15 in /usr/local/lib/python3.6/dist-packages (from tensorboard<2.1.0,>=2.0.0->tensorflow-gpu) (0.16.0)\n",
            "Requirement already satisfied, skipping upgrade: markdown>=2.6.8 in /usr/local/lib/python3.6/dist-packages (from tensorboard<2.1.0,>=2.0.0->tensorflow-gpu) (3.1.1)\n",
            "Requirement already satisfied, skipping upgrade: h5py in /usr/local/lib/python3.6/dist-packages (from keras-applications>=1.0.8->tensorflow-gpu) (2.8.0)\n",
            "Requirement already satisfied, skipping upgrade: chardet<3.1.0,>=3.0.2 in /usr/local/lib/python3.6/dist-packages (from requests>=2.19.0->tensorflow-datasets) (3.0.4)\n",
            "Requirement already satisfied, skipping upgrade: idna<2.9,>=2.5 in /usr/local/lib/python3.6/dist-packages (from requests>=2.19.0->tensorflow-datasets) (2.8)\n",
            "Requirement already satisfied, skipping upgrade: urllib3<1.25,>=1.21.1 in /usr/local/lib/python3.6/dist-packages (from requests>=2.19.0->tensorflow-datasets) (1.24.3)\n",
            "Requirement already satisfied, skipping upgrade: certifi>=2017.4.17 in /usr/local/lib/python3.6/dist-packages (from requests>=2.19.0->tensorflow-datasets) (2019.9.11)\n",
            "Requirement already satisfied, skipping upgrade: googleapis-common-protos in /usr/local/lib/python3.6/dist-packages (from tensorflow-metadata->tensorflow-datasets) (1.6.0)\n"
          ],
          "name": "stdout"
        }
      ]
    },
    {
      "cell_type": "code",
      "metadata": {
        "id": "1YOnLWk3WWm1",
        "colab_type": "code",
        "colab": {}
      },
      "source": [
        "import tensorflow as tf\n",
        "import tensorflow_probability as tfp\n",
        "from tensorflow_probability import distributions as tfd\n",
        "from tensorflow_probability import layers as tfpl\n",
        "from tensorflow import keras as tfk\n",
        "from tensorflow.keras import layers as tfkl\n",
        "from tensorflow import math as tfm\n",
        "import tensorflow_datasets as tfds\n",
        "\n",
        "from tensorflow.python.keras.utils import conv_utils\n",
        "from tensorflow.python.ops import array_ops\n",
        "from tensorflow import nn\n",
        "\n",
        "import numpy as np\n",
        "import matplotlib.pyplot as plt"
      ],
      "execution_count": 0,
      "outputs": []
    },
    {
      "cell_type": "markdown",
      "metadata": {
        "id": "SI5vZN7H_poa",
        "colab_type": "text"
      },
      "source": [
        "# Dense Variational Layer"
      ]
    },
    {
      "cell_type": "code",
      "metadata": {
        "id": "crqwSVls_ofo",
        "colab_type": "code",
        "colab": {}
      },
      "source": [
        "class DenseVariational(tfkl.Layer):\n",
        "\n",
        "    def __init__(\n",
        "        self,\n",
        "        units,\n",
        "        activation=tf.identity,\n",
        "        activity_regularizer=None,\n",
        "        kernel_posterior_fn=tfpl.default_mean_field_normal_fn(),\n",
        "        kernel_posterior_tensor_fn=lambda d: d.sample(),\n",
        "        kernel_prior_fn=tfpl.default_multivariate_normal_fn,\n",
        "        kernel_divergence_fn=tfd.kl_divergence,\n",
        "        bias_posterior_fn=tfpl.default_mean_field_normal_fn(),\n",
        "        bias_posterior_tensor_fn=lambda d: d.sample(),\n",
        "        bias_prior_fn=tfpl.default_multivariate_normal_fn,\n",
        "        bias_divergence_fn=tfd.kl_divergence,\n",
        "        kl_weight = 1.,\n",
        "        **kwargs):\n",
        "        super(DenseVariational, self).__init__(activity_regularizer=activity_regularizer,**kwargs)\n",
        "        self.units = units\n",
        "        self.activation = tfk.activations.get(activation)\n",
        "        self.input_spec = tfkl.InputSpec(min_ndim=2)\n",
        "        self.kernel_posterior_fn = kernel_posterior_fn\n",
        "        self.kernel_posterior_tensor_fn = kernel_posterior_tensor_fn\n",
        "        self.kernel_prior_fn = kernel_prior_fn\n",
        "        self.bias_posterior_fn = bias_posterior_fn\n",
        "        self.bias_posterior_tensor_fn = bias_posterior_tensor_fn\n",
        "        self.bias_prior_fn = bias_prior_fn\n",
        "        self.kernel_divergence_fn = kernel_divergence_fn\n",
        "        self.bias_divergence_fn = bias_divergence_fn\n",
        "        self.kl_weight = kl_weight\n",
        "\n",
        "    def build(self, input_shape):\n",
        "        input_shape = tf.TensorShape(input_shape)\n",
        "        in_size = input_shape[-1]\n",
        "        \n",
        "        self._input_spec = tfkl.InputSpec(min_ndim=2, axes={-1: in_size})\n",
        "\n",
        "        dtype = tf.as_dtype(self.dtype or tfk.backend.floatx())\n",
        "\n",
        "        self.kernel_posterior = self.kernel_posterior_fn(\n",
        "                dtype, [in_size, self.units], 'kernel_posterior',\n",
        "                self.trainable, self.add_weight)\n",
        "\n",
        "        self.kernel_prior = self.kernel_prior_fn(\n",
        "                dtype, [in_size, self.units], 'kernel_prior',\n",
        "                self.trainable, self.add_weight)\n",
        "\n",
        "        self.bias_posterior = self.bias_posterior_fn(\n",
        "                dtype, [self.units], 'bias_posterior',\n",
        "                self.trainable, self.add_weight)\n",
        "\n",
        "        self.bias_prior = self.bias_prior_fn(\n",
        "                dtype, [self.units], 'bias_prior',\n",
        "                self.trainable, self.add_weight)\n",
        "\n",
        "        self.built = True\n",
        "\n",
        "    def call(self, inputs):\n",
        "        inputs = tf.convert_to_tensor(value=inputs, dtype=self.dtype)\n",
        "\n",
        "        outputs = self._apply_variational_kernel(inputs)\n",
        "        outputs = self._apply_variational_bias(outputs)\n",
        "        outputs = self.activation(outputs)\n",
        "        self._apply_divergence(\n",
        "            self.kernel_divergence_fn,\n",
        "            self.kernel_posterior,\n",
        "            self.kernel_prior,\n",
        "            name='divergence_kernel')\n",
        "        self._apply_divergence(\n",
        "            self.bias_divergence_fn,\n",
        "            self.bias_posterior,\n",
        "            self.bias_prior,\n",
        "            name='divergence_bias')\n",
        "        return outputs\n",
        "\n",
        "    def compute_output_shape(self, input_shape):\n",
        "        input_shape = tf.TensorShape(input_shape)\n",
        "        input_shape = input_shape.with_rank_at_least(2)\n",
        "        return input_shape[:-1].concatenate(self.units)\n",
        "\n",
        "    def _apply_variational_kernel(self, inputs):\n",
        "        self.kernel_posterior_tensor = self.kernel_posterior_tensor_fn(self.kernel_posterior)\n",
        "        self.kernel_posterior_affine = None\n",
        "        self.kernel_posterior_affine_tensor = None\n",
        "        return self._matmul(inputs, self.kernel_posterior_tensor)\n",
        "\n",
        "    def _apply_variational_bias(self, inputs):\n",
        "        self.bias_posterior_tensor = self.bias_posterior_tensor_fn(self.bias_posterior)\n",
        "        return tf.nn.bias_add(inputs, self.bias_posterior_tensor)\n",
        "\n",
        "    def _apply_divergence(self, divergence_fn, posterior, prior, name):\n",
        "        divergence = self.kl_weight*tf.identity(divergence_fn(posterior, prior), name=name)\n",
        "        self.add_loss(divergence)\n",
        "   \n",
        "    def _matmul(self, inputs, kernel):\n",
        "        if inputs.shape.ndims <= 2:\n",
        "            return tf.matmul(inputs, kernel)\n",
        "        # To handle broadcasting, we must use `tensordot`.\n",
        "        return tf.tensordot(inputs, kernel, axes=[[-1], [0]])"
      ],
      "execution_count": 0,
      "outputs": []
    },
    {
      "cell_type": "markdown",
      "metadata": {
        "id": "3lfB9ZseAKU8",
        "colab_type": "text"
      },
      "source": [
        "# Convolutional Variational Layer"
      ]
    },
    {
      "cell_type": "code",
      "metadata": {
        "id": "ulkDaxvcAIFp",
        "colab_type": "code",
        "colab": {}
      },
      "source": [
        "class ConvVariational(tfkl.Layer):\n",
        "    def __init__(\n",
        "            self,\n",
        "            rank,\n",
        "            filters,\n",
        "            kernel_size,\n",
        "            strides=1,\n",
        "            padding='valid',\n",
        "            data_format='channels_last',\n",
        "            dilations=1,\n",
        "            activation=tf.identity,\n",
        "            activity_regularizer=None,\n",
        "            kernel_posterior_fn=tfpl.default_mean_field_normal_fn(),\n",
        "            kernel_posterior_tensor_fn=lambda d: d.sample(),\n",
        "            kernel_prior_fn=tfpl.default_multivariate_normal_fn,\n",
        "            kernel_divergence_fn=tfd.kl_divergence,\n",
        "            kl_weight = 1.,\n",
        "            **kwargs):\n",
        "\n",
        "        super(ConvVariational, self).__init__(activity_regularizer=activity_regularizer,**kwargs)\n",
        "        self.rank = rank\n",
        "        self.filters = filters\n",
        "        self.kernel_size = conv_utils.normalize_tuple(kernel_size, rank, 'kernel_size')\n",
        "        self.strides = conv_utils.normalize_tuple(strides, rank, 'strides')\n",
        "        self.padding = conv_utils.normalize_padding(padding)\n",
        "        self.dilations = conv_utils.normalize_tuple(dilations, rank, 'dilations')\n",
        "        self.activation = tfk.activations.get(activation)\n",
        "        self.data_format = conv_utils.normalize_data_format(data_format)\n",
        "        self.kernel_posterior_fn = kernel_posterior_fn\n",
        "        self.kernel_posterior_tensor_fn = kernel_posterior_tensor_fn\n",
        "        self.kernel_prior_fn = kernel_prior_fn\n",
        "        self.kernel_divergence_fn = kernel_divergence_fn\n",
        "        self.kl_weight = kl_weight\n",
        "\n",
        "    def build(self, input_shape):\n",
        "        input_shape = tf.TensorShape(input_shape)\n",
        "        channel_axis = 1 if self.data_format == 'channels_first' else -1\n",
        "        input_dim = input_shape[channel_axis]\n",
        "        \n",
        "        self.input_spec = tfkl.InputSpec(ndim=self.rank + 2, axes={channel_axis: input_dim})\n",
        "    \n",
        "        # If self.dtype is None, build weights using the default dtype.\n",
        "        dtype = tf.as_dtype(self.dtype or tf.keras.backend.floatx())\n",
        "\n",
        "        kernel_shape = self.kernel_size + (input_dim, self.filters)\n",
        "\n",
        "        # Must have a posterior kernel.\n",
        "        self.kernel_posterior = self.kernel_posterior_fn(\n",
        "                dtype, kernel_shape, 'kernel_posterior',\n",
        "                self.trainable, self.add_weight)\n",
        "\n",
        "        self.kernel_prior = self.kernel_prior_fn(\n",
        "                dtype, kernel_shape, 'kernel_prior',\n",
        "                self.trainable, self.add_weight)\n",
        "\n",
        "        self.built = True\n",
        "\n",
        "    def call(self, inputs):\n",
        "        inputs = tf.convert_to_tensor(value=inputs, dtype=self.dtype)\n",
        "        outputs = self._apply_variational_kernel(inputs)\n",
        "        outputs = self.activation(outputs)\n",
        "        self._apply_divergence(self.kernel_divergence_fn,\n",
        "                                   self.kernel_posterior,\n",
        "                                   self.kernel_prior,\n",
        "                                   name='divergence_kernel')\n",
        "        return outputs\n",
        "\n",
        "        \n",
        "    def compute_output_shape(self, input_shape):\n",
        "        input_shape = tf.TensorShape(input_shape).as_list()\n",
        "        shape = input_shape[1:-1] if self.data_format == 'channels_last' else input_shape[2:] \n",
        "        \n",
        "        output_shape = [conv_utils.conv_output_length(\n",
        "                                dim,\n",
        "                                self.kernel_size[i],\n",
        "                                padding=self.padding,\n",
        "                                stride=self.strides[i],\n",
        "                                dilation=self.dilation_rate[i])\n",
        "                        for i,dim in enumerate(shape)]\n",
        "        \n",
        "        output_shape = tf.TensorShape([input_shape[0]] + output_shape + [self.filters]) \\\n",
        "                    if self.data_format == 'channels_last' else \\\n",
        "                    tf.TensorShape([input_shape[0], self.filters] + output_shape)\n",
        "\n",
        "        return output_shape\n",
        "     \n",
        "    def _apply_variational_kernel(self, inputs):\n",
        "        self.kernel_posterior_tensor = self.kernel_posterior_tensor_fn(self.kernel_posterior)\n",
        "        self.kernel_posterior_affine = None\n",
        "        self.kernel_posterior_affine_tensor = None\n",
        "        outputs = nn.convolution(inputs, self.kernel_posterior_tensor,\n",
        "                                 dilations=self.dilations,\n",
        "                                 strides=self.strides,\n",
        "                                 padding=self.padding.upper(),\n",
        "                                 data_format=conv_utils.convert_data_format(\n",
        "                                 self.data_format, self.rank + 2))\n",
        "        return outputs\n",
        "\n",
        "    def _apply_divergence(self, divergence_fn, posterior, prior, name):\n",
        "        divergence = self.kl_weight*tf.identity(divergence_fn(posterior, prior), name=name)\n",
        "        self.add_loss(divergence)\n",
        "        return"
      ],
      "execution_count": 0,
      "outputs": []
    },
    {
      "cell_type": "markdown",
      "metadata": {
        "id": "yD_CLtx5AW4L",
        "colab_type": "text"
      },
      "source": [
        "# Deconvolutional Variational Layer"
      ]
    },
    {
      "cell_type": "code",
      "metadata": {
        "id": "LeFP1F2zAkoQ",
        "colab_type": "code",
        "colab": {}
      },
      "source": [
        "class DeconvVariational(tfkl.Layer):\n",
        "    def __init__(\n",
        "            self,\n",
        "            rank,\n",
        "            filters,\n",
        "            kernel_size,\n",
        "            strides=1,\n",
        "            padding='valid',\n",
        "            output_padding=None,\n",
        "            data_format='channels_last',\n",
        "            dilation=1,\n",
        "            activation=tf.identity,\n",
        "            activity_regularizer=None,\n",
        "            kernel_posterior_fn=tfpl.default_mean_field_normal_fn(),\n",
        "            kernel_posterior_tensor_fn=lambda d: d.sample(),\n",
        "            kernel_prior_fn=tfpl.default_multivariate_normal_fn,\n",
        "            kernel_divergence_fn=tfd.kl_divergence,\n",
        "            kl_weight = 1.,\n",
        "            **kwargs):\n",
        "        \n",
        "        super(DeconvVariational, self).__init__(activity_regularizer=activity_regularizer,**kwargs)\n",
        "        self.rank = rank\n",
        "        self.filters = filters\n",
        "        self.kernel_size = conv_utils.normalize_tuple(kernel_size, rank, 'kernel_size')\n",
        "        self.strides = conv_utils.normalize_tuple(strides, rank, 'strides')\n",
        "        self.padding = conv_utils.normalize_padding(padding)\n",
        "        self.data_format = conv_utils.normalize_data_format(data_format)\n",
        "        self.dilation = conv_utils.normalize_tuple(dilation, rank, 'dilations')\n",
        "        self.activation = tfk.activations.get(activation)\n",
        "        self.kernel_posterior_fn = kernel_posterior_fn\n",
        "        self.kernel_posterior_tensor_fn = kernel_posterior_tensor_fn\n",
        "        self.kernel_prior_fn = kernel_prior_fn\n",
        "        self.kernel_divergence_fn = kernel_divergence_fn\n",
        "        self.kl_weight = kl_weight\n",
        "        self.output_padding = output_padding\n",
        "        if self.output_padding is not None:\n",
        "            self.output_padding = conv_utils.normalize_tuple(self.output_padding, rank, 'output_padding')\n",
        "        else:\n",
        "            self.output_padding = [None]*rank\n",
        "\n",
        "    def build(self, input_shape):\n",
        "        input_shape = tf.TensorShape(input_shape)\n",
        "        input_dim = input_shape[-1]\n",
        "        \n",
        "        self.input_spec = tfkl.InputSpec(ndim=self.rank+2, axes={-1: input_dim})\n",
        "        \n",
        "        # If self.dtype is None, build weights using the default dtype.\n",
        "        dtype = tf.as_dtype(self.dtype or tf.keras.backend.floatx())\n",
        "        \n",
        "        kernel_shape = self.kernel_size + (self.filters, input_dim)\n",
        "        \n",
        "        # Must have a posterior kernel.\n",
        "        self.kernel_posterior = self.kernel_posterior_fn(\n",
        "                dtype, kernel_shape, 'kernel_posterior',\n",
        "                self.trainable, self.add_weight)\n",
        "\n",
        "        self.kernel_prior = self.kernel_prior_fn(\n",
        "                dtype, kernel_shape, 'kernel_prior',\n",
        "                self.trainable, self.add_weight)\n",
        "\n",
        "        self.built = True\n",
        "\n",
        "    def call(self, inputs):\n",
        "        self.kernel_posterior_tensor = self.kernel_posterior_tensor_fn(self.kernel_posterior)\n",
        "        \n",
        "        inputs_shape = array_ops.shape(inputs)\n",
        "        shape = inputs_shape[1:-1] if self.data_format == 'channels_last' else inputs_shape[2:]\n",
        "                \n",
        "        spatial_shape = [conv_utils.deconv_output_length(\n",
        "                                shape[r],\n",
        "                                self.kernel_size[r],\n",
        "                                padding=self.padding,\n",
        "                                output_padding=self.output_padding[r],\n",
        "                                stride=self.strides[r],\n",
        "                                dilation=self.dilation[r])\n",
        "                        for r in range(self.rank)]\n",
        "        \n",
        "        output_shape = [inputs_shape[0]] + spatial_shape + [self.filters] \\\n",
        "                    if self.data_format == 'channels_last' else \\\n",
        "                    [inputs_shape[0], self.filters] + spatial_shape\n",
        "        \n",
        "        outputs = nn.conv_transpose(inputs, self.kernel_posterior_tensor,\n",
        "                                    output_shape=output_shape,\n",
        "                                    padding=self.padding.upper(),\n",
        "                                    dilations=self.dilation,\n",
        "                                    strides=self.strides,\n",
        "                                    data_format=conv_utils.convert_data_format(\n",
        "                                    self.data_format, self.rank + 2))\n",
        "        \n",
        "        outputs = self.activation(outputs)\n",
        "        \n",
        "        self._apply_divergence(self.kernel_divergence_fn,\n",
        "                                   self.kernel_posterior,\n",
        "                                   self.kernel_prior,\n",
        "                                   name='divergence_kernel')\n",
        "        return outputs\n",
        "\n",
        "    def compute_output_shape(self, input_shape):\n",
        "        input_shape = tf.TensorShape(input_shape)\n",
        "        shape = input_shape[1:-1] if self.data_format == 'channels_last' else input_shape[2:]\n",
        "        \n",
        "        output_shape = [conv_utils.deconv_output_length(\n",
        "                                dim,\n",
        "                                self.kernel_size[i],\n",
        "                                padding=self.padding,\n",
        "                                output_padding=self.output_padding[i],\n",
        "                                stride=self.strides[i],\n",
        "                                dilation=self.dilation[i])\n",
        "                        for i,dim in enumerate(shape)]\n",
        "        \n",
        "        output_shape = tf.TensorShape([input_shape[0]] + output_shape + [self.filters]) \\\n",
        "                    if self.data_format == 'channels_last' else \\\n",
        "                    tf.TensorShape([input_shape[0], self.filters] + output_shape)\n",
        "\n",
        "        return output_shape\n",
        "\n",
        "    def _apply_divergence(self, divergence_fn, posterior, prior, name):\n",
        "        divergence = self.kl_weight*tf.identity(divergence_fn(posterior, prior), name=name)\n",
        "        self.add_loss(divergence)\n",
        "        return"
      ],
      "execution_count": 0,
      "outputs": []
    },
    {
      "cell_type": "markdown",
      "metadata": {
        "id": "VQBQHfYCA7Zr",
        "colab_type": "text"
      },
      "source": [
        "# Experiment"
      ]
    },
    {
      "cell_type": "code",
      "metadata": {
        "id": "bY9UTb9kCmLv",
        "colab_type": "code",
        "colab": {}
      },
      "source": [
        "def preprocess(batch):\n",
        "  imgs = batch.reshape(-1,28,28,1).astype(\"float32\")\n",
        "  imgs[imgs < 128] = 0.\n",
        "  imgs[imgs >= 128] = 1.\n",
        "  return tf.cast(imgs,tf.bool)"
      ],
      "execution_count": 0,
      "outputs": []
    },
    {
      "cell_type": "code",
      "metadata": {
        "id": "shIWsSQvEYxN",
        "colab_type": "code",
        "colab": {}
      },
      "source": [
        "def minibatches(batch,mb_size=1):\n",
        "  return tf.data.Dataset.from_tensor_slices((batch,batch)).batch(mb_size)"
      ],
      "execution_count": 0,
      "outputs": []
    },
    {
      "cell_type": "code",
      "metadata": {
        "id": "dBMUgzFZWzTr",
        "colab_type": "code",
        "colab": {}
      },
      "source": [
        "D = 10\n",
        "(train_images, train_labels), (test_images, test_labels) = tf.keras.datasets.mnist.load_data()\n",
        "\n",
        "#train_images = train_images[:N,...]\n",
        "#train_labels = train_labels[:N,...]\n",
        "\n",
        "train_images = [preprocess(train_images[train_labels == d]) for d in range(D)]\n",
        "test_images = [preprocess(test_images[test_labels == d]) for d in range(D)]\n",
        "\n",
        "train_sizes = [np.sum(train_labels == d) for d in range(D)]\n",
        "test_sizes = [np.sum(test_labels == d) for d in range(D)]"
      ],
      "execution_count": 0,
      "outputs": []
    },
    {
      "cell_type": "code",
      "metadata": {
        "id": "x-WIpEv7Zbcd",
        "colab_type": "code",
        "colab": {}
      },
      "source": [
        "BATCH_SIZE = 100\n",
        "\n",
        "train_data = [minibatches(batch,BATCH_SIZE) for batch in train_images]\n",
        "test_data = [minibatches(batch,BATCH_SIZE) for batch in test_images]"
      ],
      "execution_count": 0,
      "outputs": []
    },
    {
      "cell_type": "code",
      "metadata": {
        "id": "M0imerJhZmg6",
        "colab_type": "code",
        "colab": {}
      },
      "source": [
        "img_shape = train_images[0].shape[1:]\n",
        "encoded_size = 8\n",
        "base_depth = 24"
      ],
      "execution_count": 0,
      "outputs": []
    },
    {
      "cell_type": "code",
      "metadata": {
        "id": "b6lTd3DEJ_in",
        "colab_type": "code",
        "colab": {}
      },
      "source": [
        "def create_encoder(input_shape, latent_dim, base_filters, kl_weight=1.0):\n",
        "    prior = tfd.Independent(tfd.Normal(loc=tf.zeros(encoded_size), scale=1),reinterpreted_batch_ndims=1)\n",
        "    encoder = tfk.Sequential([\n",
        "      tfkl.InputLayer(input_shape=input_shape),\n",
        "      tfkl.Lambda(lambda x: x - 0.5),\n",
        "      tfkl.Conv2D(base_filters, 5, strides=2,\n",
        "                padding='same', activation=tf.nn.leaky_relu),\n",
        "      #tfkl.Conv2D(base_filters, 5, strides=2,\n",
        "      #          padding='same', activation=tf.nn.leaky_relu),\n",
        "      #tfkl.Conv2D(2 * base_filters, 5, strides=1,\n",
        "      #          padding='same', activation=tf.nn.leaky_relu),\n",
        "      tfkl.Conv2D(2 * base_filters, 5, strides=2,\n",
        "                padding='same', activation=tf.nn.leaky_relu),\n",
        "      tfkl.Conv2D(4 * latent_dim, 7, strides=2,\n",
        "                padding='valid', activation=tf.nn.leaky_relu),\n",
        "      tfkl.Flatten(),\n",
        "      tfkl.Dense(tfpl.MultivariateNormalTriL.params_size(latent_dim), activation=None),\n",
        "      tfpl.MultivariateNormalTriL(latent_dim,\n",
        "          activity_regularizer=tfpl.KLDivergenceRegularizer(prior, weight=kl_weight)),])\n",
        "    return encoder"
      ],
      "execution_count": 0,
      "outputs": []
    },
    {
      "cell_type": "code",
      "metadata": {
        "id": "_u0MEbz8Kr8F",
        "colab_type": "code",
        "colab": {}
      },
      "source": [
        "def create_decoder(output_shape, latent_dim, base_filters, kl_weight=1.0):\n",
        "    decoder = tfk.Sequential([\n",
        "      tfkl.InputLayer(input_shape=[latent_dim]),\n",
        "      tfkl.Reshape([1, 1, latent_dim]),\n",
        "      DeconvVariational(2, 2 * base_filters, 7, strides=2, kl_weight=kl_weight,\n",
        "                          padding='valid', activation=tf.nn.leaky_relu),\n",
        "      #DeconvVariational(2, 2 * base_filters, 5, strides=1, kl_weight=kl_weight,\n",
        "      #                    padding='same', activation=tf.nn.leaky_relu),\n",
        "      DeconvVariational(2, 2 * base_filters, 5, strides=2, kl_weight=kl_weight,\n",
        "                          padding='same', activation=tf.nn.leaky_relu),\n",
        "      #DeconvVariational(2, base_filters, 5, strides=1, kl_weight=kl_weight,\n",
        "      #                    padding='same', activation=tf.nn.leaky_relu),\n",
        "      DeconvVariational(2, base_filters, 5, strides=2, kl_weight=kl_weight,\n",
        "                          padding='same', activation=tf.nn.leaky_relu),\n",
        "      #DeconvVariational(2, base_filters, 5, strides=1, kl_weight=kl_weight,\n",
        "      #                    padding='same', activation=tf.nn.leaky_relu),\n",
        "      ConvVariational(2, filters=1, kernel_size=5, strides=1, kl_weight=kl_weight,\n",
        "                          padding='same', activation=None),\n",
        "      tfkl.Flatten(),\n",
        "      tfpl.IndependentBernoulli(output_shape, tfd.Bernoulli.logits),])\n",
        "    return decoder"
      ],
      "execution_count": 0,
      "outputs": []
    },
    {
      "cell_type": "code",
      "metadata": {
        "id": "R0zflIMdZtt4",
        "colab_type": "code",
        "colab": {}
      },
      "source": [
        "encoders = [create_encoder(img_shape,encoded_size,base_depth,kl_weight=1) for d in range(D)]\n",
        "decoders = [create_decoder(img_shape,encoded_size,base_depth,kl_weight=1/train_sizes[d]) for d in range(D)]\n",
        "\n",
        "models = [tfk.Model(inputs=encoders[d].inputs, outputs=decoders[d](encoders[d].outputs)) for d in range(D)]"
      ],
      "execution_count": 0,
      "outputs": []
    },
    {
      "cell_type": "code",
      "metadata": {
        "id": "aBks33X6ZzPS",
        "colab_type": "code",
        "outputId": "84adc7db-9280-4970-9eec-29f969943082",
        "colab": {
          "base_uri": "https://localhost:8080/",
          "height": 1000
        }
      },
      "source": [
        "negative_log_likelihood = lambda x, rv_x: -rv_x.log_prob(x)\n",
        "\n",
        "for d in range(D):\n",
        "  print(\"Training for digit: \",d)\n",
        "  print(\"-\"*40)\n",
        "  models[d].compile(optimizer=tf.optimizers.Adam(learning_rate=1e-2), loss=negative_log_likelihood)\n",
        "  models[d].fit(train_data[d], epochs=15, validation_data=test_data[d])\n",
        "  print()"
      ],
      "execution_count": 14,
      "outputs": [
        {
          "output_type": "stream",
          "text": [
            "Training for digit:  0\n",
            "----------------------------------------\n",
            "Epoch 1/15\n",
            "60/60 [==============================] - 7s 115ms/step - loss: 368.3497 - val_loss: 0.0000e+00\n",
            "Epoch 2/15\n",
            "60/60 [==============================] - 2s 28ms/step - loss: 233.7081 - val_loss: 220.9423\n",
            "Epoch 3/15\n",
            "60/60 [==============================] - 2s 27ms/step - loss: 208.9553 - val_loss: 196.6602\n",
            "Epoch 4/15\n",
            "60/60 [==============================] - 2s 27ms/step - loss: 195.4986 - val_loss: 191.9420\n",
            "Epoch 5/15\n",
            "60/60 [==============================] - 2s 27ms/step - loss: 190.7680 - val_loss: 187.7291\n",
            "Epoch 6/15\n",
            "60/60 [==============================] - 2s 28ms/step - loss: 187.6140 - val_loss: 183.2626\n",
            "Epoch 7/15\n",
            "60/60 [==============================] - 2s 28ms/step - loss: 182.2551 - val_loss: 179.2867\n",
            "Epoch 8/15\n",
            "60/60 [==============================] - 2s 28ms/step - loss: 179.0519 - val_loss: 177.6850\n",
            "Epoch 9/15\n",
            "60/60 [==============================] - 2s 27ms/step - loss: 178.4163 - val_loss: 181.2046\n",
            "Epoch 10/15\n",
            "60/60 [==============================] - 2s 28ms/step - loss: 177.0245 - val_loss: 178.2350\n",
            "Epoch 11/15\n",
            "60/60 [==============================] - 2s 27ms/step - loss: 176.5228 - val_loss: 175.1167\n",
            "Epoch 12/15\n",
            "60/60 [==============================] - 2s 27ms/step - loss: 174.3539 - val_loss: 172.0499\n",
            "Epoch 13/15\n",
            "60/60 [==============================] - 2s 27ms/step - loss: 172.8760 - val_loss: 173.4202\n",
            "Epoch 14/15\n",
            "60/60 [==============================] - 2s 28ms/step - loss: 171.1755 - val_loss: 171.9134\n",
            "Epoch 15/15\n",
            "60/60 [==============================] - 2s 28ms/step - loss: 171.1102 - val_loss: 172.9580\n",
            "\n",
            "Training for digit:  1\n",
            "----------------------------------------\n",
            "Epoch 1/15\n",
            "68/68 [==============================] - 6s 85ms/step - loss: 202.8457 - val_loss: 0.0000e+00\n",
            "Epoch 2/15\n",
            "68/68 [==============================] - 2s 27ms/step - loss: 112.5844 - val_loss: 105.3470\n",
            "Epoch 3/15\n",
            "68/68 [==============================] - 2s 27ms/step - loss: 104.7417 - val_loss: 99.6047\n",
            "Epoch 4/15\n",
            "68/68 [==============================] - 2s 27ms/step - loss: 100.3164 - val_loss: 98.2941\n",
            "Epoch 5/15\n",
            "68/68 [==============================] - 2s 27ms/step - loss: 98.6554 - val_loss: 97.8010\n",
            "Epoch 6/15\n",
            "68/68 [==============================] - 2s 28ms/step - loss: 97.0194 - val_loss: 94.8211\n",
            "Epoch 7/15\n",
            "68/68 [==============================] - 2s 28ms/step - loss: 96.4618 - val_loss: 95.6019\n",
            "Epoch 8/15\n",
            "68/68 [==============================] - 2s 27ms/step - loss: 95.0853 - val_loss: 93.2931\n",
            "Epoch 9/15\n",
            "68/68 [==============================] - 2s 27ms/step - loss: 94.1482 - val_loss: 92.3116\n",
            "Epoch 10/15\n",
            "68/68 [==============================] - 2s 28ms/step - loss: 93.5487 - val_loss: 90.5020\n",
            "Epoch 11/15\n",
            "68/68 [==============================] - 2s 28ms/step - loss: 92.4435 - val_loss: 91.4517\n",
            "Epoch 12/15\n",
            "68/68 [==============================] - 2s 28ms/step - loss: 91.0275 - val_loss: 88.2680\n",
            "Epoch 13/15\n",
            "68/68 [==============================] - 2s 28ms/step - loss: 89.6618 - val_loss: 86.1491\n",
            "Epoch 14/15\n",
            "68/68 [==============================] - 2s 27ms/step - loss: 88.4927 - val_loss: 86.0674\n",
            "Epoch 15/15\n",
            "68/68 [==============================] - 2s 28ms/step - loss: 86.8304 - val_loss: 86.6162\n",
            "\n",
            "Training for digit:  2\n",
            "----------------------------------------\n",
            "Epoch 1/15\n",
            "60/60 [==============================] - 6s 93ms/step - loss: 324.5020 - val_loss: 0.0000e+00\n",
            "Epoch 2/15\n",
            "60/60 [==============================] - 2s 28ms/step - loss: 251.8623 - val_loss: 234.4468\n",
            "Epoch 3/15\n",
            "60/60 [==============================] - 2s 27ms/step - loss: 228.1047 - val_loss: 219.9374\n",
            "Epoch 4/15\n",
            "60/60 [==============================] - 2s 28ms/step - loss: 220.5675 - val_loss: 216.9509\n",
            "Epoch 5/15\n",
            "60/60 [==============================] - 2s 27ms/step - loss: 212.4897 - val_loss: 209.2952\n",
            "Epoch 6/15\n",
            "60/60 [==============================] - 2s 28ms/step - loss: 207.5052 - val_loss: 202.5886\n",
            "Epoch 7/15\n",
            "60/60 [==============================] - 2s 28ms/step - loss: 204.5253 - val_loss: 198.1203\n",
            "Epoch 8/15\n",
            "60/60 [==============================] - 2s 27ms/step - loss: 198.8449 - val_loss: 195.5908\n",
            "Epoch 9/15\n",
            "60/60 [==============================] - 2s 28ms/step - loss: 194.3767 - val_loss: 192.3910\n",
            "Epoch 10/15\n",
            "60/60 [==============================] - 2s 28ms/step - loss: 194.0390 - val_loss: 193.6238\n",
            "Epoch 11/15\n",
            "60/60 [==============================] - 2s 28ms/step - loss: 194.1750 - val_loss: 191.3554\n",
            "Epoch 12/15\n",
            "60/60 [==============================] - 2s 28ms/step - loss: 189.2993 - val_loss: 186.0702\n",
            "Epoch 13/15\n",
            "60/60 [==============================] - 2s 27ms/step - loss: 189.9187 - val_loss: 193.7419\n",
            "Epoch 14/15\n",
            "60/60 [==============================] - 2s 28ms/step - loss: 187.9277 - val_loss: 183.6529\n",
            "Epoch 15/15\n",
            "60/60 [==============================] - 2s 28ms/step - loss: 185.7906 - val_loss: 187.3773\n",
            "\n",
            "Training for digit:  3\n",
            "----------------------------------------\n",
            "Epoch 1/15\n",
            "62/62 [==============================] - 6s 91ms/step - loss: 333.9625 - val_loss: 0.0000e+00\n",
            "Epoch 2/15\n",
            "62/62 [==============================] - 2s 27ms/step - loss: 231.2148 - val_loss: 217.9635\n",
            "Epoch 3/15\n",
            "62/62 [==============================] - 2s 27ms/step - loss: 213.2881 - val_loss: 209.0054\n",
            "Epoch 4/15\n",
            "62/62 [==============================] - 2s 28ms/step - loss: 205.2063 - val_loss: 198.1710\n",
            "Epoch 5/15\n",
            "62/62 [==============================] - 2s 27ms/step - loss: 196.3957 - val_loss: 194.1894\n",
            "Epoch 6/15\n",
            "62/62 [==============================] - 2s 27ms/step - loss: 194.4968 - val_loss: 192.6116\n",
            "Epoch 7/15\n",
            "62/62 [==============================] - 2s 28ms/step - loss: 191.2872 - val_loss: 191.7436\n",
            "Epoch 8/15\n",
            "62/62 [==============================] - 2s 27ms/step - loss: 190.8212 - val_loss: 188.8667\n",
            "Epoch 9/15\n",
            "62/62 [==============================] - 2s 27ms/step - loss: 187.6026 - val_loss: 189.0108\n",
            "Epoch 10/15\n",
            "62/62 [==============================] - 2s 28ms/step - loss: 185.5374 - val_loss: 182.1984\n",
            "Epoch 11/15\n",
            "62/62 [==============================] - 2s 28ms/step - loss: 185.3761 - val_loss: 182.7102\n",
            "Epoch 12/15\n",
            "62/62 [==============================] - 2s 28ms/step - loss: 183.3566 - val_loss: 184.0788\n",
            "Epoch 13/15\n",
            "62/62 [==============================] - 2s 28ms/step - loss: 181.7485 - val_loss: 180.4962\n",
            "Epoch 14/15\n",
            "62/62 [==============================] - 2s 28ms/step - loss: 181.2230 - val_loss: 181.6247\n",
            "Epoch 15/15\n",
            "62/62 [==============================] - 2s 27ms/step - loss: 180.0711 - val_loss: 179.2754\n",
            "\n",
            "Training for digit:  4\n",
            "----------------------------------------\n",
            "Epoch 1/15\n",
            "59/59 [==============================] - 5s 86ms/step - loss: 313.4756 - val_loss: 0.0000e+00\n",
            "Epoch 2/15\n",
            "59/59 [==============================] - 2s 27ms/step - loss: 224.7740 - val_loss: 207.0958\n",
            "Epoch 3/15\n",
            "59/59 [==============================] - 2s 27ms/step - loss: 200.8301 - val_loss: 191.4951\n",
            "Epoch 4/15\n",
            "59/59 [==============================] - 2s 27ms/step - loss: 191.0827 - val_loss: 187.3974\n",
            "Epoch 5/15\n",
            "59/59 [==============================] - 2s 27ms/step - loss: 185.7749 - val_loss: 181.4103\n",
            "Epoch 6/15\n",
            "59/59 [==============================] - 2s 27ms/step - loss: 181.7697 - val_loss: 182.5694\n",
            "Epoch 7/15\n",
            "59/59 [==============================] - 2s 28ms/step - loss: 179.6809 - val_loss: 175.2835\n",
            "Epoch 8/15\n",
            "59/59 [==============================] - 2s 27ms/step - loss: 175.5419 - val_loss: 171.8809\n",
            "Epoch 9/15\n",
            "59/59 [==============================] - 2s 27ms/step - loss: 172.3782 - val_loss: 171.9894\n",
            "Epoch 10/15\n",
            "59/59 [==============================] - 2s 27ms/step - loss: 170.0610 - val_loss: 166.1385\n",
            "Epoch 11/15\n",
            "59/59 [==============================] - 2s 27ms/step - loss: 166.6727 - val_loss: 168.3622\n",
            "Epoch 12/15\n",
            "59/59 [==============================] - 2s 27ms/step - loss: 165.0488 - val_loss: 162.9609\n",
            "Epoch 13/15\n",
            "59/59 [==============================] - 2s 28ms/step - loss: 163.2506 - val_loss: 162.2198\n",
            "Epoch 14/15\n",
            "59/59 [==============================] - 2s 27ms/step - loss: 162.1104 - val_loss: 158.9768\n",
            "Epoch 15/15\n",
            "59/59 [==============================] - 2s 27ms/step - loss: 160.3520 - val_loss: 159.4285\n",
            "\n",
            "Training for digit:  5\n",
            "----------------------------------------\n",
            "Epoch 1/15\n",
            "55/55 [==============================] - 6s 102ms/step - loss: 349.1315 - val_loss: 0.0000e+00\n",
            "Epoch 2/15\n",
            "55/55 [==============================] - 2s 28ms/step - loss: 236.5381 - val_loss: 224.0047\n",
            "Epoch 3/15\n",
            "55/55 [==============================] - 1s 27ms/step - loss: 218.6109 - val_loss: 214.5210\n",
            "Epoch 4/15\n",
            "55/55 [==============================] - 1s 27ms/step - loss: 212.1467 - val_loss: 214.2940\n",
            "Epoch 5/15\n",
            "55/55 [==============================] - 2s 27ms/step - loss: 204.0883 - val_loss: 203.2187\n",
            "Epoch 6/15\n",
            "55/55 [==============================] - 1s 27ms/step - loss: 198.5237 - val_loss: 200.8378\n",
            "Epoch 7/15\n",
            "55/55 [==============================] - 1s 27ms/step - loss: 196.6741 - val_loss: 196.1866\n",
            "Epoch 8/15\n",
            "55/55 [==============================] - 1s 27ms/step - loss: 194.3924 - val_loss: 193.9260\n",
            "Epoch 9/15\n",
            "55/55 [==============================] - 1s 27ms/step - loss: 191.1575 - val_loss: 194.0709\n",
            "Epoch 10/15\n",
            "55/55 [==============================] - 2s 28ms/step - loss: 189.6601 - val_loss: 189.3155\n",
            "Epoch 11/15\n",
            "55/55 [==============================] - 2s 28ms/step - loss: 186.9320 - val_loss: 183.9375\n",
            "Epoch 12/15\n",
            "55/55 [==============================] - 2s 28ms/step - loss: 185.8472 - val_loss: 184.0023\n",
            "Epoch 13/15\n",
            "55/55 [==============================] - 2s 29ms/step - loss: 183.3887 - val_loss: 184.3775\n",
            "Epoch 14/15\n",
            "55/55 [==============================] - 2s 28ms/step - loss: 181.8662 - val_loss: 187.0392\n",
            "Epoch 15/15\n",
            "55/55 [==============================] - 2s 29ms/step - loss: 181.2107 - val_loss: 182.7242\n",
            "\n",
            "Training for digit:  6\n",
            "----------------------------------------\n",
            "Epoch 1/15\n",
            "60/60 [==============================] - 5s 86ms/step - loss: 370.6775 - val_loss: 0.0000e+00\n",
            "Epoch 2/15\n",
            "60/60 [==============================] - 2s 27ms/step - loss: 218.3684 - val_loss: 209.1528\n",
            "Epoch 3/15\n",
            "60/60 [==============================] - 2s 27ms/step - loss: 195.8952 - val_loss: 193.1638\n",
            "Epoch 4/15\n",
            "60/60 [==============================] - 2s 28ms/step - loss: 188.9232 - val_loss: 188.1269\n",
            "Epoch 5/15\n",
            "60/60 [==============================] - 2s 28ms/step - loss: 183.9686 - val_loss: 185.0048\n",
            "Epoch 6/15\n",
            "60/60 [==============================] - 2s 27ms/step - loss: 180.3118 - val_loss: 187.8196\n",
            "Epoch 7/15\n",
            "60/60 [==============================] - 2s 27ms/step - loss: 180.3561 - val_loss: 180.4791\n",
            "Epoch 8/15\n",
            "60/60 [==============================] - 2s 28ms/step - loss: 174.7999 - val_loss: 176.9630\n",
            "Epoch 9/15\n",
            "60/60 [==============================] - 2s 28ms/step - loss: 174.1653 - val_loss: 175.5294\n",
            "Epoch 10/15\n",
            "60/60 [==============================] - 2s 27ms/step - loss: 172.3067 - val_loss: 172.0282\n",
            "Epoch 11/15\n",
            "60/60 [==============================] - 2s 27ms/step - loss: 168.5731 - val_loss: 172.8879\n",
            "Epoch 12/15\n",
            "60/60 [==============================] - 2s 27ms/step - loss: 165.9916 - val_loss: 167.4893\n",
            "Epoch 13/15\n",
            "60/60 [==============================] - 2s 28ms/step - loss: 164.3382 - val_loss: 166.3418\n",
            "Epoch 14/15\n",
            "60/60 [==============================] - 2s 27ms/step - loss: 161.7282 - val_loss: 166.5666\n",
            "Epoch 15/15\n",
            "60/60 [==============================] - 2s 27ms/step - loss: 159.4765 - val_loss: 158.8083\n",
            "\n",
            "Training for digit:  7\n",
            "----------------------------------------\n",
            "Epoch 1/15\n",
            "63/63 [==============================] - 6s 94ms/step - loss: 303.2629 - val_loss: 0.0000e+00\n",
            "Epoch 2/15\n",
            "63/63 [==============================] - 2s 28ms/step - loss: 195.7958 - val_loss: 175.5004\n",
            "Epoch 3/15\n",
            "63/63 [==============================] - 2s 27ms/step - loss: 169.8778 - val_loss: 164.5394\n",
            "Epoch 4/15\n",
            "63/63 [==============================] - 2s 27ms/step - loss: 164.7006 - val_loss: 159.4494\n",
            "Epoch 5/15\n",
            "63/63 [==============================] - 2s 27ms/step - loss: 163.0526 - val_loss: 157.8635\n",
            "Epoch 6/15\n",
            "63/63 [==============================] - 2s 27ms/step - loss: 159.0358 - val_loss: 154.3481\n",
            "Epoch 7/15\n",
            "63/63 [==============================] - 2s 27ms/step - loss: 155.4775 - val_loss: 155.0547\n",
            "Epoch 8/15\n",
            "63/63 [==============================] - 2s 28ms/step - loss: 152.1530 - val_loss: 145.4960\n",
            "Epoch 9/15\n",
            "63/63 [==============================] - 2s 27ms/step - loss: 148.3149 - val_loss: 147.3216\n",
            "Epoch 10/15\n",
            "63/63 [==============================] - 2s 27ms/step - loss: 146.3466 - val_loss: 141.8654\n",
            "Epoch 11/15\n",
            "63/63 [==============================] - 2s 27ms/step - loss: 146.7912 - val_loss: 147.4868\n",
            "Epoch 12/15\n",
            "63/63 [==============================] - 2s 27ms/step - loss: 145.1278 - val_loss: 141.6075\n",
            "Epoch 13/15\n",
            "63/63 [==============================] - 2s 28ms/step - loss: 143.3813 - val_loss: 140.6973\n",
            "Epoch 14/15\n",
            "63/63 [==============================] - 2s 28ms/step - loss: 143.3587 - val_loss: 142.2634\n",
            "Epoch 15/15\n",
            "63/63 [==============================] - 2s 27ms/step - loss: 141.7417 - val_loss: 139.3730\n",
            "\n",
            "Training for digit:  8\n",
            "----------------------------------------\n",
            "Epoch 1/15\n",
            "59/59 [==============================] - 5s 90ms/step - loss: 334.8883 - val_loss: 0.0000e+00\n",
            "Epoch 2/15\n",
            "59/59 [==============================] - 2s 28ms/step - loss: 232.4990 - val_loss: 222.9367\n",
            "Epoch 3/15\n",
            "59/59 [==============================] - 2s 28ms/step - loss: 215.6515 - val_loss: 210.8051\n",
            "Epoch 4/15\n",
            "59/59 [==============================] - 2s 27ms/step - loss: 209.5754 - val_loss: 208.8489\n",
            "Epoch 5/15\n",
            "59/59 [==============================] - 2s 27ms/step - loss: 204.3068 - val_loss: 203.5353\n",
            "Epoch 6/15\n",
            "59/59 [==============================] - 2s 28ms/step - loss: 199.5396 - val_loss: 199.5804\n",
            "Epoch 7/15\n",
            "59/59 [==============================] - 2s 27ms/step - loss: 197.2389 - val_loss: 199.9141\n",
            "Epoch 8/15\n",
            "59/59 [==============================] - 2s 27ms/step - loss: 197.3603 - val_loss: 196.9004\n",
            "Epoch 9/15\n",
            "59/59 [==============================] - 2s 27ms/step - loss: 193.9221 - val_loss: 196.8996\n",
            "Epoch 10/15\n",
            "59/59 [==============================] - 2s 28ms/step - loss: 191.8119 - val_loss: 191.7241\n",
            "Epoch 11/15\n",
            "59/59 [==============================] - 2s 28ms/step - loss: 190.1236 - val_loss: 191.4566\n",
            "Epoch 12/15\n",
            "59/59 [==============================] - 2s 27ms/step - loss: 188.1255 - val_loss: 190.2515\n",
            "Epoch 13/15\n",
            "59/59 [==============================] - 2s 28ms/step - loss: 188.2451 - val_loss: 188.6730\n",
            "Epoch 14/15\n",
            "59/59 [==============================] - 2s 27ms/step - loss: 186.2407 - val_loss: 186.3596\n",
            "Epoch 15/15\n",
            "59/59 [==============================] - 2s 28ms/step - loss: 184.1037 - val_loss: 187.1351\n",
            "\n",
            "Training for digit:  9\n",
            "----------------------------------------\n",
            "Epoch 1/15\n",
            "60/60 [==============================] - 6s 100ms/step - loss: 285.2627 - val_loss: 0.0000e+00\n",
            "Epoch 2/15\n",
            "60/60 [==============================] - 2s 28ms/step - loss: 195.1399 - val_loss: 182.7298\n",
            "Epoch 3/15\n",
            "60/60 [==============================] - 2s 26ms/step - loss: 177.1926 - val_loss: 175.2426\n",
            "Epoch 4/15\n",
            "60/60 [==============================] - 2s 28ms/step - loss: 172.1300 - val_loss: 171.0134\n",
            "Epoch 5/15\n",
            "60/60 [==============================] - 2s 28ms/step - loss: 170.8165 - val_loss: 169.7966\n",
            "Epoch 6/15\n",
            "60/60 [==============================] - 2s 28ms/step - loss: 166.1267 - val_loss: 164.3915\n",
            "Epoch 7/15\n",
            "60/60 [==============================] - 2s 28ms/step - loss: 162.8017 - val_loss: 164.8194\n",
            "Epoch 8/15\n",
            "60/60 [==============================] - 2s 28ms/step - loss: 161.7886 - val_loss: 162.9143\n",
            "Epoch 9/15\n",
            "60/60 [==============================] - 2s 28ms/step - loss: 160.4791 - val_loss: 162.1805\n",
            "Epoch 10/15\n",
            "60/60 [==============================] - 2s 28ms/step - loss: 158.8760 - val_loss: 162.0695\n",
            "Epoch 11/15\n",
            "60/60 [==============================] - 2s 27ms/step - loss: 157.2955 - val_loss: 158.8957\n",
            "Epoch 12/15\n",
            "60/60 [==============================] - 2s 27ms/step - loss: 155.5673 - val_loss: 155.6534\n",
            "Epoch 13/15\n",
            "60/60 [==============================] - 2s 28ms/step - loss: 153.8517 - val_loss: 153.9173\n",
            "Epoch 14/15\n",
            "60/60 [==============================] - 2s 27ms/step - loss: 152.1977 - val_loss: 152.8199\n",
            "Epoch 15/15\n",
            "60/60 [==============================] - 2s 27ms/step - loss: 150.6129 - val_loss: 154.0561\n",
            "\n"
          ],
          "name": "stdout"
        }
      ]
    },
    {
      "cell_type": "code",
      "metadata": {
        "id": "JCfxB6CCYGuu",
        "colab_type": "code",
        "outputId": "95bb751b-74db-4bcd-d954-523f0e564543",
        "colab": {
          "base_uri": "https://localhost:8080/",
          "height": 287
        }
      },
      "source": [
        "d = 8\n",
        "test_seq = tf.cast(test_images[d][:1,...],np.float32)\n",
        "samp = models[d](test_seq).mean()[0,...,0]\n",
        "\n",
        "plt.imshow(samp)"
      ],
      "execution_count": 15,
      "outputs": [
        {
          "output_type": "execute_result",
          "data": {
            "text/plain": [
              "<matplotlib.image.AxesImage at 0x7fefd6ef9550>"
            ]
          },
          "metadata": {
            "tags": []
          },
          "execution_count": 15
        },
        {
          "output_type": "display_data",
          "data": {
            "image/png": "[encoded data removed]",
            "text/plain": [
              "<Figure size 432x288 with 1 Axes>"
            ]
          },
          "metadata": {
            "tags": []
          }
        }
      ]
    },
    {
      "cell_type": "markdown",
      "metadata": {
        "id": "WYtZOdqb5XIx",
        "colab_type": "text"
      },
      "source": [
        "# Counterfactual"
      ]
    },
    {
      "cell_type": "code",
      "metadata": {
        "id": "vd2iW4NS2t7m",
        "colab_type": "code",
        "colab": {}
      },
      "source": [
        "N, d1, d2 = 12, 2, 5\n",
        "test_img = tf.cast(test_images[d1][:N,...],np.float32)\n",
        "transfer = decoders[d2](encoders[d1](test_img)).mean()"
      ],
      "execution_count": 0,
      "outputs": []
    },
    {
      "cell_type": "code",
      "metadata": {
        "id": "GoWHJs_8usMq",
        "colab_type": "code",
        "outputId": "240f6851-7f18-4de1-cddf-c79250f0fff1",
        "colab": {
          "base_uri": "https://localhost:8080/",
          "height": 350
        }
      },
      "source": [
        "fig, ax = plt.subplots(2,N, figsize=(N*2,5))\n",
        "for n in range(N):\n",
        "  ax[0,n].imshow(test_img[n,...,0])\n",
        "  ax[1,n].imshow(transfer[n,...,0])\n",
        "\n",
        "plt.tight_layout()"
      ],
      "execution_count": 17,
      "outputs": [
        {
          "output_type": "display_data",
          "data": {
            "image/png": "[encoded data removed]",
            "text/plain": [
              "<Figure size 1728x360 with 24 Axes>"
            ]
          },
          "metadata": {
            "tags": []
          }
        }
      ]
    },
    {
      "cell_type": "markdown",
      "metadata": {
        "id": "4rD_Uw368KdZ",
        "colab_type": "text"
      },
      "source": [
        "# Classification"
      ]
    },
    {
      "cell_type": "code",
      "metadata": {
        "id": "DEG5oF3R9YnE",
        "colab_type": "code",
        "colab": {}
      },
      "source": [
        "def classify(imgs, models, D=10):\n",
        "  return tfm.argmax(tf.stack([models[d](imgs).log_prob(imgs) for d in range(D)]),0)"
      ],
      "execution_count": 0,
      "outputs": []
    },
    {
      "cell_type": "code",
      "metadata": {
        "id": "Avy2f_meLSNi",
        "colab_type": "code",
        "colab": {}
      },
      "source": [
        "def confusion(test_images, models, batch_size=100, D=10):\n",
        "  confusion_matrix = np.zeros((D,D))\n",
        "  for d in range(D):\n",
        "    sz = test_images[d].shape[0]\n",
        "    for b_id in range(0,sz,batch_size):\n",
        "      test_img = tf.cast(test_images[d][b_id:min(sz,b_id + batch_size),...], np.float32)\n",
        "      classes = classify(test_img, models, D).numpy()\n",
        "      for d_p in range(D):\n",
        "        confusion_matrix[d,d_p] += np.sum(classes == d_p)\n",
        "  return confusion_matrix"
      ],
      "execution_count": 0,
      "outputs": []
    },
    {
      "cell_type": "code",
      "metadata": {
        "id": "pDX6zAax8I3Q",
        "colab_type": "code",
        "colab": {}
      },
      "source": [
        "conf = confusion(test_images,models,BATCH_SIZE,D)"
      ],
      "execution_count": 0,
      "outputs": []
    },
    {
      "cell_type": "code",
      "metadata": {
        "id": "n4ogPlbY9zJE",
        "colab_type": "code",
        "colab": {
          "base_uri": "https://localhost:8080/",
          "height": 305
        },
        "outputId": "1ba96083-ac91-4080-973f-2d7346589640"
      },
      "source": [
        "acc = np.sum(np.diag(conf))/np.sum(conf)\n",
        "print(acc)\n",
        "\n",
        "plt.imshow(conf)"
      ],
      "execution_count": 21,
      "outputs": [
        {
          "output_type": "stream",
          "text": [
            "0.9433\n"
          ],
          "name": "stdout"
        },
        {
          "output_type": "execute_result",
          "data": {
            "text/plain": [
              "<matplotlib.image.AxesImage at 0x7fefd46ca390>"
            ]
          },
          "metadata": {
            "tags": []
          },
          "execution_count": 21
        },
        {
          "output_type": "display_data",
          "data": {
            "image/png": "[encoded data removed]",
            "text/plain": [
              "<Figure size 432x288 with 1 Axes>"
            ]
          },
          "metadata": {
            "tags": []
          }
        }
      ]
    },
    {
      "cell_type": "markdown",
      "metadata": {
        "id": "ufRoHzVsnS5W",
        "colab_type": "text"
      },
      "source": [
        "# Discriminative Model"
      ]
    },
    {
      "cell_type": "code",
      "metadata": {
        "id": "2efcwlZMlOJi",
        "colab_type": "code",
        "colab": {}
      },
      "source": [
        "def create_discriminator(input_shape, latent_dim, base_filters, D=10):\n",
        "    discriminator = tfk.Sequential([\n",
        "      tfkl.InputLayer(input_shape=input_shape),\n",
        "      tfkl.Lambda(lambda x: x - 0.5),\n",
        "      tfkl.Conv2D(base_filters, 5, strides=2,\n",
        "                padding='same', activation=tf.nn.leaky_relu),\n",
        "      #tfkl.Conv2D(base_filters, 5, strides=2,\n",
        "      #          padding='same', activation=tf.nn.leaky_relu),\n",
        "      #tfkl.Conv2D(2 * base_filters, 5, strides=1,\n",
        "      #          padding='same', activation=tf.nn.leaky_relu),\n",
        "      tfkl.Conv2D(2 * base_filters, 5, strides=2,\n",
        "                padding='same', activation=tf.nn.leaky_relu),\n",
        "      tfkl.Conv2D(4 * latent_dim, 7, strides=2,\n",
        "                padding='valid', activation=tf.nn.leaky_relu),\n",
        "      tfkl.Flatten(),\n",
        "      tfkl.Dense(D, activation=\"softmax\"),\n",
        "      #tfpl.DistributionLambda(lambda p: tfd.Categorical(probs=p))\n",
        "      ])\n",
        "    return discriminator"
      ],
      "execution_count": 0,
      "outputs": []
    },
    {
      "cell_type": "code",
      "metadata": {
        "colab_type": "code",
        "id": "_mPt1BK_njZd",
        "colab": {}
      },
      "source": [
        "def minibatches_with_labels(data,labels,mb_size=1):\n",
        "  return tf.data.Dataset.from_tensor_slices((data,labels)).batch(mb_size)"
      ],
      "execution_count": 0,
      "outputs": []
    },
    {
      "cell_type": "code",
      "metadata": {
        "id": "T4swTDm8N82V",
        "colab_type": "code",
        "colab": {}
      },
      "source": [
        "(train_images, train_labels), (test_images, test_labels) = tf.keras.datasets.mnist.load_data()\n",
        "\n",
        "train_images = preprocess(train_images)\n",
        "test_images = preprocess(test_images)\n",
        "train_labels = train_labels.astype(\"int32\")\n",
        "test_labels = test_labels.astype(\"int32\")"
      ],
      "execution_count": 0,
      "outputs": []
    },
    {
      "cell_type": "code",
      "metadata": {
        "id": "T_zSXnogqX7h",
        "colab_type": "code",
        "colab": {}
      },
      "source": [
        "D = 10\n",
        "img_shape = train_images.shape[1:]\n",
        "encoded_size = 8\n",
        "base_depth = 24"
      ],
      "execution_count": 0,
      "outputs": []
    },
    {
      "cell_type": "code",
      "metadata": {
        "id": "zY0upz7Wo51d",
        "colab_type": "code",
        "colab": {}
      },
      "source": [
        "BATCH_SIZE = 100\n",
        "\n",
        "train_dataset = minibatches_with_labels(train_images,train_labels,BATCH_SIZE)\n",
        "test_dataset = minibatches_with_labels(test_images,test_labels,BATCH_SIZE)"
      ],
      "execution_count": 0,
      "outputs": []
    },
    {
      "cell_type": "code",
      "metadata": {
        "id": "g4ffuJz2piY_",
        "colab_type": "code",
        "colab": {
          "base_uri": "https://localhost:8080/",
          "height": 575
        },
        "outputId": "da98cf6e-abb6-4cd9-ceb4-7d27453f5997"
      },
      "source": [
        "discriminator = create_discriminator(img_shape, encoded_size, base_depth, D)\n",
        "\n",
        "discriminator.compile(optimizer=tf.optimizers.Adam(learning_rate=1e-3),\n",
        "                   loss='sparse_categorical_crossentropy', metrics=['accuracy'])\n",
        "\n",
        "discriminator.fit(train_dataset, epochs=15, validation_data=test_dataset)"
      ],
      "execution_count": 27,
      "outputs": [
        {
          "output_type": "stream",
          "text": [
            "Epoch 1/15\n",
            "600/600 [==============================] - 8s 13ms/step - loss: 0.2732 - accuracy: 0.9172 - val_loss: 0.0000e+00 - val_accuracy: 0.0000e+00\n",
            "Epoch 2/15\n",
            "600/600 [==============================] - 6s 10ms/step - loss: 0.0906 - accuracy: 0.9723 - val_loss: 0.0787 - val_accuracy: 0.9720\n",
            "Epoch 3/15\n",
            "600/600 [==============================] - 6s 10ms/step - loss: 0.0643 - accuracy: 0.9805 - val_loss: 0.0723 - val_accuracy: 0.9754\n",
            "Epoch 4/15\n",
            "600/600 [==============================] - 6s 9ms/step - loss: 0.0495 - accuracy: 0.9852 - val_loss: 0.0678 - val_accuracy: 0.9775\n",
            "Epoch 5/15\n",
            "600/600 [==============================] - 6s 10ms/step - loss: 0.0394 - accuracy: 0.9881 - val_loss: 0.0683 - val_accuracy: 0.9790\n",
            "Epoch 6/15\n",
            "600/600 [==============================] - 6s 9ms/step - loss: 0.0321 - accuracy: 0.9902 - val_loss: 0.0695 - val_accuracy: 0.9785\n",
            "Epoch 7/15\n",
            "600/600 [==============================] - 6s 9ms/step - loss: 0.0268 - accuracy: 0.9916 - val_loss: 0.0738 - val_accuracy: 0.9789\n",
            "Epoch 8/15\n",
            "600/600 [==============================] - 6s 9ms/step - loss: 0.0228 - accuracy: 0.9922 - val_loss: 0.0709 - val_accuracy: 0.9815\n",
            "Epoch 9/15\n",
            "600/600 [==============================] - 6s 9ms/step - loss: 0.0192 - accuracy: 0.9936 - val_loss: 0.0751 - val_accuracy: 0.9800\n",
            "Epoch 10/15\n",
            "600/600 [==============================] - 6s 9ms/step - loss: 0.0175 - accuracy: 0.9941 - val_loss: 0.0786 - val_accuracy: 0.9806\n",
            "Epoch 11/15\n",
            "600/600 [==============================] - 6s 9ms/step - loss: 0.0167 - accuracy: 0.9943 - val_loss: 0.0997 - val_accuracy: 0.9790\n",
            "Epoch 12/15\n",
            "600/600 [==============================] - 6s 9ms/step - loss: 0.0131 - accuracy: 0.9954 - val_loss: 0.0915 - val_accuracy: 0.9796\n",
            "Epoch 13/15\n",
            "600/600 [==============================] - 6s 9ms/step - loss: 0.0124 - accuracy: 0.9956 - val_loss: 0.0761 - val_accuracy: 0.9843\n",
            "Epoch 14/15\n",
            "600/600 [==============================] - 6s 9ms/step - loss: 0.0139 - accuracy: 0.9951 - val_loss: 0.0707 - val_accuracy: 0.9851\n",
            "Epoch 15/15\n",
            "600/600 [==============================] - 6s 9ms/step - loss: 0.0095 - accuracy: 0.9965 - val_loss: 0.1114 - val_accuracy: 0.9788\n"
          ],
          "name": "stdout"
        },
        {
          "output_type": "execute_result",
          "data": {
            "text/plain": [
              "<tensorflow.python.keras.callbacks.History at 0x7fefd4637da0>"
            ]
          },
          "metadata": {
            "tags": []
          },
          "execution_count": 27
        }
      ]
    },
    {
      "cell_type": "code",
      "metadata": {
        "id": "ggO91rPoF5tP",
        "colab_type": "code",
        "colab": {}
      },
      "source": [
        ""
      ],
      "execution_count": 0,
      "outputs": []
    }
  ]
}