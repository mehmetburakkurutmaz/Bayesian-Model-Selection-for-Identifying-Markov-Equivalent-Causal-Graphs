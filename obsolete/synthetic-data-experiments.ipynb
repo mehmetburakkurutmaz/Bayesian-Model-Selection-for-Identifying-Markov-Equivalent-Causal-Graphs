{
 "cells": [
  {
   "cell_type": "markdown",
   "metadata": {},
   "source": [
    "# Implementation"
   ]
  },
  {
   "cell_type": "code",
   "execution_count": 1,
   "metadata": {},
   "outputs": [],
   "source": [
    "include(\"src/Misc.jl\");\n",
    "include(\"src/Datasets.jl\");\n",
    "include(\"src/BayesianCausality.jl\");"
   ]
  },
  {
   "cell_type": "code",
   "execution_count": 2,
   "metadata": {},
   "outputs": [],
   "source": [
    "using .Misc, .BayesianCausality\n",
    "import .Datasets"
   ]
  },
  {
   "cell_type": "code",
   "execution_count": 3,
   "metadata": {},
   "outputs": [],
   "source": [
    "using Distributions\n",
    "using SpecialFunctions, LinearAlgebra\n",
    "import Base.Iterators: product\n",
    "import Random: randperm, seed!\n",
    "\n",
    "using PyPlot"
   ]
  },
  {
   "cell_type": "code",
   "execution_count": 4,
   "metadata": {},
   "outputs": [
    {
     "data": {
      "text/plain": [
       "\"./data/synthetic\""
      ]
     },
     "execution_count": 4,
     "metadata": {},
     "output_type": "execute_result"
    }
   ],
   "source": [
    "import Base.Filesystem: mkpath\n",
    "\n",
    "RESULTS_PATH = \"./results/synthetic\"\n",
    "PARAMS_PATH = \"./params/synthetic\"\n",
    "DATA_PATH = \"./data/synthetic\""
   ]
  },
  {
   "cell_type": "code",
   "execution_count": 5,
   "metadata": {},
   "outputs": [],
   "source": [
    "seed!(8457);"
   ]
  },
  {
   "cell_type": "markdown",
   "metadata": {},
   "source": [
    "## Synthetic Data"
   ]
  },
  {
   "cell_type": "code",
   "execution_count": 21,
   "metadata": {},
   "outputs": [
    {
     "data": {
      "text/plain": [
       "generate_params (generic function with 1 method)"
      ]
     },
     "execution_count": 21,
     "metadata": {},
     "output_type": "execute_result"
    }
   ],
   "source": [
    "function generate_params(A₁,A₂,B₁,B₂)\n",
    "    num = 0\n",
    "    for a₁ ∈ A₁, a₂ ∈ A₂, b₁ ∈ B₁, b₂ ∈ B₂\n",
    "        if a₁ >= b₁ && a₂ >= b₂\n",
    "                num += 1\n",
    "                setup = Dict(:name => \"params-$num\", :P => 250, :Rs => 1:5, :K => 2, \n",
    "                             :α => 10.0, :m₁ => 0.0, :m₂ => 0.0, :λ₁ => 0.1, \n",
    "                             :λ₂ => 0.1, :a₁ => a₁, :a₂ => a₂, :b₁ => b₁, :b₂ => b₂);\n",
    "                save_json(\"$PARAMS_PATH/params-$num.json\"; setup...)\n",
    "        end\n",
    "    end\n",
    "    return num\n",
    "end"
   ]
  },
  {
   "cell_type": "code",
   "execution_count": 22,
   "metadata": {},
   "outputs": [
    {
     "data": {
      "text/plain": [
       "generate_data (generic function with 1 method)"
      ]
     },
     "execution_count": 22,
     "metadata": {},
     "output_type": "execute_result"
    }
   ],
   "source": [
    "function generate_data(T::Int, R::Int; K=2, α=10.0, m₁=0.0, m₂=0.0,\n",
    "        λ₁=0.1, λ₂=0.1, a₁=1.0, a₂=1.0, b₁=1.0, b₂=1.0, pr=0, rel=\"^\", id=0)\n",
    "    \n",
    "    if rel==\"^\"\n",
    "        K, a₂, b₂ = 1, a₁, b₁\n",
    "    end\n",
    "    \n",
    "    θ = rand(Dirichlet(R,α))\n",
    "    ρ₁, ρ₂ = rand(Gamma(a₁,1/b₁),R), rand(Gamma(a₂,1/b₂),R)\n",
    "    μ₁ = [rand(Normal(m₁, (λ₁ * ρ₁[r])^(-1/2))) for r ∈ 1:R]\n",
    "    w₂ = [rand(MultivariateNormal(m₂*ones(K), Diagonal(ones(K)/(λ₂*ρ₂[r])))) for r ∈ 1:R]\n",
    "    \n",
    "    rs = rand(Categorical(θ),T)\n",
    "    X₁ = [rand(Normal(μ₁[r], ρ₁[r]^(-1/2))) for r ∈ rs]\n",
    "    X₂ = [rand(Normal(w₂[r]'*(X₁[t].^(0:K-1)), ρ₂[r]^(-1/2))) for (t,r) ∈ enumerate(rs)]\n",
    "    \n",
    "    X = rel==\"<-\" ? X₂ : X₁\n",
    "    Y = rel==\"<-\" ? X₁ : X₂\n",
    "    \n",
    "    pair = Dict(:X_label => \"X\", :Y_label => \"Y\", :dataset => pr, :weight => 1.0,\n",
    "                :id => \"syth-$id\", :relationship => rel, :X => X, :Y => Y)\n",
    "    save_json(\"$DATA_PATH/synt-$id.json\"; pair...)\n",
    "    \n",
    "    return pair\n",
    "end"
   ]
  },
  {
   "cell_type": "code",
   "execution_count": 23,
   "metadata": {},
   "outputs": [
    {
     "data": {
      "text/plain": [
       "(2000, 1:5)"
      ]
     },
     "execution_count": 23,
     "metadata": {},
     "output_type": "execute_result"
    }
   ],
   "source": [
    "T, Rs = 2000, 1:5"
   ]
  },
  {
   "cell_type": "code",
   "execution_count": 28,
   "metadata": {
    "scrolled": true
   },
   "outputs": [],
   "source": [
    "N_PARAMS = generate_params(10.0.^(0:2), 10.0.^(0:2), 10.0.^(0:2), 10.0.^(0:2))\n",
    "\n",
    "params = [Dict(Symbol(String(p)) => v for (p,v) ∈ load_json(\"$PARAMS_PATH/params-$n.json\"))\n",
    "                                      for n ∈ 1:N_PARAMS];"
   ]
  },
  {
   "cell_type": "code",
   "execution_count": 11,
   "metadata": {
    "scrolled": true
   },
   "outputs": [],
   "source": [
    "N_DATA = 0\n",
    "for rep ∈ 1:1, R ∈ Rs, pr ∈ 1:N_PARAMS, rel ∈ [\"->\", \"<-\", \"^\"]\n",
    "    N_DATA += 1\n",
    "    a₁, a₂, b₁, b₂ = params[pr][:a₁], params[pr][:a₂], params[pr][:b₁], params[pr][:b₂]\n",
    "    generate_data(T, R; pr=pr, rel=rel, id=N_DATA, a₁=a₁, a₂=a₂, b₁=b₁, b₂=b₂)\n",
    "end"
   ]
  },
  {
   "cell_type": "code",
   "execution_count": 12,
   "metadata": {},
   "outputs": [
    {
     "data": {
      "text/plain": [
       "(1, 540)"
      ]
     },
     "execution_count": 12,
     "metadata": {},
     "output_type": "execute_result"
    }
   ],
   "source": [
    "N₁, N₂ = 1, N_DATA"
   ]
  },
  {
   "cell_type": "code",
   "execution_count": 13,
   "metadata": {},
   "outputs": [],
   "source": [
    "synt_data = [Dict(Symbol(String(p)) => v for (p,v) ∈ load_json(\"$DATA_PATH/synt-$id.json\")) \n",
    "                                    for id ∈ N₁:N₂];"
   ]
  }
 ],
 "metadata": {
  "hide_input": false,
  "kernelspec": {
   "display_name": "Julia 1.0.1",
   "language": "julia",
   "name": "julia-1.0"
  },
  "language_info": {
   "file_extension": ".jl",
   "mimetype": "application/julia",
   "name": "julia",
   "version": "1.0.1"
  },
  "latex_envs": {
   "LaTeX_envs_menu_present": false,
   "autoclose": false,
   "autocomplete": false,
   "bibliofile": "biblio.bib",
   "cite_by": "apalike",
   "current_citInitial": 1,
   "eqLabelWithNumbers": true,
   "eqNumInitial": 1,
   "hotkeys": {
    "equation": "Ctrl-E",
    "itemize": "Ctrl-I"
   },
   "labels_anchors": false,
   "latex_user_defs": false,
   "report_style_numbering": false,
   "user_envs_cfg": false
  }
 },
 "nbformat": 4,
 "nbformat_minor": 2
}
