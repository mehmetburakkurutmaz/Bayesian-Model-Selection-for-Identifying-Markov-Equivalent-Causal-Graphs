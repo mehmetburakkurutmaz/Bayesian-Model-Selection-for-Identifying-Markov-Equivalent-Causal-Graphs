{
 "cells": [
  {
   "cell_type": "code",
   "execution_count": 142,
   "metadata": {},
   "outputs": [],
   "source": [
    "import numpy as np\n",
    "import pandas as pd"
   ]
  },
  {
   "cell_type": "code",
   "execution_count": 143,
   "metadata": {},
   "outputs": [],
   "source": [
    "results = np.load(\"results.npy\")\n",
    "ground_truth = np.load(\"gt.npy\")\n",
    "ground_truth -= 1\n",
    "params = np.load(\"params.npy\")"
   ]
  },
  {
   "cell_type": "code",
   "execution_count": 144,
   "metadata": {},
   "outputs": [],
   "source": [
    "a = pd.Series([i for i in range(1,101) if i not in (52, 53, 54, 55, 71)])\n",
    "r = pd.DataFrame(columns=range(1, 37), index=a)\n",
    "r_stats = pd.DataFrame(columns=[\">\",\"<\",\"^\"], index=range(1, 37))\n",
    "t = pd.DataFrame(columns=range(1, 37), index=a)\n",
    "t_stats = pd.DataFrame(columns=[\"Accuracy\"], index=range(1, 37))\n",
    "decision_dict = {0: \">\", 1:\"<\", 2:\"^\"}"
   ]
  },
  {
   "cell_type": "code",
   "execution_count": 147,
   "metadata": {},
   "outputs": [],
   "source": [
    "for n in range(36):\n",
    "    for pair in range(95):\n",
    "        decision = np.argmax(np.max(results[n, pair, :, :], 1))\n",
    "        r.iloc[pair, n] = decision_dict[decision]"
   ]
  },
  {
   "cell_type": "code",
   "execution_count": 149,
   "metadata": {},
   "outputs": [],
   "source": [
    "r_1 = r.iloc[:, :18]\n",
    "r_2 = r.iloc[:, 18:]"
   ]
  },
  {
   "cell_type": "code",
   "execution_count": 150,
   "metadata": {},
   "outputs": [],
   "source": [
    "with open(\"three_h.tex\",\"w\") as f:\n",
    "    f.write(r.to_latex())\n",
    "with open(\"three_1.tex\",\"w\") as f:\n",
    "    f.write(r_1.to_latex())\n",
    "with open(\"three_2.tex\",\"w\") as f:\n",
    "    f.write(r_2.to_latex())"
   ]
  },
  {
   "cell_type": "code",
   "execution_count": 151,
   "metadata": {},
   "outputs": [],
   "source": [
    "for symbol in [\">\", \"<\", \"^\"]:\n",
    "    r_stats[symbol] = (r == symbol).sum(0)"
   ]
  },
  {
   "cell_type": "code",
   "execution_count": 152,
   "metadata": {},
   "outputs": [],
   "source": [
    "with open(\"three_stats.tex\",\"w\") as f:\n",
    "    f.write(r_stats.to_latex())"
   ]
  },
  {
   "cell_type": "code",
   "execution_count": 153,
   "metadata": {},
   "outputs": [],
   "source": [
    "for n in range(36):\n",
    "    for pair in range(95):\n",
    "        decision = np.argmax(np.max(results[n, pair, :2, :], 1))\n",
    "        if decision == ground_truth[pair]:\n",
    "            t.iloc[pair, n] = 'T'\n",
    "        else:\n",
    "            t.iloc[pair, n] = 'F'"
   ]
  },
  {
   "cell_type": "code",
   "execution_count": 154,
   "metadata": {},
   "outputs": [],
   "source": [
    "t_1 = t.iloc[:, :18]\n",
    "t_2 = t.iloc[:, 18:]"
   ]
  },
  {
   "cell_type": "code",
   "execution_count": 155,
   "metadata": {},
   "outputs": [],
   "source": [
    "with open(\"two_h.tex\",\"w\") as f:\n",
    "    f.write(t.to_latex().replace(\"T\", \"\\checkmark\").replace(\"F\", \"\"))\n",
    "with open(\"two_1.tex\",\"w\") as f:\n",
    "    f.write(t_1.to_latex().replace(\"T\", \"\\checkmark\").replace(\"F\", \"\"))\n",
    "with open(\"two_2.tex\",\"w\") as f:\n",
    "    f.write(t_2.to_latex().replace(\"T\", \"\\checkmark\").replace(\"F\", \"\"))"
   ]
  },
  {
   "cell_type": "code",
   "execution_count": 156,
   "metadata": {},
   "outputs": [],
   "source": [
    "acc = pd.DataFrame(pd.Series((t == \"T\").sum(0) / 95, name=\"Accuracy\"))"
   ]
  },
  {
   "cell_type": "code",
   "execution_count": 157,
   "metadata": {},
   "outputs": [],
   "source": [
    "with open(\"two_acc.tex\",\"w\") as f:\n",
    "    f.write(acc.to_latex())"
   ]
  },
  {
   "cell_type": "code",
   "execution_count": 158,
   "metadata": {},
   "outputs": [],
   "source": [
    "params_df = pd.DataFrame(params, index=range(1,37), columns=[\"a_1\", \"b_1\", \"a_2\", \"b_2\"])"
   ]
  },
  {
   "cell_type": "code",
   "execution_count": 159,
   "metadata": {},
   "outputs": [],
   "source": [
    "with open(\"params.tex\",\"w\") as f:\n",
    "    f.write(params_df.to_latex())"
   ]
  },
  {
   "cell_type": "code",
   "execution_count": 165,
   "metadata": {},
   "outputs": [],
   "source": [
    "combined = params_df.join(r_stats).join(acc)\n",
    "with open(\"combined.tex\",\"w\") as f:\n",
    "    f.write(combined.to_latex())"
   ]
  }
 ],
 "metadata": {
  "kernelspec": {
   "display_name": "Python 3",
   "language": "python",
   "name": "python3"
  },
  "language_info": {
   "codemirror_mode": {
    "name": "ipython",
    "version": 3
   },
   "file_extension": ".py",
   "mimetype": "text/x-python",
   "name": "python",
   "nbconvert_exporter": "python",
   "pygments_lexer": "ipython3",
   "version": "3.6.6"
  }
 },
 "nbformat": 4,
 "nbformat_minor": 2
}
