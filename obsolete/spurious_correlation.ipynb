{
 "cells": [
  {
   "cell_type": "markdown",
   "metadata": {},
   "source": [
    "$\n",
    "\\newcommand{\\ind}[1]{\\left[ #1 \\right]}\n",
    "\\newcommand{\\E}[1]{\\left< {#1} \\right>}\n",
    "\\newcommand{\\INPUT}[1]{\\textbf{Input:} ~ #1}\n",
    "\\newcommand{\\FOR}[1]{\\textbf{for} ~ #1 ~ \\textbf{do}}\n",
    "\\newcommand{\\WHILE}[1]{\\textbf{while} ~ #1 ~ \\textbf{do}}\n",
    "\\newcommand{\\RETURN}[1]{\\textbf{return} ~ #1}\n",
    "\\newcommand{\\IF}[1]{\\textbf{if} ~ #1}\n",
    "\\newcommand{\\ELSEIF}[1]{\\textbf{else if} ~ #1}\n",
    "\\newcommand{\\ELSE}{\\textbf{else}}\n",
    "$"
   ]
  },
  {
   "cell_type": "markdown",
   "metadata": {},
   "source": [
    "# Related Distributions"
   ]
  },
  {
   "cell_type": "markdown",
   "metadata": {},
   "source": [
    "\\begin{eqnarray}\n",
    "\\rho \\sim \\mathcal{G}(a,b) \n",
    "& = & \\frac{b^a}{\\Gamma(a)} ~ \\exp\\bigl( (a-1)\\log \\rho - b \\rho \\bigr) \\\\\n",
    "\\theta \\sim \\mathcal{D}(\\alpha) \n",
    "& = & \\frac{\\Gamma(\\sum_r \\alpha_r)}{\\prod_r \\Gamma(\\alpha_r)} ~ \\exp\\bigl( \\sum_r (\\alpha_r-1)\\log \\theta_r \\bigr) \\\\\n",
    "r \\sim \\mathcal{Cat}(\\theta) \n",
    "& = & \\exp(\\log \\theta_r) \\\\\n",
    "x \\sim \\mathcal{N}(\\mu,\\rho^{-1}) \n",
    "& = & \\frac{1}{\\sqrt{2 \\pi}} ~ \n",
    "\\exp\\Bigl( \\frac{1}{2} \\log \\rho - \\frac{1}{2} \\rho (x - \\mu)^2  \\Bigr) \\\\ \n",
    "x \\sim \\mathcal{N}(\\mu,\\Lambda^{-1})\n",
    "& = & \\frac{1}{(2 \\pi)^{K/2}} ~ \n",
    "\\exp\\Bigl( \\frac{1}{2} \\log \\det(\\Lambda) - \\frac{1}{2} (x - \\mu)^T \\Lambda (x - \\mu) \\Bigr) \\\\ \n",
    "x,\\rho \\sim \\mathcal{NG}(m,\\lambda,a,b)\n",
    "& = & \\frac{b^a \\sqrt{\\lambda}}{\\Gamma(a) \\sqrt{2 \\pi}} ~ \n",
    "\\exp\\Bigl( \\bigl(a - \\frac{1}{2} \\bigr) \\log \\rho -b \\rho - \\frac{\\lambda}{2} \\rho (x - m)^2  \\Bigr)\n",
    "\\\\\n",
    "x \\sim \\mathcal{T}(\\nu,\\mu,\\rho^{-1})\n",
    "& = & \\frac{\\Gamma\\bigl( \\frac{\\nu + 1}{2} \\bigr)}{\\Gamma\\bigl( \\frac{\\nu}{2} \\bigr) \\sqrt{\\pi \\nu}} ~ \n",
    "\\exp\\biggl( \\frac{1}{2} \\log \\rho - \\frac{\\nu + 1}{2} \\log\\Bigl( 1 + \\frac{\\rho}{\\nu}(x - \\mu)^2 \\Bigr) \\biggr)\n",
    "\\end{eqnarray}"
   ]
  },
  {
   "cell_type": "markdown",
   "metadata": {},
   "source": [
    "# Continous Naive Bayes Model (Dirichlet-$\\mathcal{NG}$ priors)"
   ]
  },
  {
   "cell_type": "markdown",
   "metadata": {},
   "source": [
    "\\begin{align*}\n",
    "\\theta & \\sim \\mathcal{D}(\\alpha) &\n",
    "\\rho_{n \\mid r} & \\sim \\mathcal{G}(a_{n \\mid r}, b_{n \\mid r}) &\n",
    "\\mu_{n \\mid r} & \\sim \\mathcal{N}(m_{n \\mid r}, (\\lambda_{n \\mid r} \\rho_{n \\mid r})^{-1}) \\\\ \n",
    "r^{t} & \\sim \\mathcal{Cat}(\\theta) &\n",
    "x^{t}_{n} & \\sim \\mathcal{N}(\\mu_{n \\mid r^t}, \\rho_{n \\mid r^t}^{-1}) \\\\\n",
    "\\end{align*}"
   ]
  },
  {
   "cell_type": "markdown",
   "metadata": {},
   "source": [
    "## Posterior Distribution of  $\\rho_{1:N}$, $\\mu_{1:N}$ and $\\theta$"
   ]
  },
  {
   "cell_type": "markdown",
   "metadata": {},
   "source": [
    "\\begin{eqnarray*}\n",
    "p(\\theta, \\rho_{1:N}, \\mu_{1:N} \\mid r^{1:T}, x_{1:N}^{1:T})\n",
    "& \\propto & \n",
    "p( r^{1:T}, x_{1:N}^{1:T}, \\theta, \\rho_{1:N}, \\mu_{1:N}) \\\\ \n",
    "& = & \n",
    "\\Bigl( p(\\theta) \\prod_n \\prod_r p(\\rho_{n \\mid r}) ~ p(\\mu_{n \\mid r} \\mid \\rho_{n \\mid r}) \\Bigr)\n",
    "\\Bigl( \\prod_{t} p(r^t \\mid \\theta) \\prod_{n} p(x_{n}^{t} \\mid r^{t}, \\rho_{n}, \\mu_{n}) \\Bigr) \\\\\n",
    "& \\propto & \n",
    "\\Bigl(\\prod_r \\exp\\bigl((\\alpha_r-1)\\log \\theta_r \\bigr) \\prod_n \\exp\\Bigl( \\bigl(a_{n \\mid r} - \\frac{1}{2} \\bigr) \\log \\rho_{n \\mid r} -b_{n \\mid r} \\rho_{n \\mid r} - \\frac{\\lambda_{n \\mid r}}{2} \\rho_{n \\mid r} (\\mu_{n \\mid r} - m_{n \\mid r})^2  \\Bigr) \\Bigr) \\\\\n",
    "& &\n",
    "\\Bigl( \\prod_{t} \\prod_{r} \\exp\\bigl( \\ind{r^t=r} \\log \\theta_r \\bigr) \n",
    "\\prod_{n} \\exp\\Bigl( \\frac{\\ind{r^t=r}}{2} \\log \\rho_{n \\mid r} -  \\frac{\\ind{r^t=r}}{2} \\rho_{n \\mid r} (x_{n}^{t} - \\mu_{n \\mid r})^2  \\Bigr)  \\Bigr) \\\\\n",
    "& \\propto &\n",
    "\\mathcal{D}(\\theta; \\alpha^*) \\prod_n \\prod_r \\mathcal{NG}(\\mu_{n \\mid r}, \\rho_{n \\mid r} ;m^*_{n \\mid r}, \\lambda^*_{n \\mid r}, a^*_{n \\mid r}, b^*_{n \\mid r})\n",
    "\\end{eqnarray*}"
   ]
  },
  {
   "cell_type": "markdown",
   "metadata": {},
   "source": [
    "where \n",
    "\n",
    "\\begin{eqnarray}\n",
    "\\alpha^*_r & \\equiv & \\alpha_r + \\sum_t \\ind{r^t = r} \\\\\n",
    "\\lambda^*_{n \\mid r} & \\equiv & \\lambda_{n \\mid r} + \\sum_t \\ind{r^t = r} \\\\ \n",
    "m^*_{n \\mid r} & \\equiv & \\frac{\\lambda_{n \\mid r} m_{n \\mid r} + \\sum_t \\ind{r^t = r} x_n^t}{\\lambda^*_{n \\mid r}} \\\\\n",
    "a^*_{n \\mid r} & \\equiv & a_{n \\mid r} + \\frac{\\sum_t \\ind{r^t = r}}{2}\\\\\n",
    "b^*_{n \\mid r} & \\equiv & b_{n \\mid r} + \\frac{1}{2} \\bigl( \\lambda_{n \\mid r} m_{n \\mid r}^2 + \\sum_t \\ind{r^t = r} (x_n^t)^2 - \\lambda^*_{n \\mid r} (m^*_{n \\mid r})^2 \\bigr)\n",
    "\\end{eqnarray}"
   ]
  },
  {
   "cell_type": "markdown",
   "metadata": {},
   "source": [
    "## Marginal distribution of $r^{1:T}$, $x^{1:T}_{1:N}$"
   ]
  },
  {
   "cell_type": "markdown",
   "metadata": {},
   "source": [
    "\\begin{eqnarray*}\n",
    "p(r^{1:T}, x_{1:N}^{1:T}) \n",
    "& = & \n",
    "\\frac{p(\\theta) ~ p(\\rho_{1:N}) ~ p(\\mu_{1:N}) ~ p(r^{1:T}, x_{1:N}^{1:T} \\mid \\theta, \\rho_{1:N}, \\mu_{1:N})}{p(\\theta, \\rho_{1:N}, \\mu_{1:N} \\mid r^{1:T}, x_{1:N}^{1:T})} \\\\\n",
    "& = & \n",
    "\\frac{\\Bigl( p(\\theta) \\prod_n \\prod_r p(\\rho_{n \\mid r}) ~ p(\\mu_{n \\mid r} \\mid \\rho_{n \\mid r}) \\Bigr)\n",
    "\\Bigl( \\prod_{t} p(r^t \\mid \\theta) \\prod_{n} p(x_{n}^{t} \\mid r^{t}, \\rho_{n}, \\mu_{n}) \\Bigr)}\n",
    "{p(\\theta \\mid r^{1:T}) \\prod_n \\prod_r p(\\rho_{n \\mid r} \\mid r^{1:T}, x_{n}^{1:T}) ~ p(\\mu_{n \\mid r} \\mid \\rho_{n \\mid r}, r^{1:T}, x_{n}^{1:T})} \\\\\n",
    "& = & \n",
    "\\frac{\\Bigl( \\mathcal{D}(\\theta; \\alpha) \\prod_n \\prod_r \\mathcal{NG}(\\mu_{n \\mid r}, \\rho_{n \\mid r}; m_{n \\mid r}, \\lambda_{n \\mid r}, a_{n \\mid r}, b_{n \\mid r}) \\Bigr)\n",
    "\\Bigl( \\prod_{t} \\mathcal{Cat}(r^t; \\theta) \\prod_{n} \\mathcal{N}(x_{n}^{t}; \\mu_{n \\mid r^t}, \\rho_{n \\mid r^t}^{-1}) \\Bigr)}\n",
    "{\\mathcal{D}(\\theta; \\alpha^*) \\prod_n \\prod_r \\mathcal{NG}(\\mu_{n \\mid r}, \\rho_{n \\mid r}; m^*_{n \\mid r}, \\lambda^*_{n \\mid r}, a^*_{n \\mid r}, b^*_{n \\mid r})} \\\\\n",
    "& = &\n",
    "\\frac{1}{(2 \\pi)^{NT/2}}\n",
    "\\frac{\\Gamma(\\sum_r \\alpha_r)}{\\Gamma(\\sum_r \\alpha^*_r)} \n",
    "\\prod_r \\frac{ \\Gamma(\\alpha^*_r)}{\\Gamma(\\alpha_r)}  \n",
    "\\prod_n \\frac{b_{n \\mid r}^{a_{n \\mid r}}}{{(b^*_{n \\mid r})}^{a^*_{n \\mid r}}} \n",
    "\\frac{\\Gamma(a^*_{n \\mid r})}{\\Gamma(a_{n \\mid r})} \n",
    "\\sqrt{\\frac{\\lambda_{n \\mid r}}{\\lambda^*_{n \\mid r}}}\n",
    "\\end{eqnarray*}"
   ]
  },
  {
   "cell_type": "markdown",
   "metadata": {},
   "source": [
    "# Complete Graph"
   ]
  },
  {
   "cell_type": "markdown",
   "metadata": {},
   "source": [
    "\\begin{align*}\n",
    "\\theta & \\sim \\mathcal{D}(\\alpha) &\n",
    "r^{t} & \\sim \\mathcal{Cat}(\\theta) \\\\\n",
    "\\rho_{1 \\mid r} & \\sim \\mathcal{G}(a_{1 \\mid r}, b_{1 \\mid r}) &\n",
    "\\rho_{2 \\mid r} & \\sim \\mathcal{G}(a_{2 \\mid r}, b_{2 \\mid r}) \\\\ \n",
    "\\mu_{1 \\mid r} & \\sim \\mathcal{N}(m_{1 \\mid r}, (\\lambda_{1 \\mid r} \\rho_{1 \\mid r})^{-1}) &\n",
    "w_{2 \\mid r} & \\sim \\mathcal{N}(m_{2 \\mid r}, (\\lambda_{2 \\mid r} \\rho_{2 \\mid r} \\mathbf{I})^{-1}) \\\\\n",
    "x_1^t & \\sim \\mathcal{N}(\\mu_{1 \\mid r^t}, \\rho_{1 \\mid r^t}^{-1}) &\n",
    "x_2^t & \\sim \\mathcal{N}(w^T \\phi(x_1), \\rho_{2 \\mid r^t}^{-1})\n",
    "\\end{align*}"
   ]
  },
  {
   "cell_type": "markdown",
   "metadata": {},
   "source": [
    "## Posterior Distribution of  $\\rho_{1:2}$, $\\mu_{1}$, $w_{2}$ and $\\theta$"
   ]
  },
  {
   "cell_type": "markdown",
   "metadata": {},
   "source": [
    "\\begin{eqnarray*}\n",
    "p(\\theta, \\rho_{1:2}, \\mu_{1}, w_{2} \\mid r^{1:T}, x_{1:2}^{1:T})\n",
    "& \\propto & \n",
    "p( r^{1:T}, x_{1:2}^{1:T}, \\theta, \\rho_{1:2}, \\mu_{1}, w_{2}) \\\\ \n",
    "& = & \n",
    "\\Bigl( p(\\theta) \\prod_r p(\\rho_{1 \\mid r}) ~ p(\\mu_{1 \\mid r} \\mid \\rho_{1 \\mid r}) ~ p(\\rho_{2 \\mid r}) ~ p(w_{2 \\mid r} \\mid \\rho_{2 \\mid r}) \\Bigr)\n",
    "\\Bigl( \\prod_{t} p(r^t \\mid \\theta) ~ p(x_{1}^{t} \\mid r^{t}, \\rho_{1}, \\mu_{1}) ~ p(x_{2}^{t} \\mid r^{t}, x_{1}^{t}, \\rho_{2}, w_{2}) \\Bigr) \\\\\n",
    "%& \\propto & \n",
    "%\\Bigl(\\prod_r \\exp\\bigl((\\alpha_r-1)\\log \\theta_r \\bigr) \\prod_n \\exp\\Bigl( \\bigl(a_{n \\mid r} - \\frac{1}{2} \\bigr) \\log \\rho_{n \\mid r} -b_{n \\mid r} \\rho_{n \\mid r} - \\frac{\\lambda_{n \\mid r}}{2} \\rho_{n \\mid r} (\\mu_{n \\mid r} - m_{n \\mid r})^2  \\Bigr) \\Bigr) \\\\\n",
    "%& &\n",
    "%\\Bigl( \\prod_{t} \\prod_{r} \\exp\\bigl( \\ind{r^t=r} \\log \\theta_r \\bigr) \n",
    "%\\prod_{n} \\exp\\Bigl( \\frac{\\ind{r^t=r}}{2} \\log \\rho_{n \\mid r} -  \\frac{\\ind{r^t=r}}{2} \\rho_{n \\mid r} (x_{n}^{t} - \\mu_{n \\mid r})^2  \\Bigr)  \\Bigr) \\\\\n",
    "& \\propto &\n",
    "\\mathcal{D}(\\theta; \\alpha^*) \\prod_r \\mathcal{N}(\\mu_{1 \\mid r};m^*_{1 \\mid r}, (\\lambda^*_{1 \\mid r} \\rho_{1 \\mid r})^{-1}) ~ \\mathcal{G}(\\rho_{1 \\mid r} ; a^*_{1 \\mid r}, b^*_{1 \\mid r}) ~ \\mathcal{N} (w_{2 \\mid r}; m^*_{2 \\mid r}, (\\rho_{2 \\mid r} \\Lambda^*_{2 \\mid r})^{-1}) ~ \\mathcal{G} (\\rho_{2 \\mid r}; a^*_{2 \\mid r}, b^*_{2 \\mid r})\n",
    "\\end{eqnarray*}"
   ]
  },
  {
   "cell_type": "markdown",
   "metadata": {},
   "source": [
    "where \n",
    "\n",
    "\\begin{eqnarray}\n",
    "\\alpha^*_r & \\equiv & \\alpha_r + \\sum_t \\ind{r^t = r} \\\\\n",
    "\\lambda^*_{1 \\mid r} & \\equiv & \\lambda_{1 \\mid r} + \\sum_t \\ind{r^t = r} \\\\ \n",
    "m^*_{1 \\mid r} & \\equiv & \\frac{\\lambda_{1 \\mid r} m_{1 \\mid r} + \\sum_t \\ind{r^t = r} x_1^t}{\\lambda^*_{1 \\mid r}} \\\\\n",
    "a^*_{1 \\mid r} & \\equiv & a_{1 \\mid r} + \\frac{\\sum_t \\ind{r^t = r}}{2}\\\\\n",
    "b^*_{1 \\mid r} & \\equiv & b_{1 \\mid r} + \\frac{1}{2} \\bigl( \\sum_t \\ind{r^t = r} (x_1^t)^2 + \\lambda_{1 \\mid r} m_{1 \\mid r}^2 - \\lambda^*_{1 \\mid r} (m^*_{1 \\mid r})^2 \\bigr)\n",
    "\\end{eqnarray}"
   ]
  },
  {
   "cell_type": "markdown",
   "metadata": {},
   "source": [
    "and\n",
    "\n",
    "\\begin{eqnarray}\n",
    "\\Lambda^*_{2 \\mid r} & \\equiv & \n",
    "\\lambda_{2 \\mid r} \\mathbf{I} + \\sum\\nolimits_t \\ind{r^t = r} \\phi(x_1^t) \\phi(x_1^t)^T \\\\\n",
    "m^*_{2 \\mid r} & \\equiv & \n",
    "{\\Lambda^*_{2 \\mid r}}^{-1} \n",
    "\\bigl(\\lambda_{2 \\mid r} m_{2 \\mid r} + \\sum\\nolimits_t \\ind{r^t = r} x_2^t \\phi(x_1^t) \\bigr) \\\\\n",
    "a^*_{2 \\mid r} & \\equiv & a_{2 \\mid r} + \\frac{\\sum\\nolimits_t \\ind{r^t = r}}{2} \\\\\n",
    "b^*_{2 \\mid r} & \\equiv & b_{2 \\mid r} + \\frac{1}{2} \\Bigl(\\sum_t \\ind{r^t = r} (x_2^t)^2 + \\lambda_{2 \\mid r} m_{2 \\mid r}^T m_{2 \\mid r} - {m^*_{2 \\mid r}}^T \\Lambda^*_{2 \\mid r} m^*_{2 \\mid r} \\Bigr)\n",
    "\\end{eqnarray}"
   ]
  },
  {
   "cell_type": "markdown",
   "metadata": {},
   "source": [
    "## Marginal distribution of $r^{1:T}$, $x^{1:T}_{1:2}$"
   ]
  },
  {
   "cell_type": "markdown",
   "metadata": {},
   "source": [
    "\\begin{eqnarray}\n",
    "p(r^{1:T}, x_{1:2}^{1:T}) \n",
    "& = & \n",
    "\\frac{p(\\theta) ~ p(\\rho_{1:2}) ~ p(\\mu_{1}) ~ p(w_{2}) ~ p(r^{1:T}, x_{1:2}^{1:T} \\mid \\theta, \\rho_{1:2}, \\mu_{1}, w_{2})}{p(\\theta, \\rho_{1:2}, \\mu_{1}, w_{2} \\mid r^{1:T}, x_{1:N}^{1:T})} \\\\\n",
    "& = & \n",
    "\\frac{1}{(2 \\pi)^{N/2}}\n",
    "\\frac{\\beta_y^{\\alpha_y}}{{(\\beta'_y)}^{\\alpha'_y}} \n",
    "\\frac{\\Gamma(\\alpha'_y)}{\\Gamma(\\alpha_y)}\n",
    "\\sqrt{\\frac{\\det(\\Lambda_w)}{\\det(\\Lambda'_w)}} \\\\\n",
    "& = &\n",
    "\\frac{1}{(2 \\pi)^{T}}\n",
    "\\frac{\\Gamma(\\sum_r \\alpha_r)}{\\Gamma(\\sum_r \\alpha^*_r)} \n",
    "\\prod_r \\frac{ \\Gamma(\\alpha^*_r)}{\\Gamma(\\alpha_r)}  \n",
    "\\frac{b_{1 \\mid r}^{a_{1 \\mid r}}}{{(b^*_{1 \\mid r})}^{a^*_{1 \\mid r}}} \n",
    "\\frac{b_{2 \\mid r}^{a_{2 \\mid r}}}{{(b^*_{2 \\mid r})}^{a^*_{2 \\mid r}}}\n",
    "\\frac{\\Gamma(a^*_{1 \\mid r})}{\\Gamma(a_{1 \\mid r})} \n",
    "\\frac{\\Gamma(a^*_{2 \\mid r})}{\\Gamma(a_{2 \\mid r})}\n",
    "\\sqrt{\\frac{\\lambda_{1 \\mid r}}{\\lambda^*_{1 \\mid r}}}\n",
    "\\sqrt{\\det\\Bigl(\\frac{1}{\\lambda_{2 \\mid r}} \\Lambda^*_{2 \\mid r}\\Bigr)^{-1}}\n",
    "\\end{eqnarray}"
   ]
  },
  {
   "cell_type": "markdown",
   "metadata": {},
   "source": [
    "## Sequential Importance Sampling for $p(x_{1:N}^{1:T})$"
   ]
  },
  {
   "cell_type": "markdown",
   "metadata": {},
   "source": [
    "Proposal distribution:\n",
    "\n",
    "\\begin{eqnarray}\n",
    "q(r^{1:T}) & \\equiv & \\prod_{t} q_t (r^t \\mid r^{1:t-1}) \\\\\n",
    "q_t (r^t \\mid r^{1:t-1}) & \\equiv & p(r^t \\mid r^{1:t-1}, x_{1:N}^{1:t}) \n",
    "\\label{eq:filtering_distributions} \\\\\n",
    "& = & \\frac{p(r^{1:t}, x_{1:N}^{1:t})}{\\sum_r p( \\mathbf{r}^t = r, r^{1:t-1}, x_{1:N}^{1:t})}\n",
    "\\end{eqnarray}"
   ]
  },
  {
   "cell_type": "markdown",
   "metadata": {},
   "source": [
    "Marginal Likelihood of observed data:\n",
    "\n",
    "\\begin{eqnarray}\n",
    "p(x_{1:N}^{1:N})\n",
    "& = & \\E{\\prod_t p(x_{1:N}^t \\mid \\mathbf{r}^{1:t-1}, x_{1:N}^{1:t-1})}_{q(\\mathbf{r}^{1:T})} \\\\\n",
    "& = & \\E{\\prod_t \\frac{\\sum_r p(\\mathbf{r}^{t} = r, \\mathbf{r}^{1:t-1}, x_{1:N}^{1:t})}{p(\\mathbf{r}^{1:t-1}, x_{1:N}^{1:t-1})} }_{q(\\mathbf{r}^{1:T})}\n",
    "\\end{eqnarray}"
   ]
  },
  {
   "cell_type": "markdown",
   "metadata": {},
   "source": [
    "### Algorithm"
   ]
  },
  {
   "cell_type": "markdown",
   "metadata": {},
   "source": [
    "* $\\INPUT{x_{1:N}^{1:T}} $\n",
    "* Initialize $\\zeta^{0} \\gets 1$\n",
    "* $\\FOR{t=1, \\dots, T}$\n",
    "    * $r^t \\sim \\frac{p(r^{1:t}, x_{1:N}^{1:t})}{\\sum_r p( \\mathbf{r}^t = r, r^{1:t-1}, x_{1:N}^{1:t}) } $ \n",
    "    * $\\zeta^{t} \\gets \\zeta^{t-1} \\frac{\\sum_r p(\\mathbf{r}^{t} = r, r^{1:t-1}, x_{1:N}^{1:t})}{p(r^{1:t-1}, x_{1:N}^{1:t-1})}$\n",
    "* $\\RETURN{\\zeta^{T}}$"
   ]
  },
  {
   "cell_type": "markdown",
   "metadata": {},
   "source": [
    "# Implementation"
   ]
  },
  {
   "cell_type": "code",
   "execution_count": 1,
   "metadata": {},
   "outputs": [],
   "source": [
    "include(\"src/Misc.jl\");\n",
    "include(\"src/Datasets.jl\");\n",
    "include(\"src/Tokenizer.jl\");"
   ]
  },
  {
   "cell_type": "code",
   "execution_count": 2,
   "metadata": {},
   "outputs": [],
   "source": [
    "using .Misc, .Tokenizer\n",
    "import .Datasets"
   ]
  },
  {
   "cell_type": "code",
   "execution_count": 3,
   "metadata": {},
   "outputs": [],
   "source": [
    "using Statistics, Distributions\n",
    "using SpecialFunctions, LinearAlgebra\n",
    "\n",
    "using PyPlot"
   ]
  },
  {
   "cell_type": "code",
   "execution_count": 23,
   "metadata": {},
   "outputs": [
    {
     "data": {
      "text/plain": [
       "\"./results/tuebingen\""
      ]
     },
     "execution_count": 23,
     "metadata": {},
     "output_type": "execute_result"
    }
   ],
   "source": [
    "RESULTS = \"./results/tuebingen\""
   ]
  },
  {
   "cell_type": "markdown",
   "metadata": {},
   "source": [
    "## Synthetic Data"
   ]
  },
  {
   "cell_type": "code",
   "execution_count": 4,
   "metadata": {},
   "outputs": [
    {
     "data": {
      "text/plain": [
       "generate (generic function with 1 method)"
      ]
     },
     "execution_count": 4,
     "metadata": {},
     "output_type": "execute_result"
    }
   ],
   "source": [
    "function generate(T::Int, K::Int; α_x=1.0, β_x=1.0, α_y=1.0, β_y=1.0,\n",
    "    λ_μ=1.0, m_μ=0.0, m_w::AbstractArray=zeros(K+1), Λ_w::AbstractArray=Diagonal(ones(K+1)))\n",
    "    \n",
    "    ρ_x, ρ_y = rand(Gamma(α_x,1/β_x)), rand(Gamma(α_y,1/β_y))\n",
    "    μ_x = rand(Normal(m_μ, (λ_μ * ρ_x)^(-1/2)))\n",
    "    w = rand(MultivariateNormal(m_w, inv(ρ_y .* Λ_w)))\n",
    "    \n",
    "    x = rand(Normal(μ_x, ρ_x^(-1/2)),T)\n",
    "    ϕ = [xᵢ^k for xᵢ ∈ x, k ∈ 0:K]\n",
    "    y = ϕ * w\n",
    "    return x, y\n",
    "end"
   ]
  },
  {
   "cell_type": "code",
   "execution_count": 5,
   "metadata": {
    "scrolled": true
   },
   "outputs": [
    {
     "data": {
      "text/plain": [
       "(1000, 4)"
      ]
     },
     "execution_count": 5,
     "metadata": {},
     "output_type": "execute_result"
    }
   ],
   "source": [
    "T, K = 1000, 4"
   ]
  },
  {
   "cell_type": "code",
   "execution_count": 6,
   "metadata": {},
   "outputs": [],
   "source": [
    "params = Dict(:α_x => 1.0, :β_x => 1.0, :α_y => 16.0, :β_y => 1.0,\n",
    "              :λ_μ => 10.0, :m_μ => 0.0, :m_w => zeros(K+1), :Λ_w => Diagonal(fill(0.01,K+1)));"
   ]
  },
  {
   "cell_type": "code",
   "execution_count": 7,
   "metadata": {},
   "outputs": [],
   "source": [
    "x, y = generate(T,K; params...);"
   ]
  },
  {
   "cell_type": "code",
   "execution_count": 8,
   "metadata": {},
   "outputs": [
    {
     "data": {
      "image/png": "[encoded data removed]",
      "text/plain": [
       "Figure(PyObject <Figure size 500x300 with 1 Axes>)"
      ]
     },
     "metadata": {},
     "output_type": "display_data"
    }
   ],
   "source": [
    "fig = PyPlot.figure(figsize=(5,3))\n",
    "PyPlot.scatter(x,y;marker=\".\",label=\"X -> Y\")\n",
    "PyPlot.title(\"Synthetic Data (\\$ X \\\\to Y \\$)\")\n",
    "PyPlot.xlabel(\"\\$ X \\$\")\n",
    "PyPlot.ylabel(\"\\$ Y \\$\")\n",
    "PyPlot.legend();"
   ]
  },
  {
   "cell_type": "markdown",
   "metadata": {},
   "source": [
    "## Marginal Likelihood"
   ]
  },
  {
   "cell_type": "code",
   "execution_count": 9,
   "metadata": {},
   "outputs": [
    {
     "data": {
      "text/plain": [
       "marginal_likelihood (generic function with 1 method)"
      ]
     },
     "execution_count": 9,
     "metadata": {},
     "output_type": "execute_result"
    }
   ],
   "source": [
    "function marginal_likelihood(x::AbstractArray,y::AbstractArray,K::Int; α_x=1.0, β_x=1.0, α_y=1.0, β_y=1.0,\n",
    "    λ_μ=1.0, m_μ=0.0, m_w::AbstractArray=zeros(K+1), Λ_w::AbstractArray=Diagonal(ones(K+1)))\n",
    "    \n",
    "    N = length(x)\n",
    "    log_Pxy = -N*log(2π)\n",
    "    \n",
    "    xᵇ = mean(x)\n",
    "    λᵖ_μ = λ_μ + N\n",
    "    mᵖ_μ = (λ_μ*m_μ + N*xᵇ)/λᵖ_μ\n",
    "    αᵖ_x = α_x + N/2\n",
    "    βᵖ_x = β_x + (sum((x.-xᵇ).^2) + N*λ_μ*(xᵇ-m_μ)^2/λᵖ_μ)/2\n",
    "    \n",
    "    log_Pxy += α_x * log(β_x) - lgamma(α_x) + 0.5 * log(λ_μ) \n",
    "    log_Pxy -= αᵖ_x * log(βᵖ_x) - lgamma(αᵖ_x) + 0.5 * log(λᵖ_μ)\n",
    "    \n",
    "    ϕ = [xᵢ^k for xᵢ ∈ x, k ∈ 0:K]\n",
    "    wʰ = ϕ \\ y\n",
    "    yʰ = ϕ * wʰ\n",
    "    Λᵖ_w = Λ_w + ϕ' * ϕ \n",
    "    mᵖ_w = Λᵖ_w \\ (Λ_w * m_w + ϕ' * y)\n",
    "    αᵖ_y = α_y + N/2\n",
    "    βᵖ_y = β_y + (sum(y.^2) + m_w' * Λ_w * m_w - mᵖ_w' * Λᵖ_w * mᵖ_w)/2\n",
    "    \n",
    "    log_Pxy += α_y * log(β_y) - lgamma(α_y) + 0.5 * logdet(Λ_w) \n",
    "    log_Pxy -= αᵖ_y * log(βᵖ_y) - lgamma(αᵖ_y) + 0.5 * logdet(Λᵖ_w)\n",
    "    \n",
    "    return log_Pxy\n",
    "end"
   ]
  },
  {
   "cell_type": "code",
   "execution_count": 10,
   "metadata": {
    "scrolled": true
   },
   "outputs": [
    {
     "data": {
      "text/plain": [
       "435.55716455953507"
      ]
     },
     "execution_count": 10,
     "metadata": {},
     "output_type": "execute_result"
    }
   ],
   "source": [
    "marginal_likelihood(x,y,K;params...)"
   ]
  },
  {
   "cell_type": "code",
   "execution_count": 11,
   "metadata": {},
   "outputs": [
    {
     "data": {
      "text/plain": [
       "-3821.876211703692"
      ]
     },
     "execution_count": 11,
     "metadata": {},
     "output_type": "execute_result"
    }
   ],
   "source": [
    "marginal_likelihood(y,x,K;params...)"
   ]
  },
  {
   "cell_type": "markdown",
   "metadata": {},
   "source": [
    "## Causal Relationship Determination"
   ]
  },
  {
   "cell_type": "code",
   "execution_count": 12,
   "metadata": {},
   "outputs": [
    {
     "data": {
      "text/plain": [
       "causal_relationship (generic function with 1 method)"
      ]
     },
     "execution_count": 12,
     "metadata": {},
     "output_type": "execute_result"
    }
   ],
   "source": [
    "function causal_relationship(x::AbstractArray,y::AbstractArray,K::Int;params...)\n",
    "    xⁿ = (x .- mean(x)) / std(x)\n",
    "    yⁿ = (y .- mean(y)) / std(y)\n",
    "    Px2y = marginal_likelihood(xⁿ,yⁿ,K;params...)\n",
    "    Py2x = marginal_likelihood(yⁿ,xⁿ,K;params...)\n",
    "    return Px2y > Py2x ? \"->\" : \"<-\"\n",
    "end"
   ]
  },
  {
   "cell_type": "code",
   "execution_count": 13,
   "metadata": {},
   "outputs": [
    {
     "data": {
      "text/plain": [
       "\"->\""
      ]
     },
     "execution_count": 13,
     "metadata": {},
     "output_type": "execute_result"
    }
   ],
   "source": [
    "causal_relationship(x,y,K;params...)"
   ]
  },
  {
   "cell_type": "markdown",
   "metadata": {},
   "source": [
    "## Accuracy on Tuebingen Dataset"
   ]
  },
  {
   "cell_type": "code",
   "execution_count": 14,
   "metadata": {},
   "outputs": [
    {
     "data": {
      "text/plain": [
       "causal_accuracy (generic function with 1 method)"
      ]
     },
     "execution_count": 14,
     "metadata": {},
     "output_type": "execute_result"
    }
   ],
   "source": [
    "function causal_accuracy(method, data)\n",
    "    total_score = 0\n",
    "    total_weight = 0\n",
    "    for pair ∈ data\n",
    "        score = method(pair[:X],pair[:Y]) == pair[:relationship]\n",
    "        total_score += pair[:weight] * score\n",
    "        total_weight += pair[:weight]\n",
    "    end\n",
    "    return total_score/total_weight\n",
    "end"
   ]
  },
  {
   "cell_type": "code",
   "execution_count": 15,
   "metadata": {},
   "outputs": [
    {
     "name": "stderr",
     "output_type": "stream",
     "text": [
      "┌ Warning: readtable is deprecated, use CSV.read from the CSV package instead\n",
      "│   caller = ip:0x0\n",
      "└ @ Core :-1\n"
     ]
    }
   ],
   "source": [
    "valid_pairs = setdiff(1:100,[52,53,54,55,71])\n",
    "tuebingen_data = Datasets.tuebingen(valid_pairs);"
   ]
  },
  {
   "cell_type": "code",
   "execution_count": 40,
   "metadata": {},
   "outputs": [],
   "source": [
    "K = 4\n",
    "params = Dict(:α_x => 1000.0, :β_x => 1000.0, :α_y => 16.0, :β_y => 1.0,\n",
    "              :λ_μ => 100.0, :m_μ => 0.0, :m_w => zeros(K+1), :Λ_w => Diagonal(fill(0.01,K+1)));"
   ]
  },
  {
   "cell_type": "code",
   "execution_count": 41,
   "metadata": {},
   "outputs": [
    {
     "name": "stdout",
     "output_type": "stream",
     "text": [
      "  0.228754 seconds (54.99 k allocations: 65.036 MiB, 8.37% gc time)\n"
     ]
    },
    {
     "data": {
      "text/plain": [
       "0.6259232696818952"
      ]
     },
     "execution_count": 41,
     "metadata": {},
     "output_type": "execute_result"
    }
   ],
   "source": [
    "bmc = (x::AbstractArray,y::AbstractArray) -> causal_relationship(x,y,K;params...)\n",
    "@time causal_accuracy(bmc,tuebingen_data)"
   ]
  },
  {
   "cell_type": "markdown",
   "metadata": {},
   "source": [
    "## Parameter Search (Forbidden in Reality)"
   ]
  },
  {
   "cell_type": "code",
   "execution_count": 18,
   "metadata": {},
   "outputs": [],
   "source": [
    "acc = Float64[]\n",
    "for K=1:5\n",
    "    for α_x=1e3, β_x=1e3, λ_μ = 1e2\n",
    "        for α_y=10.0.^(-5:5), β_y=10.0.^(-5:5), λ_w = 10.0.^(-5:5)\n",
    "            params = Dict(:α_x => α_x, :β_x => β_x, :α_y => α_y, :β_y => β_y,\n",
    "                      :λ_μ => λ_μ, :m_μ => 0.0, :m_w => zeros(K+1), :Λ_w => Diagonal(fill(λ_w,K+1)));\n",
    "            bmc = (x::AbstractArray,y::AbstractArray) -> causal_relationship(x,y,K;params...)\n",
    "            push!(acc,causal_accuracy(bmc,tuebingen_data))\n",
    "        end\n",
    "    end\n",
    "end"
   ]
  },
  {
   "cell_type": "markdown",
   "metadata": {},
   "source": [
    "# Plotting Pairs"
   ]
  },
  {
   "cell_type": "code",
   "execution_count": 19,
   "metadata": {},
   "outputs": [
    {
     "data": {
      "text/plain": [
       "plot_pair (generic function with 1 method)"
      ]
     },
     "execution_count": 19,
     "metadata": {},
     "output_type": "execute_result"
    }
   ],
   "source": [
    "function plot_pair(pair::Dict{Symbol,Any};ax=PyPlot.gca())\n",
    "    PyPlot.scatter(pair[:X],pair[:Y];marker=\".\", label=\"X $(pair[:relationship]) Y\")\n",
    "    PyPlot.title(\"$(pair[:id]): $(pair[:dataset])\")\n",
    "    PyPlot.xlabel(\"X: $(pair[:X_label])\")\n",
    "    PyPlot.ylabel(\"Y: $(pair[:Y_label])\")\n",
    "    PyPlot.legend()\n",
    "end"
   ]
  },
  {
   "cell_type": "code",
   "execution_count": 20,
   "metadata": {},
   "outputs": [
    {
     "data": {
      "image/png": "[encoded data removed]",
      "text/plain": [
       "Figure(PyObject <Figure size 500x300 with 1 Axes>)"
      ]
     },
     "metadata": {},
     "output_type": "display_data"
    }
   ],
   "source": [
    "fig = PyPlot.figure(figsize=(5,3))\n",
    "plot_pair(tuebingen_data[18]);"
   ]
  },
  {
   "cell_type": "code",
   "execution_count": 55,
   "metadata": {},
   "outputs": [],
   "source": [
    "save_json(\"$RESULTS/bayesian_regression.json\", accuracy=acc);"
   ]
  },
  {
   "cell_type": "markdown",
   "metadata": {},
   "source": [
    "### Maximum Prediction Accuracy"
   ]
  },
  {
   "cell_type": "code",
   "execution_count": 74,
   "metadata": {},
   "outputs": [],
   "source": [
    "K = 2\n",
    "params = Dict(:α_x => 1e3, :β_x => 1e3, :α_y => 1e4, :β_y => 1e5,\n",
    "              :λ_μ => 1e2, :m_μ => 0.0, :m_w => zeros(K+1), :Λ_w => Diagonal(fill(1e2,K+1)));"
   ]
  },
  {
   "cell_type": "code",
   "execution_count": 75,
   "metadata": {},
   "outputs": [
    {
     "name": "stdout",
     "output_type": "stream",
     "text": [
      "  0.122942 seconds (51.56 k allocations: 52.139 MiB, 9.75% gc time)\n"
     ]
    },
    {
     "data": {
      "text/plain": [
       "0.7407101568951282"
      ]
     },
     "execution_count": 75,
     "metadata": {},
     "output_type": "execute_result"
    }
   ],
   "source": [
    "bmc = (x::AbstractArray,y::AbstractArray) -> causal_relationship(x,y,K;params...)\n",
    "@time causal_accuracy(bmc,tuebingen_data)"
   ]
  }
 ],
 "metadata": {
  "hide_input": false,
  "kernelspec": {
   "display_name": "Julia 1.0.1",
   "language": "julia",
   "name": "julia-1.0"
  },
  "language_info": {
   "file_extension": ".jl",
   "mimetype": "application/julia",
   "name": "julia",
   "version": "1.0.1"
  },
  "latex_envs": {
   "LaTeX_envs_menu_present": false,
   "autoclose": false,
   "autocomplete": false,
   "bibliofile": "biblio.bib",
   "cite_by": "apalike",
   "current_citInitial": 1,
   "eqLabelWithNumbers": true,
   "eqNumInitial": 1,
   "hotkeys": {
    "equation": "Ctrl-E",
    "itemize": "Ctrl-I"
   },
   "labels_anchors": false,
   "latex_user_defs": false,
   "report_style_numbering": false,
   "user_envs_cfg": false
  }
 },
 "nbformat": 4,
 "nbformat_minor": 2
}
