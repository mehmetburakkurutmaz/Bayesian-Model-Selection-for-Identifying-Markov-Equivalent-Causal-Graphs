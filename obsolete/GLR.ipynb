{
 "cells": [
  {
   "cell_type": "markdown",
   "metadata": {},
   "source": [
    "# Causality Inference in Continuous Data using Bayesian Model Selection"
   ]
  },
  {
   "cell_type": "markdown",
   "metadata": {},
   "source": [
    "## Modeling approach"
   ]
  },
  {
   "cell_type": "markdown",
   "metadata": {},
   "source": [
    "We model causality as the statistical independence between the marginal distribution of the cause variable and the conditional distribution of the effect variable given the cause variable. We construct two versions of the same model in two directions; we deduct the direction of causality by comparing the model marginal likelihood for two directions, and decide for the direction for which the marginal likelihood is higher.\n",
    "\n",
    "In all the models below, we assume the marginal distribution of the cause variable $P(C)$ is a Gaussian distribution with the mean and variance coming from Gaussian and gamma distributions respectively. The conditional distribution $P(E|C)$ is modeled as Bayesian linear regression with each basis function is a power of $x$."
   ]
  },
  {
   "cell_type": "markdown",
   "metadata": {},
   "source": [
    "###  Linear Model ($\\mathcal{NG}$ priors)"
   ]
  },
  {
   "cell_type": "markdown",
   "metadata": {},
   "source": [
    "\\begin{align*}\n",
    "\\rho_x & \\sim \\mathcal{G}(\\alpha_x, \\beta_x) &\n",
    "\\rho_y & \\sim \\mathcal{G}(\\alpha_y, \\beta_y) \\\\ \n",
    "\\mu_x & \\sim \\mathcal{N}(m_\\mu, (\\lambda_\\mu \\rho_x)^{-1}) &\n",
    "w & \\sim \\mathcal{N}(m_w, (\\rho_y \\Lambda_w)^{-1}) \\\\\n",
    "x_n & \\sim \\mathcal{N}(\\mu,\\rho_x^{-1}) &\n",
    "y_n & \\sim \\mathcal{N}(w^T \\phi(x_n), \\rho_y^{-1})\n",
    "\\end{align*}"
   ]
  },
  {
   "cell_type": "markdown",
   "metadata": {},
   "source": [
    "### Posterior Distribution of $\\mu_x$ and $\\rho_x$"
   ]
  },
  {
   "cell_type": "markdown",
   "metadata": {},
   "source": [
    "\\begin{eqnarray*}\n",
    "p(\\mu_x, \\rho_x \\mid x_{1:N})\n",
    "& \\propto & p(x_{1:N}, \\mu_x, \\rho_x) \\\\ \n",
    "& = & p(\\rho_x) ~ p(\\mu_x \\mid \\rho_x) ~ \\prod_{n} p(x_n \\mid \\mu_x, \\rho_x) \\\\\n",
    "& \\propto & \\exp\\bigl( (\\alpha_x-1)\\log \\rho_x - \\beta_x \\rho_x \\bigr)  \\exp\\Bigl( \\frac{1}{2} \\log \\rho_x- \\frac{1}{2} \\lambda_\\mu \\rho_x (\\mu_x - m_\\mu)^2  \\Bigr) \\\\\n",
    "& & \\prod_{n} \\exp\\Bigl( \\frac{1}{2} \\log \\rho_x - \\frac{1}{2} \\rho_x (x_n - \\mu_x)^2  \\Bigr) \\\\\n",
    "& \\propto & \\mathcal{NG}(\\mu_x, \\rho_x; m'_\\mu, \\lambda'_\\mu, \\alpha'_x, \\beta'_x)\n",
    "\\end{eqnarray*}"
   ]
  },
  {
   "cell_type": "markdown",
   "metadata": {},
   "source": [
    "### Posterior Distribution of $\\mu_x$ and $\\rho_x$"
   ]
  },
  {
   "cell_type": "markdown",
   "metadata": {},
   "source": [
    "\\begin{eqnarray*}\n",
    "p(\\mu_x, \\rho_x \\mid x_{1:N})\n",
    "& \\propto & p(x_{1:N}, \\mu_x, \\rho_x) \\\\ \n",
    "& = & p(\\rho_x) ~ p(\\mu_x \\mid \\rho_x) ~ \\prod_{n} p(x_n \\mid \\mu_x, \\rho_x) \\\\\n",
    "& \\propto & \\exp\\bigl( (\\alpha_x-1)\\log \\rho_x - \\beta_x \\rho_x \\bigr)  \\exp\\Bigl( \\frac{1}{2} \\log \\rho_x- \\frac{1}{2} \\lambda_\\mu \\rho_x (\\mu_x - m_\\mu)^2  \\Bigr) \\\\\n",
    "& & \\prod_{n} \\exp\\Bigl( \\frac{1}{2} \\log \\rho_x - \\frac{1}{2} \\rho_x (x_n - \\mu_x)^2  \\Bigr) \\\\\n",
    "& \\propto & \\mathcal{NG}(\\mu_x, \\rho_x; m'_\\mu, \\lambda'_\\mu, \\alpha'_x, \\beta'_x)\n",
    "\\end{eqnarray*}"
   ]
  },
  {
   "cell_type": "markdown",
   "metadata": {},
   "source": [
    "where \n",
    "\n",
    "\\begin{eqnarray}\n",
    "\\bar{x} & \\equiv & \\frac{1}{N} \\sum_n x_n\\\\\n",
    "m'_\\mu & \\equiv & \\frac{\\lambda_\\mu \\mu + N \\bar{x}}{\\lambda_\\mu + N} \\\\\n",
    "\\lambda'_\\mu & \\equiv & \\lambda_\\mu + N \\\\\n",
    "\\alpha'_x & \\equiv & \\alpha_x + \\frac{N}{2} \\\\\n",
    "\\beta'_x & \\equiv & \\beta_x + \\frac{1}{2}\\Bigl(\\sum_n (\\bar{x}-x_n)^2 + \\frac{N \\lambda_\\mu (\\bar{x} - m_\\mu)^2}{\\lambda_\\mu + N}  \\Bigr)\n",
    "\\end{eqnarray}"
   ]
  },
  {
   "cell_type": "markdown",
   "metadata": {},
   "source": [
    "### Marginal distribution of $x_{1:N}$"
   ]
  },
  {
   "cell_type": "markdown",
   "metadata": {},
   "source": [
    "\\begin{eqnarray*}\n",
    "p(x_{1:N}) \n",
    "& = & \n",
    "\\frac{p(x_{1:N}, \\mu_x, \\rho_x)}{p(\\mu_x, \\rho_x \\mid x_{1:N})} \\\\\n",
    "& = & \n",
    "\\frac{p(\\rho_x) ~ p(\\mu_x \\mid \\rho_x) ~ \\prod_{n} p(x_n \\mid \\mu_x, \\rho_x)}{p(\\mu_x, \\rho_x \\mid x_{1:N})} \\\\\n",
    "& = &\n",
    "\\frac{\\mathcal{NG}(\\mu_x, \\rho_x; m_\\mu,\\lambda_\\mu,\\alpha_x,\\beta_x) ~ \\prod_{n} \\mathcal{N}(x_n; \\mu_x, \\rho_x^{-1})}{\\mathcal{NG}(\\mu_x, \\rho_x; m'_\\mu,\\lambda'_\\mu,\\alpha'_x,\\beta'_x)} \\\\\n",
    "& = &\n",
    "\\frac{1}{(2 \\pi)^{N/2}}\n",
    "\\frac{\\beta_x^{\\alpha_x}}{{(\\beta'_x)}^{\\alpha'_x}} \n",
    "\\frac{\\Gamma(\\alpha'_x)}{\\Gamma(\\alpha_x)}\n",
    "\\sqrt{\\frac{\\lambda_\\mu}{\\lambda'_\\mu}}\n",
    "\\end{eqnarray*}"
   ]
  },
  {
   "cell_type": "markdown",
   "metadata": {},
   "source": [
    "### Posterior Distribution of $w$ and $\\rho_y$"
   ]
  },
  {
   "cell_type": "markdown",
   "metadata": {},
   "source": [
    "\\begin{eqnarray*}\n",
    "p(w, \\rho_y \\mid y_{1:N}, x_{1:N})\n",
    "& \\propto & \n",
    "p(w, \\rho_y, y_{1:N} \\mid x_{1:N}) \\\\ \n",
    "& = & \n",
    "p(\\rho_y) ~ p(w \\mid \\rho_y) ~ \\prod_{n} p(y_n \\mid w, \\rho_y, x_n) \\\\\n",
    "& \\propto & \n",
    "\\exp\\bigl( (\\alpha_y-1)\\log \\rho_y - \\beta_y \\rho_y \\bigr)\n",
    "\\exp\\Bigl( \\frac{K}{2} \\log \\rho_y- \\frac{1}{2} \\rho_y (w - m_w)^T \\Lambda_w (w - m_w) \\Bigr) \\\\\n",
    "& & \\prod_{n} \\exp\\Bigl( \\frac{1}{2} \\log \\rho_y - \\frac{1}{2} \\rho_y \\bigl(y_n - w^T\\phi(x_n) \\bigr)^2  \\Bigr) \\\\\n",
    "& \\propto & \n",
    "\\mathcal{N} (w; m'_w, (\\rho_y \\Lambda'_w)^{-1}) ~\n",
    "\\mathcal{G} (\\rho_y; \\alpha'_y, \\beta'_y)\n",
    "\\end{eqnarray*}"
   ]
  },
  {
   "cell_type": "markdown",
   "metadata": {},
   "source": [
    "where \n",
    "\n",
    "\\begin{eqnarray}\n",
    "\\hat{w} & \\equiv & \n",
    "\\bigl(\\sum\\nolimits_n \\phi(x_n) \\phi(x_n)^T \\bigr)^{-1} \n",
    "\\bigl(\\sum\\nolimits_n y_n \\phi(x_n) \\bigr) \\\\\n",
    "\\hat{y}_n & \\equiv & \n",
    "\\hat{w}^T \\phi(x_n) \\\\\n",
    "\\Lambda'_w & \\equiv & \n",
    "\\Lambda_w + \\sum\\nolimits_n \\phi(x_n) \\phi(x_n)^T \\\\\n",
    "m'_w & \\equiv & \n",
    "{\\Lambda'_w}^{-1} \n",
    "\\bigl(\\Lambda_w m_w + \\sum\\nolimits_n \\hat{y}_n \\phi(x_n) \\bigr) \\\\\n",
    "\\alpha'_y & \\equiv & \\alpha_y + \\frac{N}{2} \\\\\n",
    "\\beta'_y & \\equiv & \\beta_y + \\frac{1}{2} \\Bigl(\\sum_n y_n^2 + m_w^T \\Lambda_w m_w - {m'_w}^T \\Lambda_w m_w \\Bigr)\n",
    "\\end{eqnarray}"
   ]
  },
  {
   "cell_type": "markdown",
   "metadata": {},
   "source": [
    "### Conditional distribution $y_{1:N} \\mid x_{1:N}$"
   ]
  },
  {
   "cell_type": "markdown",
   "metadata": {},
   "source": [
    "\\begin{eqnarray*}\n",
    "p(y_{1:N} \\mid x_{1:N}) \n",
    "& = & \n",
    "\\frac{p(w, \\rho_y, y_{1:N} \\mid x_{1:N})}{p(w, \\rho_y \\mid y_{1:N}, x_{1:N})} \\\\\n",
    "& = & \n",
    "\\frac{p(w) ~ p(w \\mid \\rho_w) ~ \\prod_{n} p(y_n \\mid w, \\rho_y)}{p(w, \\rho_y \\mid x_{1:N})} \\\\\n",
    "& = &\n",
    "\\frac{\\mathcal{N} (w; m_w, (\\rho_y \\Lambda_w)^{-1}) ~\n",
    "\\mathcal{G} (\\rho_y; \\alpha_y, \\beta_y) ~ \n",
    "\\prod_{n} \\mathcal{N}(y_n; w^T \\phi(x_n), \\rho_y^{-1})}\n",
    "{\\mathcal{N} (w; m'_w, (\\rho_y \\Lambda'_w)^{-1}) ~\n",
    "\\mathcal{G} (\\rho_y; \\alpha'_y, \\beta'_y)} \\\\\n",
    "& = &\n",
    "\\frac{1}{(2 \\pi)^{N/2}}\n",
    "\\frac{\\beta_y^{\\alpha_y}}{{(\\beta'_y)}^{\\alpha'_y}} \n",
    "\\frac{\\Gamma(\\alpha'_y)}{\\Gamma(\\alpha_y)}\n",
    "\\sqrt{\\frac{\\det(\\Lambda_w)}{\\det(\\Lambda'_w)}}\n",
    "\\end{eqnarray*}"
   ]
  },
  {
   "cell_type": "markdown",
   "metadata": {},
   "source": [
    "## Implementation"
   ]
  },
  {
   "cell_type": "code",
   "execution_count": null,
   "metadata": {},
   "outputs": [],
   "source": [
    "using Distributions\n",
    "using PyCall\n",
    "using SpecialFunctions: lgamma\n",
    "using LinearAlgebra; Diagonal, I, logdet;\n",
    "@pyimport pickle"
   ]
  },
  {
   "cell_type": "code",
   "execution_count": 277,
   "metadata": {},
   "outputs": [],
   "source": [
    "function pickle_load(filename)\n",
    "    #from https://gist.github.com/RobBlackwell/10a1aeabeb85bbf1a17cc334e5e60acf\n",
    "    r = nothing\n",
    "    @pywith pybuiltin(\"open\")(filename,\"rb\") as f begin\n",
    "        r = pickle.load(f)\n",
    "    end\n",
    "    return r\n",
    "end;\n",
    "\n",
    "function standardize(x)\n",
    "    return (x .- mean(x))./std(x)\n",
    "end\n",
    "    \n",
    "function create_phi(x_orig, B::Int)\n",
    "    x = hcat([x_orig .^ i for i in 0:(B-1)]...)\n",
    "    return x\n",
    "end;\n",
    "\n",
    "function p_x(x, α_x, β_x, λ_mu, m_mu, N)\n",
    "    λ_p_mu = λ_mu + N\n",
    "    x_bar = mean(x)\n",
    "    α_p_x = α_x + N/2\n",
    "    β_p_x = β_x + 0.5*(sum((x_bar .- x).^2) + (N*λ_mu*(x_bar-m_mu)^2)/(λ_mu+N))\n",
    "    log_p_x = -(N/2)*log(2π) + α_x*log(β_x) - α_p_x*log(β_p_x) + lgamma(α_p_x) - lgamma(α_x) + 0.5*log(λ_mu) - 0.5*log(λ_p_mu)\n",
    "    return log_p_x\n",
    "end\n",
    "\n",
    "function p_y_given_x(x, y, α_y, β_y, m_w, Λ_w)\n",
    "    w_hat = inv(x' * x)*sum(x .* y, dims=1)'\n",
    "    y_hat  = (w_hat' * x')'\n",
    "    α_p_y = α_y + N/2\n",
    "    Λ_p_w = Λ_w + (x' * x)\n",
    "    m_p_w = inv(Λ_p_w)*(Λ_w*m_w + sum(x .* y_hat, dims=1)')\n",
    "    β_p_y = β_y + 0.5*(sum(y.^2) + (m_w'*Λ_w*m_w)[1,1] - (m_p_w'*Λ_w*m_w)[1,1]);\n",
    "    log_p_y_x = -(N/2)*log(2π) + α_y*log(β_y) - α_p_y*log(β_p_y) + lgamma(α_p_y) - lgamma(α_y) + 0.5 * logdet(Λ_w) - 0.5*logdet(Λ_p_w)\n",
    "    return log_p_y_x\n",
    "end;\n",
    "\n",
    "function compare_marginal_likelihoods(data, params, B; st_x, st_y)\n",
    "    x, y = data[:, 1], data[:, 2];\n",
    "    if st_x\n",
    "        x = standardize(x);\n",
    "    end\n",
    "    if st_y\n",
    "        y = standardize(y);\n",
    "    end\n",
    "    x = create_phi(x, B);\n",
    "    xtoy = get_marginal_likelihood(x, y, params)\n",
    "\n",
    "    x, y = data[:, 2], data[:, 1];\n",
    "    if st_x\n",
    "        x = standardize(x);\n",
    "    end\n",
    "    if st_y\n",
    "        y = standardize(y);\n",
    "    end\n",
    "    x = create_phi(x, B);\n",
    "    ytox = get_marginal_likelihood(x, y, params)\n",
    "    if xtoy > ytox\n",
    "        return \"xtoy\"\n",
    "    else\n",
    "        return \"ytox\"\n",
    "    end\n",
    "    end;\n",
    "\n",
    "function get_marginal_likelihood(x, y, params)\n",
    "    α_x, β_x, α_y, β_y, m_w, Λ_w, λ_mu, m_mu, B, N = params\n",
    "    log_p_y_x = p_y_given_x(x, y, α_y, β_y, m_w, Λ_w) + p_x(x[:,2], α_x, β_x, λ_mu, m_mu, N)\n",
    "    return log_p_y_x\n",
    "end;\n",
    "\n",
    "\"\"\"\n",
    "S_1 = α .* zeros(B,B)+I + β.*(x' * x);\n",
    "d = (β .* sum(x .* y, dims=1))';\n",
    "p_y_x = 0.5*(-β*sum(y.^2) + (d' * S_1 * d)[1,1] - logdet(S_1) + B*log(α) + N*log(β) - N*log(2π))\n",
    "\"\"\";"
   ]
  },
  {
   "cell_type": "code",
   "execution_count": 272,
   "metadata": {},
   "outputs": [],
   "source": [
    "filename = \"./data/causality/causality-tubingen/causality-tubingen.pkl\"\n",
    "all_data = pickle_load(filename);"
   ]
  },
  {
   "cell_type": "code",
   "execution_count": 273,
   "metadata": {},
   "outputs": [],
   "source": [
    "data = all_data[1][\"data\"];"
   ]
  },
  {
   "cell_type": "code",
   "execution_count": 322,
   "metadata": {},
   "outputs": [],
   "source": [
    "B = 5\n",
    "N = size(data)[1];\n",
    "α_x = .2;\n",
    "β_x = .2;\n",
    "α_y = 2;\n",
    "β_y = 2;\n",
    "m_w = zeros(B,1)\n",
    "Λ_w = zeros(B,B) + I*.1 \n",
    "λ_mu = 1;\n",
    "m_mu = 0;\n",
    "params = [α_x, β_x, α_y, β_y, m_w, Λ_w, λ_mu, m_mu, B, N];"
   ]
  },
  {
   "cell_type": "code",
   "execution_count": 323,
   "metadata": {},
   "outputs": [],
   "source": [
    "function tubingen_test(all_data, params, B; st_x=true, st_y=true)\n",
    "    correct_exp, total_exp = 0, 0\n",
    "    for entry in all_data\n",
    "        data = entry[\"data\"]\n",
    "        result = compare_marginal_likelihoods(data, params, B; st_x=st_x, st_y=st_y)\n",
    "        if result == entry[\"dir\"]\n",
    "            correct_exp = correct_exp + 1\n",
    "        end\n",
    "        total_exp = total_exp + 1\n",
    "    end\n",
    "    return correct_exp / total_exp\n",
    "end;"
   ]
  },
  {
   "cell_type": "code",
   "execution_count": 324,
   "metadata": {},
   "outputs": [
    {
     "data": {
      "text/plain": [
       "0.5520833333333334"
      ]
     },
     "execution_count": 324,
     "metadata": {},
     "output_type": "execute_result"
    }
   ],
   "source": [
    "tubingen_test(all_data, params, B; st_x=true, st_y=true)"
   ]
  },
  {
   "cell_type": "code",
   "execution_count": 325,
   "metadata": {},
   "outputs": [],
   "source": [
    "using Distributions"
   ]
  },
  {
   "cell_type": "code",
   "execution_count": 328,
   "metadata": {},
   "outputs": [
    {
     "name": "stdout",
     "output_type": "stream",
     "text": [
      "search: \u001b[0m\u001b[1mN\u001b[22m\u001b[0m\u001b[1mo\u001b[22m\u001b[0m\u001b[1mr\u001b[22m\u001b[0m\u001b[1mm\u001b[22m\u001b[0m\u001b[1ma\u001b[22m\u001b[0m\u001b[1ml\u001b[22m \u001b[0m\u001b[1mn\u001b[22m\u001b[0m\u001b[1mo\u001b[22m\u001b[0m\u001b[1mr\u001b[22m\u001b[0m\u001b[1mm\u001b[22m\u001b[0m\u001b[1ma\u001b[22m\u001b[0m\u001b[1ml\u001b[22mize \u001b[0m\u001b[1mN\u001b[22m\u001b[0m\u001b[1mo\u001b[22m\u001b[0m\u001b[1mr\u001b[22m\u001b[0m\u001b[1mm\u001b[22m\u001b[0m\u001b[1ma\u001b[22m\u001b[0m\u001b[1ml\u001b[22mCanon \u001b[0m\u001b[1mn\u001b[22m\u001b[0m\u001b[1mo\u001b[22m\u001b[0m\u001b[1mr\u001b[22m\u001b[0m\u001b[1mm\u001b[22m\u001b[0m\u001b[1ma\u001b[22m\u001b[0m\u001b[1ml\u001b[22mize! \u001b[0m\u001b[1mN\u001b[22m\u001b[0m\u001b[1mo\u001b[22m\u001b[0m\u001b[1mr\u001b[22m\u001b[0m\u001b[1mm\u001b[22m\u001b[0m\u001b[1ma\u001b[22m\u001b[0m\u001b[1ml\u001b[22mInverseGaussian Mv\u001b[0m\u001b[1mN\u001b[22m\u001b[0m\u001b[1mo\u001b[22m\u001b[0m\u001b[1mr\u001b[22m\u001b[0m\u001b[1mm\u001b[22m\u001b[0m\u001b[1ma\u001b[22m\u001b[0m\u001b[1ml\u001b[22m\n",
      "\n"
     ]
    },
    {
     "data": {
      "text/latex": [
       "\\begin{verbatim}\n",
       "Normal(μ,σ)\n",
       "\\end{verbatim}\n",
       "The \\emph{Normal distribution} with mean \\texttt{μ} and standard deviation \\texttt{σ≥0} has probability density function\n",
       "\n",
       "$$f(x; \\mu, \\sigma) = \\frac{1}{\\sqrt{2 \\pi \\sigma^2}}\n",
       "\\exp \\left( - \\frac{(x - \\mu)^2}{2 \\sigma^2} \\right)$$\n",
       "Note that if \\texttt{σ == 0}, then the distribution is a point mass concentrated at \\texttt{μ}. Though not technically a continuous distribution, it is allowed so as to account for cases where \\texttt{σ} may have underflowed, and the functions are defined by taking the pointwise limit as $σ → 0$.\n",
       "\n",
       "\\begin{verbatim}\n",
       "Normal()          # standard Normal distribution with zero mean and unit variance\n",
       "Normal(mu)        # Normal distribution with mean mu and unit variance\n",
       "Normal(mu, sig)   # Normal distribution with mean mu and variance sig^2\n",
       "\n",
       "params(d)         # Get the parameters, i.e. (mu, sig)\n",
       "mean(d)           # Get the mean, i.e. mu\n",
       "std(d)            # Get the standard deviation, i.e. sig\n",
       "\\end{verbatim}\n",
       "External links\n",
       "\n",
       "\\begin{itemize}\n",
       "\\item \\href{http://en.wikipedia.org/wiki/Normal_distribution}{Normal distribution on Wikipedia}\n",
       "\n",
       "\\end{itemize}\n"
      ],
      "text/markdown": [
       "```\n",
       "Normal(μ,σ)\n",
       "```\n",
       "\n",
       "The *Normal distribution* with mean `μ` and standard deviation `σ≥0` has probability density function\n",
       "\n",
       "$$\n",
       "f(x; \\mu, \\sigma) = \\frac{1}{\\sqrt{2 \\pi \\sigma^2}}\n",
       "\\exp \\left( - \\frac{(x - \\mu)^2}{2 \\sigma^2} \\right)\n",
       "$$\n",
       "\n",
       "Note that if `σ == 0`, then the distribution is a point mass concentrated at `μ`. Though not technically a continuous distribution, it is allowed so as to account for cases where `σ` may have underflowed, and the functions are defined by taking the pointwise limit as $σ → 0$.\n",
       "\n",
       "```julia\n",
       "Normal()          # standard Normal distribution with zero mean and unit variance\n",
       "Normal(mu)        # Normal distribution with mean mu and unit variance\n",
       "Normal(mu, sig)   # Normal distribution with mean mu and variance sig^2\n",
       "\n",
       "params(d)         # Get the parameters, i.e. (mu, sig)\n",
       "mean(d)           # Get the mean, i.e. mu\n",
       "std(d)            # Get the standard deviation, i.e. sig\n",
       "```\n",
       "\n",
       "External links\n",
       "\n",
       "  * [Normal distribution on Wikipedia](http://en.wikipedia.org/wiki/Normal_distribution)\n"
      ],
      "text/plain": [
       "\u001b[36m  Normal(μ,σ)\u001b[39m\n",
       "\n",
       "  The \u001b[4mNormal distribution\u001b[24m with mean \u001b[36mμ\u001b[39m and standard deviation \u001b[36mσ≥0\u001b[39m has\n",
       "  probability density function\n",
       "\n",
       "\u001b[35mf(x; \\mu, \\sigma) = \\frac{1}{\\sqrt{2 \\pi \\sigma^2}}\u001b[39m\n",
       "\u001b[35m\\exp \\left( - \\frac{(x - \\mu)^2}{2 \\sigma^2} \\right)\u001b[39m\n",
       "\n",
       "  Note that if \u001b[36mσ == 0\u001b[39m, then the distribution is a point mass concentrated at\n",
       "  \u001b[36mμ\u001b[39m. Though not technically a continuous distribution, it is allowed so as to\n",
       "  account for cases where \u001b[36mσ\u001b[39m may have underflowed, and the functions are\n",
       "  defined by taking the pointwise limit as \u001b[35mσ → 0\u001b[39m.\n",
       "\n",
       "\u001b[36m  Normal()          # standard Normal distribution with zero mean and unit variance\u001b[39m\n",
       "\u001b[36m  Normal(mu)        # Normal distribution with mean mu and unit variance\u001b[39m\n",
       "\u001b[36m  Normal(mu, sig)   # Normal distribution with mean mu and variance sig^2\u001b[39m\n",
       "\u001b[36m  \u001b[39m\n",
       "\u001b[36m  params(d)         # Get the parameters, i.e. (mu, sig)\u001b[39m\n",
       "\u001b[36m  mean(d)           # Get the mean, i.e. mu\u001b[39m\n",
       "\u001b[36m  std(d)            # Get the standard deviation, i.e. sig\u001b[39m\n",
       "\n",
       "  External links\n",
       "\n",
       "    •    Normal distribution on Wikipedia\n",
       "        (http://en.wikipedia.org/wiki/Normal_distribution)"
      ]
     },
     "execution_count": 328,
     "metadata": {},
     "output_type": "execute_result"
    }
   ],
   "source": [
    "?Normal"
   ]
  },
  {
   "cell_type": "code",
   "execution_count": 326,
   "metadata": {},
   "outputs": [
    {
     "data": {
      "text/plain": [
       "500"
      ]
     },
     "execution_count": 326,
     "metadata": {},
     "output_type": "execute_result"
    }
   ],
   "source": [
    "N = 500"
   ]
  },
  {
   "cell_type": "code",
   "execution_count": 334,
   "metadata": {},
   "outputs": [
    {
     "data": {
      "text/plain": [
       "500-element Array{Float64,1}:\n",
       " -18.86123020360472 \n",
       " -85.00523572798811 \n",
       " -58.5712240381614  \n",
       " -98.14472504882997 \n",
       " -57.243962804143365\n",
       " -65.29728353961815 \n",
       " -49.099344070252144\n",
       " -54.91198218637205 \n",
       " -31.112422254077547\n",
       " -45.657426772777896\n",
       " -84.31523176946547 \n",
       " -58.08743429698012 \n",
       " -85.85636483435127 \n",
       "   ⋮                \n",
       " -19.239866560360916\n",
       " -59.472779601246664\n",
       " -47.64445498239375 \n",
       " -56.46316388248739 \n",
       " -89.1107677637807  \n",
       " -51.719997479048466\n",
       " -38.95756407697915 \n",
       " -24.511297609672184\n",
       " -42.13421796740033 \n",
       " -76.88412467620583 \n",
       " -56.4426387007721  \n",
       " -29.392999118812902"
      ]
     },
     "execution_count": 334,
     "metadata": {},
     "output_type": "execute_result"
    }
   ],
   "source": [
    "ρ_x = rand(Gamma(.2, .2))\n",
    "ρ_y = rand(Gamma(2, 2))\n",
    "mu_x = rand(Normal(m_mu, sqrt((λ_mu*ρ_x)^(-1))))\n",
    "x = rand(Normal(mu_x, sqrt(ρ_x^(-1))), N)"
   ]
  },
  {
   "cell_type": "code",
   "execution_count": 335,
   "metadata": {},
   "outputs": [
    {
     "ename": "MethodError",
     "evalue": "MethodError: no method matching Normal(::Array{Float64,2}, ::Array{Float64,2})",
     "output_type": "error",
     "traceback": [
      "MethodError: no method matching Normal(::Array{Float64,2}, ::Array{Float64,2})",
      "",
      "Stacktrace:",
      " [1] top-level scope at In[335]:1"
     ]
    }
   ],
   "source": [
    "w = rand(Normal(m_w, inv(ρ_y.*Λ_w)))"
   ]
  },
  {
   "cell_type": "code",
   "execution_count": null,
   "metadata": {},
   "outputs": [],
   "source": []
  }
 ],
 "metadata": {
  "kernelspec": {
   "display_name": "Julia 1.0.1",
   "language": "julia",
   "name": "julia-1.0"
  },
  "language_info": {
   "file_extension": ".jl",
   "mimetype": "application/julia",
   "name": "julia",
   "version": "1.0.1"
  }
 },
 "nbformat": 4,
 "nbformat_minor": 2
}
