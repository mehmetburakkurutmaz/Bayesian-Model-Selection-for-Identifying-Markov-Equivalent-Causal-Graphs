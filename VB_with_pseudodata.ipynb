{
 "cells": [
  {
   "cell_type": "markdown",
   "metadata": {},
   "source": [
    "# Variational Bayes with Pseudodata Prior"
   ]
  },
  {
   "cell_type": "code",
   "execution_count": 1,
   "metadata": {},
   "outputs": [],
   "source": [
    "using Statistics, Distributions\n",
    "using SpecialFunctions, LinearAlgebra\n",
    "import Base.Iterators: product\n",
    "import Clustering: kmeans"
   ]
  },
  {
   "cell_type": "code",
   "execution_count": 2,
   "metadata": {},
   "outputs": [],
   "source": [
    "include(\"./src/Misc.jl\")\n",
    "using .Misc"
   ]
  },
  {
   "cell_type": "code",
   "execution_count": 3,
   "metadata": {},
   "outputs": [],
   "source": [
    "include(\"./src/BayesianCausality.jl\")\n",
    "import .BayesianCausality"
   ]
  },
  {
   "cell_type": "markdown",
   "metadata": {},
   "source": [
    "## Trying the new library functions"
   ]
  },
  {
   "cell_type": "code",
   "execution_count": 4,
   "metadata": {},
   "outputs": [],
   "source": [
    "R, M = 3, 2\n",
    "Tᵖ = Int((M+1)*M/2)\n",
    "λ₁ᵣ, λ₂ᵣ, γᵣ = 1., 1., 2.\n",
    "m₁ᵣ, m₂ᵣ = 0., 0.\n",
    "a₁ᵣ, a₂ᵣ = 1., 1.\n",
    "b₁ᵣ, b₂ᵣ = 1., 1.;"
   ]
  },
  {
   "cell_type": "code",
   "execution_count": 5,
   "metadata": {},
   "outputs": [],
   "source": [
    "X = (rand(20, 2) .- 0.5).*5;\n",
    "pseudodata_type = \"random\";"
   ]
  },
  {
   "cell_type": "code",
   "execution_count": 8,
   "metadata": {},
   "outputs": [
    {
     "ename": "String",
     "evalue": "\"M has to be larger than 1\"",
     "output_type": "error",
     "traceback": [
      "\"M has to be larger than 1\"",
      "",
      "Stacktrace:",
      " [1] #vb_causal_likelihoods#38(::Int64, ::Int64, ::Dict{Any,Any}, ::Bool, ::String, ::Bool, ::Function, ::Array{Float64,1}, ::Array{Float64,1}, ::Int64) at /home/melih/Desktop/projects/phd/repos/aistats_causality/src/BayesianCausality.jl:732",
      " [2] (::getfield(Main.BayesianCausality, Symbol(\"#kw##vb_causal_likelihoods\")))(::NamedTuple{(:M, :EPOCHS, :parameters_pair, :norm, :pseudodata_type, :m_zero),Tuple{Int64,Int64,Dict{Any,Any},Bool,String,Bool}}, ::typeof(Main.BayesianCausality.vb_causal_likelihoods), ::Array{Float64,1}, ::Array{Float64,1}, ::Int64) at ./none:0",
      " [3] top-level scope at In[8]:1"
     ]
    }
   ],
   "source": [
    "BayesianCausality.vb_causal_likelihoods(X[1:end,1],X[1:end,2],R; M=1, EPOCHS=200, parameters_pair=Dict(), \n",
    "    norm=true, pseudodata_type=\"random\", m_zero=true)"
   ]
  },
  {
   "cell_type": "code",
   "execution_count": 8,
   "metadata": {},
   "outputs": [
    {
     "ename": "UndefVarError",
     "evalue": "UndefVarError: pseudata_type not defined",
     "output_type": "error",
     "traceback": [
      "UndefVarError: pseudata_type not defined",
      "",
      "Stacktrace:",
      " [1] #get_pseudodata#37(::String, ::Function, ::Array{Float64,2}, ::Int64, ::Int64) at /home/melih/Desktop/projects/phd/repos/aistats_causality/src/BayesianCausality.jl:714",
      " [2] (::getfield(Main.BayesianCausality, Symbol(\"#kw##get_pseudodata\")))(::NamedTuple{(:pseudodata_type,),Tuple{String}}, ::typeof(Main.BayesianCausality.get_pseudodata), ::Array{Float64,2}, ::Int64, ::Int64) at ./none:0",
      " [3] top-level scope at In[8]:1"
     ]
    }
   ],
   "source": [
    "X_p = BayesianCausality.get_pseudodata(X, R, M; pseudodata_type=pseudodata_type)"
   ]
  },
  {
   "cell_type": "code",
   "execution_count": 11,
   "metadata": {},
   "outputs": [
    {
     "name": "stdout",
     "output_type": "stream",
     "text": [
      "3\n",
      "1\n"
     ]
    },
    {
     "data": {
      "text/plain": [
       "Dict{Symbol,Array{Float64,N} where N} with 9 entries:\n",
       "  :γ  => [3.0, 3.0, 3.0]\n",
       "  :Λ₁ => [3.0, 3.0, 3.0]\n",
       "  :Λ₂ => [3.0; 3.0; 3.0]\n",
       "  :b₁ => [0.0, 0.0, 0.0]\n",
       "  :a₁ => [1.5, 1.5, 1.5]\n",
       "  :a₂ => [1.5, 1.5, 1.5]\n",
       "  :m₂ => [1.0; 1.0; 1.0]\n",
       "  :b₂ => [0.0, 0.0, 0.0]\n",
       "  :m₁ => [0.0, 0.0, 0.0]"
      ]
     },
     "execution_count": 11,
     "metadata": {},
     "output_type": "execute_result"
    }
   ],
   "source": [
    "X_p = BayesianCausality.get_pseudodata(X, R, M; pseudodata_type=pseudodata_type)\n",
    "X_p[:,:,2] .= 1.\n",
    "BayesianCausality.make_param(X_p, 1)"
   ]
  },
  {
   "cell_type": "markdown",
   "metadata": {},
   "source": [
    "## Functions"
   ]
  },
  {
   "cell_type": "code",
   "execution_count": 16,
   "metadata": {},
   "outputs": [
    {
     "data": {
      "text/plain": [
       "v_bayes_pseudodata (generic function with 2 methods)"
      ]
     },
     "execution_count": 16,
     "metadata": {},
     "output_type": "execute_result"
    }
   ],
   "source": [
    "mutable struct Particle{ℜ <: Real}\n",
    "    r::Array{Int,1}\n",
    "    Σ_R::Array{ℜ,1}\n",
    "    Σ_X₁::Array{ℜ,1}\n",
    "    Σ_X₁²::Array{ℜ,1}\n",
    "    Σ_X₂²::Array{ℜ,1}\n",
    "    Σ_X₂ϕ::Array{ℜ,2}\n",
    "    Σ_ϕϕᵀ::Array{ℜ,3}\n",
    "    log_πₜ::ℜ\n",
    "    \n",
    "    function Particle(X::Array{ℜ,2}, R::Int; M::Int=1) where {ℜ <: Real}\n",
    "        T, N = size(X)\n",
    "        return new{ℜ}(zeros(Int,T), zeros(ℜ,R), zeros(ℜ,R), zeros(ℜ,R),\n",
    "                      zeros(ℜ,R), zeros(ℜ,R,M), zeros(ℜ,R,M,M), 0.0)\n",
    "    end\n",
    "    \n",
    "    function Particle(r::Array{Int,1}, Σ_R::Array{Int,1}, Σ_X₁::Array{ℜ,1}, Σ_X₁²::Array{ℜ,1},\n",
    "                      Σ_X₂²::Array{ℜ,1}, Σ_X₂ϕ::Array{ℜ,2}, Σ_ϕϕᵀ::Array{ℜ,3}, log_πₜ::ℜ) where {ℜ <: Real}\n",
    "        return new{ℜ}(copy(r), copy(Σ_R), copy(Σ_X₁), copy(Σ_X₁²),\n",
    "                      copy(Σ_X₂²), copy(Σ_X₂ϕ), copy(Σ_ϕϕᵀ), log_πₜ)\n",
    "    end\n",
    "    \n",
    "    function Particle(p::Particle{ℜ}) where {ℜ <: Real}\n",
    "        return new{ℜ}(copy(p.r), copy(p.Σ_R), copy(p.Σ_X₁), copy(p.Σ_X₁²),\n",
    "                      copy(p.Σ_X₂²), copy(p.Σ_X₂ϕ), copy(p.Σ_ϕϕᵀ), p.log_πₜ)\n",
    "    end \n",
    "end\n",
    "\n",
    "function conduct_vb(X::Array{ℜ,2}, R::Int, M::Int, Xᵖ::Array{ℜ,3}; EPOCHS::Int) where {ℜ <: Real}\n",
    "    params_new = make_param(Xᵖ::Array{ℜ,3},M::Int)\n",
    "    return v_bayes_pseudodata(X, R; M=M, EPOCHS=EPOCHS, params_new...)\n",
    "end\n",
    "\n",
    "function conduct_vb(X::Array{ℜ,2}, R::Int, M::Int; γᵣ, m₁ᵣ, m₂ᵣ, \n",
    "        λ₁ᵣ, λ₂ᵣ, a₁ᵣ, a₂ᵣ, b₁ᵣ, b₂ᵣ, EPOCHS) where {ℜ <: Real}\n",
    "    params_original = make_param(R, M; γᵣ=γᵣ, m₁ᵣ=m₁ᵣ, m₂ᵣ=m₂ᵣ, λ₁ᵣ=λ₁ᵣ, λ₂ᵣ=λ₂ᵣ,\n",
    "        a₁ᵣ=a₁ᵣ, a₂ᵣ=a₂ᵣ, b₁ᵣ=b₁ᵣ, b₂ᵣ=b₂ᵣ)\n",
    "    return BayesianCausality.v_bayes(X, R; M=M, EPOCHS=EPOCHS, params_original...)\n",
    "end\n",
    "\n",
    "function make_param(Xᵖ::Array{ℜ,3},M::Int) where {ℜ <: Real}\n",
    "    R, T = size(Xᵖ)[1:end-1]\n",
    "    #if T != Int((M+1)*M/2)\n",
    "    #    throw(\"Prior data size not correct\")\n",
    "    #end\n",
    "    X = reshape(Xᵖ,:,2)\n",
    "    p = Particle(X, R; M=M)\n",
    "    ϕ = zeros(M)\n",
    "    \n",
    "    for r ∈ 1:R, t ∈ 1:T\n",
    "        x₁, x₂ = Xᵖ[r,t,:]\n",
    "        ϕ .= x₁.^(0:M-1)\n",
    "        p.Σ_R[r] += 1.0\n",
    "        p.Σ_X₁[r] += x₁\n",
    "        p.Σ_X₁²[r] += x₁*x₁\n",
    "        p.Σ_X₂²[r] += x₂*x₂\n",
    "        p.Σ_X₂ϕ[r,:] .+= x₂*ϕ\n",
    "        p.Σ_ϕϕᵀ[r,:,:] .+= ϕ*ϕ'\n",
    "    end\n",
    "    \n",
    "    γ = zeros(R)\n",
    "    Λ₁, m₁ = zeros(R), zeros(R)\n",
    "    a₁, b₁ = zeros(R), zeros(R)\n",
    "    Λ₂, m₂ = zeros(R,M,M), zeros(R,M) \n",
    "    a₂, b₂ = zeros(R), zeros(R)\n",
    "    \n",
    "    for r ∈ 1:R\n",
    "        γ[r] = p.Σ_R[r]\n",
    "        Λ₁[r] = p.Σ_R[r]\n",
    "        m₁[r] = p.Σ_X₁[r] / Λ₁[r]\n",
    "        a₁[r] = p.Σ_R[r]/2\n",
    "        b₁[r] = (p.Σ_X₁²[r] - Λ₁[r]*m₁[r]*m₁[r])/2\n",
    "        \n",
    "        Λ₂[r,:,:] .= p.Σ_ϕϕᵀ[r,:,:]\n",
    "        m₂[r,:] .= Λ₂[r,:,:] \\ p.Σ_X₂ϕ[r,:]\n",
    "        a₂[r] = p.Σ_R[r]/2\n",
    "        b₂[r] = (p.Σ_X₂²[r] - m₂[r,:]'*Λ₂[r,:,:]*m₂[r,:])/2\n",
    "    end\n",
    "    \n",
    "    param = Dict(:γ=>γ, :m₁=>m₁, :m₂=>m₂, :Λ₁=>Λ₁, \n",
    "    :Λ₂=>Λ₂, :a₁=>a₁, :a₂=>a₂, :b₁=>b₁, :b₂=>b₂);\n",
    "    \n",
    "    return param\n",
    "end\n",
    "\n",
    "function make_param(R::Int, M::Int; γᵣ, m₁ᵣ, m₂ᵣ, λ₁ᵣ, λ₂ᵣ, a₁ᵣ, a₂ᵣ, b₁ᵣ, b₂ᵣ)\n",
    "    return  Dict(:γ=>fill(γᵣ,R), :m₁=>zeros(R), :m₂=>zeros(R,M), :Λ₁=>fill(λ₁ᵣ,R), \n",
    "        :Λ₂=>zeros(R,M,M) .+ λ₂ᵣ*reshape(diagm(0 => ones(M)),1,M,M), :a₁=>fill(a₁ᵣ,R), \n",
    "        :a₂=>fill(a₂ᵣ,R), :b₁=>fill(b₁ᵣ,R), :b₂=>fill(b₂ᵣ,R));\n",
    "end\n",
    "\n",
    "function v_bayes_pseudodata(X::Array{ℜ,2}, R::Ƶ=1; M::Ƶ=1, γ::Array{ℜ,1}, m₁::Array{ℜ,1}, m₂::Array{ℜ,2},\n",
    "        Λ₁::Array{ℜ,1}, Λ₂::Array{ℜ,3}, a₁::Array{ℜ,1}, a₂::Array{ℜ,1}, \n",
    "        b₁::Array{ℜ,1}, b₂::Array{ℜ,1}, EPOCHS=1) where {ℜ<:Real, Ƶ<:Integer}\n",
    "    T, N = size(X)\n",
    "    ELBO = zeros(EPOCHS)\n",
    "    \n",
    "    p = Particle(X, R; M=M)\n",
    "    p.r .=  T < R ? [1:T...] : R > 1 ? kmeans(Array(X'),R).assignments : ones(Int,T)\n",
    "    X₁, X₂ = X[:,1], X[:,2]\n",
    "    \n",
    "    γʰ = zeros(R)\n",
    "    Λ₁ʰ, m₁ʰ = zeros(R), zeros(R)\n",
    "    a₁ʰ, b₁ʰ = zeros(R), zeros(R)\n",
    "    Λ₂ʰ, m₂ʰ = zeros(R,M,M), zeros(R,M) \n",
    "    a₂ʰ, b₂ʰ = zeros(R), zeros(R)\n",
    "    \n",
    "    ϕ, log_q, q = zeros(M), zeros(R), zeros(R)\n",
    "    ρ₁, log_ρ₁, ρ₂, log_ρ₂, log_θ = zeros(R), zeros(R), zeros(R), zeros(R), zeros(R)\n",
    "    \n",
    "    for (r, x₁, x₂) ∈ zip(p.r, X₁, X₂)\n",
    "        ϕ .= x₁.^(0:M-1)\n",
    "        p.Σ_R[r] += 1.0\n",
    "        p.Σ_X₁[r] += x₁\n",
    "        p.Σ_X₁²[r] += x₁*x₁\n",
    "        p.Σ_X₂²[r] += x₂*x₂\n",
    "        p.Σ_X₂ϕ[r,:] .+= x₂*ϕ\n",
    "        p.Σ_ϕϕᵀ[r,:,:] .+= ϕ*ϕ'\n",
    "    end\n",
    "    \n",
    "    for eph ∈ 1:EPOCHS\n",
    "        for r ∈ 1:R\n",
    "            γʰ[r] = γ[r] + p.Σ_R[r]\n",
    "            Λ₁ʰ[r] = Λ₁[r] + p.Σ_R[r]\n",
    "            m₁ʰ[r] = (Λ₁[r]*m₁[r] + p.Σ_X₁[r]) / Λ₁ʰ[r]\n",
    "            a₁ʰ[r] = a₁[r] + p.Σ_R[r]/2\n",
    "            b₁ʰ[r] = b₁[r] + (p.Σ_X₁²[r] - Λ₁ʰ[r]*m₁ʰ[r]*m₁ʰ[r] + Λ₁[r]*m₁[r]*m₁[r])/2\n",
    "        \n",
    "            Λ₂ʰ[r,:,:] .= Λ₂[r,:,:] .+ p.Σ_ϕϕᵀ[r,:,:]\n",
    "            m₂ʰ[r,:] .= Λ₂ʰ[r,:,:] \\ (Λ₂[r,:,:]*m₂[r,:] .+ p.Σ_X₂ϕ[r,:])\n",
    "            a₂ʰ[r] = a₂[r] + p.Σ_R[r]/2\n",
    "            b₂ʰ[r] = b₂[r] + (p.Σ_X₂²[r] - m₂ʰ[r,:]'*Λ₂ʰ[r,:,:]*m₂ʰ[r,:] + m₂[r,:]'*Λ₂[r,:,:]*m₂[r,:])/2\n",
    "            \n",
    "            log_ρ₁[r] = digamma(a₁ʰ[r]) - log(b₁ʰ[r])\n",
    "            ρ₁[r] = a₁ʰ[r]/b₁ʰ[r]\n",
    "            log_ρ₂[r] = digamma(a₂ʰ[r]) - log(b₂ʰ[r])\n",
    "            ρ₂[r] = a₂ʰ[r]/b₂ʰ[r]\n",
    "            log_θ[r] = digamma(γʰ[r]) - digamma(sum(γ)+T)\n",
    "            \n",
    "            ELBO[eph] += (γ[r]-γʰ[r])*log_θ[r]\n",
    "            \n",
    "            ELBO[eph] += a₁[r]*log(b₁[r]) - a₁ʰ[r]*log(b₁ʰ[r])\n",
    "            ELBO[eph] += lgamma(a₁ʰ[r]) - lgamma(a₁[r])\n",
    "            ELBO[eph] += (log(Λ₁[r]) - log(Λ₁ʰ[r]))/2\n",
    "            ELBO[eph] += (1 - Λ₁[r]/Λ₁ʰ[r])/2\n",
    "            ELBO[eph] += (a₁[r] - a₁ʰ[r])*log_ρ₁[r] - (b₁[r] - b₁ʰ[r])*ρ₁[r]\n",
    "            ELBO[eph] -= (ρ₁[r]*Λ₁[r]*(m₁ʰ[r] - m₁[r])^2)/2\n",
    "                \n",
    "            ELBO[eph] += a₂[r]*log(b₂[r]) - a₂ʰ[r]*log(b₂ʰ[r])\n",
    "            ELBO[eph] += lgamma(a₂ʰ[r]) - lgamma(a₂[r])\n",
    "            ELBO[eph] += (logdet(Λ₂[r,:,:]) - logdet(Λ₂ʰ[r,:,:]))/2\n",
    "            ELBO[eph] += (M - tr(Λ₂ʰ[r,:,:] \\ Λ₂[r,:,:]))/2\n",
    "            ELBO[eph] += (a₂[r] - a₂ʰ[r])*log_ρ₂[r] - (b₂[r] - b₂ʰ[r])*ρ₂[r]\n",
    "            ELBO[eph] -= ρ₂[r]*((m₂ʰ[r,:] - m₂[r,:])'*Λ₂[r,:,:]*(m₂ʰ[r,:] - m₂[r,:]))/2\n",
    "        end\n",
    "        \n",
    "        ELBO[eph] += lgamma(sum(γ)) - sum(lgamma,γ)\n",
    "        ELBO[eph] -= lgamma(sum(γ)+T) - sum(lgamma,γʰ)\n",
    "        \n",
    "        p.Σ_R .= 0.0\n",
    "        p.Σ_X₁ .= 0.0\n",
    "        p.Σ_X₁² .= 0.0\n",
    "        p.Σ_X₂² .= 0.0\n",
    "        p.Σ_X₂ϕ .= 0.0\n",
    "        p.Σ_ϕϕᵀ .= 0.0\n",
    "        \n",
    "        for (t,(x₁, x₂)) ∈ enumerate(zip(X₁, X₂))\n",
    "            ϕ .= x₁.^(0:M-1)\n",
    "            for r ∈ 1:R\n",
    "                log_q[r] = log_θ[r] \n",
    "                log_q[r] += (log_ρ₁[r] - ρ₁[r]*(x₁ - m₁ʰ[r])^2 - 1.0 / Λ₁ʰ[r])/2\n",
    "                log_q[r] += (log_ρ₂[r] - ρ₂[r]*(x₂ - ϕ'*m₂ʰ[r,:])^2 - ϕ'* (Λ₂ʰ[r,:,:] \\ ϕ))/2\n",
    "            end\n",
    "            \n",
    "            log_q .-= logsumexp(log_q)\n",
    "            q .= exp.(log_q)\n",
    "            \n",
    "            for r ∈ 1:R                \n",
    "                p.Σ_R[r] += q[r]\n",
    "                p.Σ_X₁[r] += q[r]*x₁\n",
    "                p.Σ_X₁²[r] += q[r]*x₁*x₁\n",
    "                p.Σ_X₂²[r] += q[r]*x₂*x₂\n",
    "                p.Σ_X₂ϕ[r,:] .+= q[r]*x₂*ϕ\n",
    "                p.Σ_ϕϕᵀ[r,:,:] .+= q[r]*ϕ*ϕ'\n",
    "                \n",
    "                ELBO[eph] += q[r]*(log_θ[r] - log_q[r])\n",
    "                ELBO[eph] += q[r]*(log_ρ₁[r] - ρ₁[r]*(x₁ - m₁ʰ[r])^2 - 1.0 / Λ₁ʰ[r])/2\n",
    "                ELBO[eph] += q[r]*(log_ρ₂[r] - ρ₂[r]*(x₂ - ϕ'*m₂ʰ[r,:])^2 - ϕ'* (Λ₂ʰ[r,:,:] \\ ϕ))/2\n",
    "            end\n",
    "            _, p.r[t] = findmax(log_q)\n",
    "        end\n",
    "                \n",
    "        ELBO[eph] -= T*log(2π)\n",
    "        if eph > 1 && ELBO[eph] - ELBO[eph-1] < 1e-6\n",
    "            ELBO = ELBO[1:eph]\n",
    "            break\n",
    "        end\n",
    "    end\n",
    "    return ELBO, p.r\n",
    "end\n"
   ]
  },
  {
   "cell_type": "markdown",
   "metadata": {},
   "source": [
    "### Code for reversing the prior data"
   ]
  },
  {
   "cell_type": "code",
   "execution_count": null,
   "metadata": {},
   "outputs": [],
   "source": [
    "Xᵖ[:,:,1], Xᵖ[:,:,2] = Xᵖ[:,:,2], Xᵖ[:,:,1] ;"
   ]
  },
  {
   "cell_type": "markdown",
   "metadata": {},
   "source": [
    "## Checking the new function"
   ]
  },
  {
   "cell_type": "code",
   "execution_count": 12,
   "metadata": {},
   "outputs": [],
   "source": [
    "mutable struct Particle{ℜ <: Real}\n",
    "    r::Array{Int,1}\n",
    "    Σ_R::Array{ℜ,1}\n",
    "    Σ_X₁::Array{ℜ,1}\n",
    "    Σ_X₁²::Array{ℜ,1}\n",
    "    Σ_X₂²::Array{ℜ,1}\n",
    "    Σ_X₂ϕ::Array{ℜ,2}\n",
    "    Σ_ϕϕᵀ::Array{ℜ,3}\n",
    "    log_πₜ::ℜ\n",
    "    \n",
    "    function Particle(X::Array{ℜ,2}, R::Int; M::Int=1) where {ℜ <: Real}\n",
    "        T, N = size(X)\n",
    "        return new{ℜ}(zeros(Int,T), zeros(ℜ,R), zeros(ℜ,R), zeros(ℜ,R),\n",
    "                      zeros(ℜ,R), zeros(ℜ,R,M), zeros(ℜ,R,M,M), 0.0)\n",
    "    end\n",
    "    \n",
    "    function Particle(r::Array{Int,1}, Σ_R::Array{Int,1}, Σ_X₁::Array{ℜ,1}, Σ_X₁²::Array{ℜ,1},\n",
    "                      Σ_X₂²::Array{ℜ,1}, Σ_X₂ϕ::Array{ℜ,2}, Σ_ϕϕᵀ::Array{ℜ,3}, log_πₜ::ℜ) where {ℜ <: Real}\n",
    "        return new{ℜ}(copy(r), copy(Σ_R), copy(Σ_X₁), copy(Σ_X₁²),\n",
    "                      copy(Σ_X₂²), copy(Σ_X₂ϕ), copy(Σ_ϕϕᵀ), log_πₜ)\n",
    "    end\n",
    "    \n",
    "    function Particle(p::Particle{ℜ}) where {ℜ <: Real}\n",
    "        return new{ℜ}(copy(p.r), copy(p.Σ_R), copy(p.Σ_X₁), copy(p.Σ_X₁²),\n",
    "                      copy(p.Σ_X₂²), copy(p.Σ_X₂ϕ), copy(p.Σ_ϕϕᵀ), p.log_πₜ)\n",
    "    end \n",
    "end"
   ]
  },
  {
   "cell_type": "code",
   "execution_count": 13,
   "metadata": {},
   "outputs": [
    {
     "data": {
      "text/plain": [
       "make_param (generic function with 1 method)"
      ]
     },
     "execution_count": 13,
     "metadata": {},
     "output_type": "execute_result"
    }
   ],
   "source": [
    "function make_param(Xᵖ::Array{ℜ,3},M::Int) where {ℜ <: Real}\n",
    "    R, T = size(Xᵖ)[1:end-1]\n",
    "    #if T != Int((M+1)*M/2)\n",
    "    #    throw(\"Prior data size not correct\")\n",
    "    #end\n",
    "    X = reshape(Xᵖ,:,2)\n",
    "    p = Particle(X, R; M=M)\n",
    "    ϕ = zeros(M)\n",
    "    \n",
    "    for r ∈ 1:R, t ∈ 1:T\n",
    "        x₁, x₂ = Xᵖ[r,t,:]\n",
    "        ϕ .= x₁.^(0:M-1)\n",
    "        p.Σ_R[r] += 1.0\n",
    "        p.Σ_X₁[r] += x₁\n",
    "        p.Σ_X₁²[r] += x₁*x₁\n",
    "        p.Σ_X₂²[r] += x₂*x₂\n",
    "        p.Σ_X₂ϕ[r,:] .+= x₂*ϕ\n",
    "        p.Σ_ϕϕᵀ[r,:,:] .+= ϕ*ϕ'\n",
    "    end\n",
    "    \n",
    "    γ = zeros(R)\n",
    "    Λ₁, m₁ = zeros(R), zeros(R)\n",
    "    a₁, b₁ = zeros(R), zeros(R)\n",
    "    Λ₂, m₂ = zeros(R,M,M), zeros(R,M) \n",
    "    a₂, b₂ = zeros(R), zeros(R)\n",
    "    \n",
    "    for r ∈ 1:R\n",
    "        γ[r] = p.Σ_R[r]\n",
    "        Λ₁[r] = p.Σ_R[r]\n",
    "        m₁[r] = p.Σ_X₁[r] / Λ₁[r]\n",
    "        a₁[r] = p.Σ_R[r]/2\n",
    "        b₁[r] = (p.Σ_X₁²[r] - Λ₁[r]*m₁[r]*m₁[r])/2\n",
    "        \n",
    "        Λ₂[r,:,:] .= p.Σ_ϕϕᵀ[r,:,:]\n",
    "        m₂[r,:] .= Λ₂[r,:,:] \\ p.Σ_X₂ϕ[r,:]\n",
    "        a₂[r] = p.Σ_R[r]/2\n",
    "        b₂[r] = (p.Σ_X₂²[r] - m₂[r,:]'*Λ₂[r,:,:]*m₂[r,:])/2\n",
    "    end\n",
    "    \n",
    "    param = Dict(:γ=>γ, :m₁=>m₁, :m₂=>m₂, :Λ₁=>Λ₁, \n",
    "    :Λ₂=>Λ₂, :a₁=>a₁, :a₂=>a₂, :b₁=>b₁, :b₂=>b₂);\n",
    "    \n",
    "    return param\n",
    "end"
   ]
  },
  {
   "cell_type": "code",
   "execution_count": 18,
   "metadata": {},
   "outputs": [
    {
     "data": {
      "text/plain": [
       "(1.0, 1.0)"
      ]
     },
     "execution_count": 18,
     "metadata": {},
     "output_type": "execute_result"
    }
   ],
   "source": [
    "R, M = 3, 2\n",
    "Tᵖ = M+1 #Int((M+1)*M/2)\n",
    "λ₁ᵣ, λ₂ᵣ, γᵣ = 1., 1., 2.\n",
    "m₁ᵣ, m₂ᵣ = 0., 0.\n",
    "a₁ᵣ, a₂ᵣ = 1., 1.\n",
    "b₁ᵣ, b₂ᵣ = 1., 1."
   ]
  },
  {
   "cell_type": "code",
   "execution_count": 42,
   "metadata": {},
   "outputs": [
    {
     "data": {
      "text/plain": [
       "Dict{Symbol,Array{Float64,N} where N} with 9 entries:\n",
       "  :γ  => [3.0, 3.0, 3.0]\n",
       "  :Λ₁ => [3.0, 3.0, 3.0]\n",
       "  :Λ₂ => [3.0 0.846391; 3.0 -1.73993; 3.0 -2.43564]…\n",
       "  :b₁ => [0.291044, 1.00238, 1.09566]\n",
       "  :a₁ => [1.5, 1.5, 1.5]\n",
       "  :a₂ => [1.5, 1.5, 1.5]\n",
       "  :m₂ => [1.30799 -2.97798; -0.369561 -1.93417; -0.379905 -0.72403]\n",
       "  :b₂ => [0.399773, 0.0106267, 0.47021]\n",
       "  :m₁ => [0.28213, -0.579976, -0.811881]"
      ]
     },
     "execution_count": 42,
     "metadata": {},
     "output_type": "execute_result"
    }
   ],
   "source": [
    "Xᵖ = randn(R,Tᵖ,2);\n",
    "\n",
    "make_param(Xᵖ,M)"
   ]
  },
  {
   "cell_type": "code",
   "execution_count": null,
   "metadata": {},
   "outputs": [],
   "source": [
    "param_original = Dict(:γ=>γᵣ, :m₁=>m₁ᵣ, :m₂=>m₂ᵣ, :λ₁=>λ₁ᵣ, \n",
    "    :λ₂=>λ₂ᵣ, :a₁=>a₁ᵣ, :a₂=>a₂ᵣ, :b₁=>b₁ᵣ, :b₂=>b₂ᵣ)\n",
    "\n",
    "param_new = Dict(:γ=>fill(γᵣ,R), :m₁=>zeros(R), :m₂=>zeros(R,M), :Λ₁=>fill(λ₁ᵣ,R), \n",
    "    :Λ₂=>zeros(R,M,M) .+ λ₂ᵣ*reshape(diagm(0 => ones(M)),1,M,M), :a₁=>fill(a₁ᵣ,R), \n",
    "    :a₂=>fill(a₂ᵣ,R), :b₁=>fill(b₁ᵣ,R), :b₂=>fill(b₂ᵣ,R));"
   ]
  },
  {
   "cell_type": "code",
   "execution_count": null,
   "metadata": {},
   "outputs": [],
   "source": [
    "#using Base.Random\n",
    "X = (rand(20, 2) .- 0.5).*5;"
   ]
  },
  {
   "cell_type": "code",
   "execution_count": null,
   "metadata": {},
   "outputs": [],
   "source": []
  },
  {
   "cell_type": "code",
   "execution_count": null,
   "metadata": {},
   "outputs": [],
   "source": [
    "using Random\n",
    "Random.seed!(100);"
   ]
  },
  {
   "cell_type": "code",
   "execution_count": null,
   "metadata": {},
   "outputs": [],
   "source": [
    "v_bayes(X, R; M=M, param_new...,EPOCHS=100)"
   ]
  },
  {
   "cell_type": "code",
   "execution_count": null,
   "metadata": {},
   "outputs": [],
   "source": [
    "v_bayes(X, R; M=M, make_param(Xᵖ,M)...,EPOCHS=100)"
   ]
  },
  {
   "cell_type": "code",
   "execution_count": null,
   "metadata": {},
   "outputs": [],
   "source": [
    "Random.seed!(100);"
   ]
  },
  {
   "cell_type": "code",
   "execution_count": null,
   "metadata": {},
   "outputs": [],
   "source": [
    "BayesianCausality.v_bayes(X, R; M=M, param_original...,EPOCHS=100)"
   ]
  },
  {
   "cell_type": "code",
   "execution_count": 9,
   "metadata": {},
   "outputs": [],
   "source": [
    "using Pkg"
   ]
  },
  {
   "cell_type": "code",
   "execution_count": 10,
   "metadata": {},
   "outputs": [
    {
     "name": "stdout",
     "output_type": "stream",
     "text": [
      "\u001b[32m\u001b[1m  Updating\u001b[22m\u001b[39m registry at `~/.julia/registries/General`\n",
      "\u001b[32m\u001b[1m  Updating\u001b[22m\u001b[39m git-repo `https://github.com/JuliaRegistries/General.git`\n",
      "\u001b[2K\u001b[?25h[1mFetching:\u001b[22m\u001b[39m [========================================>]  100.0 %.0 %========>                                ]  18.0 %35.8 % [=================>                       ]  40.1 %57.9 %>      ]  82.7 %\u001b[32m\u001b[1m Resolving\u001b[22m\u001b[39m package versions...\n",
      "\u001b[32m\u001b[1m Installed\u001b[22m\u001b[39m DataAPI ────────── v1.1.0\n",
      "\u001b[32m\u001b[1m Installed\u001b[22m\u001b[39m Blosc ──────────── v0.5.1\n",
      "\u001b[32m\u001b[1m Installed\u001b[22m\u001b[39m ScikitLearnBase ── v0.5.0\n",
      "\u001b[32m\u001b[1m Installed\u001b[22m\u001b[39m JLD ────────────── v0.9.1\n",
      "\u001b[32m\u001b[1m Installed\u001b[22m\u001b[39m GaussianMixtures ─ v0.3.0\n",
      "\u001b[32m\u001b[1m Installed\u001b[22m\u001b[39m HDF5 ───────────── v0.12.4\n",
      "\u001b[32m\u001b[1m Installed\u001b[22m\u001b[39m FileIO ─────────── v1.0.7\n",
      "\u001b[32m\u001b[1m Installed\u001b[22m\u001b[39m CMakeWrapper ───── v0.2.3\n",
      "\u001b[32m\u001b[1m Installed\u001b[22m\u001b[39m CMake ──────────── v1.1.2\n",
      "\u001b[32m\u001b[1m Installed\u001b[22m\u001b[39m Parameters ─────── v0.12.0\n",
      "\u001b[32m\u001b[1m Installed\u001b[22m\u001b[39m LegacyStrings ──── v0.4.1\n",
      "\u001b[32m\u001b[1m Installed\u001b[22m\u001b[39m Missings ───────── v0.4.3\n",
      "\u001b[32m\u001b[1m  Updating\u001b[22m\u001b[39m `~/.julia/environments/v1.0/Project.toml`\n",
      " \u001b[90m [cc18c42c]\u001b[39m\u001b[92m + GaussianMixtures v0.3.0\u001b[39m\n",
      "\u001b[32m\u001b[1m  Updating\u001b[22m\u001b[39m `~/.julia/environments/v1.0/Manifest.toml`\n",
      " \u001b[90m [a74b3585]\u001b[39m\u001b[92m + Blosc v0.5.1\u001b[39m\n",
      " \u001b[90m [631607c0]\u001b[39m\u001b[92m + CMake v1.1.2\u001b[39m\n",
      " \u001b[90m [d5fb7624]\u001b[39m\u001b[92m + CMakeWrapper v0.2.3\u001b[39m\n",
      " \u001b[90m [9a962f9c]\u001b[39m\u001b[93m ↑ DataAPI v1.0.1 ⇒ v1.1.0\u001b[39m\n",
      " \u001b[90m [5789e2e9]\u001b[39m\u001b[92m + FileIO v1.0.7\u001b[39m\n",
      " \u001b[90m [cc18c42c]\u001b[39m\u001b[92m + GaussianMixtures v0.3.0\u001b[39m\n",
      " \u001b[90m [f67ccb44]\u001b[39m\u001b[92m + HDF5 v0.12.4\u001b[39m\n",
      " \u001b[90m [4138dd39]\u001b[39m\u001b[92m + JLD v0.9.1\u001b[39m\n",
      " \u001b[90m [1b4a561d]\u001b[39m\u001b[92m + LegacyStrings v0.4.1\u001b[39m\n",
      " \u001b[90m [e1d29d7a]\u001b[39m\u001b[93m ↑ Missings v0.4.2 ⇒ v0.4.3\u001b[39m\n",
      " \u001b[90m [d96e819e]\u001b[39m\u001b[92m + Parameters v0.12.0\u001b[39m\n",
      " \u001b[90m [6e75b9c4]\u001b[39m\u001b[92m + ScikitLearnBase v0.5.0\u001b[39m\n",
      "\u001b[32m\u001b[1m  Building\u001b[22m\u001b[39m CMake → `~/.julia/packages/CMake/nSK2r/deps/build.log`\n",
      "\u001b[32m\u001b[1m  Building\u001b[22m\u001b[39m Blosc → `~/.julia/packages/Blosc/lzFr0/deps/build.log`\n",
      "\u001b[32m\u001b[1m  Building\u001b[22m\u001b[39m HDF5 ─→ `~/.julia/packages/HDF5/rF1Fe/deps/build.log`\n"
     ]
    }
   ],
   "source": [
    "Pkg.add(\"GaussianMixtures\")"
   ]
  },
  {
   "cell_type": "code",
   "execution_count": 11,
   "metadata": {},
   "outputs": [
    {
     "name": "stderr",
     "output_type": "stream",
     "text": [
      "┌ Info: Precompiling GaussianMixtures [cc18c42c-b769-54ff-9e2a-b28141a64aae]\n",
      "└ @ Base loading.jl:1192\n"
     ]
    }
   ],
   "source": [
    "using GaussianMixtures"
   ]
  },
  {
   "cell_type": "code",
   "execution_count": 30,
   "metadata": {},
   "outputs": [
    {
     "data": {
      "text/plain": [
       "200×2 Array{Float64,2}:\n",
       "  1.31636   -0.168588 \n",
       "  0.72205    0.570313 \n",
       " -0.515718   0.280166 \n",
       "  0.343045  -0.0624836\n",
       " -0.378063   0.903088 \n",
       "  0.242655   1.09123  \n",
       " -2.00935   -0.864192 \n",
       "  0.186061  -0.0631674\n",
       "  0.979084   0.530058 \n",
       " -0.704092   0.678778 \n",
       " -0.256162  -0.209686 \n",
       "  0.463475  -0.953381 \n",
       "  0.708883  -0.7628   \n",
       "  ⋮                   \n",
       "  4.31538    3.25244  \n",
       "  3.82664    3.24637  \n",
       "  3.52063    3.77244  \n",
       "  4.26628    4.08115  \n",
       "  2.7297     6.2803   \n",
       "  4.27932    4.4038   \n",
       "  3.80515    4.18755  \n",
       "  3.63458    3.53404  \n",
       "  4.62455    5.07443  \n",
       "  5.16587    3.07147  \n",
       "  2.49503    3.86513  \n",
       "  5.15258    1.76264  "
      ]
     },
     "execution_count": 30,
     "metadata": {},
     "output_type": "execute_result"
    }
   ],
   "source": [
    "X = [randn(100,2); randn(100,2) .+ 4]"
   ]
  },
  {
   "cell_type": "code",
   "execution_count": 31,
   "metadata": {},
   "outputs": [
    {
     "data": {
      "text/plain": [
       "GMM{Float64} with 2 components in 2 dimensions and full covariance\n",
       "Mix 1: weight 0.500000\n",
       " mean: [0.0, 0.0]\n",
       " covariance: 2×2 Array{Float64,2}:\n",
       " 1.0  0.0\n",
       " 0.0  1.0\n",
       "Mix 2: weight 0.500000\n",
       " mean: [0.0, 0.0]\n",
       " covariance: 2×2 Array{Float64,2}:\n",
       " 1.0  0.0\n",
       " 0.0  1.0\n"
      ]
     },
     "execution_count": 31,
     "metadata": {},
     "output_type": "execute_result"
    }
   ],
   "source": [
    "gmm = GMM(2, 2; kind=:full)"
   ]
  },
  {
   "cell_type": "code",
   "execution_count": 32,
   "metadata": {},
   "outputs": [
    {
     "name": "stderr",
     "output_type": "stream",
     "text": [
      "┌ Info: Running 10 iterations EM on full cov GMM with 2 Gaussians in 2 dimensions\n",
      "└ @ GaussianMixtures /home/melih/.julia/packages/GaussianMixtures/RGtTJ/src/train.jl:242\n",
      "┌ Info: iteration 1, average log likelihood -5.507782\n",
      "└ @ GaussianMixtures /home/melih/.julia/packages/GaussianMixtures/RGtTJ/src/gmms.jl:71\n",
      "┌ Info: iteration 2, average log likelihood -1.950772\n",
      "└ @ GaussianMixtures /home/melih/.julia/packages/GaussianMixtures/RGtTJ/src/gmms.jl:71\n",
      "┌ Info: iteration 3, average log likelihood -1.950772\n",
      "└ @ GaussianMixtures /home/melih/.julia/packages/GaussianMixtures/RGtTJ/src/gmms.jl:71\n",
      "┌ Info: iteration 4, average log likelihood -1.950772\n",
      "└ @ GaussianMixtures /home/melih/.julia/packages/GaussianMixtures/RGtTJ/src/gmms.jl:71\n",
      "┌ Info: iteration 5, average log likelihood -1.950772\n",
      "└ @ GaussianMixtures /home/melih/.julia/packages/GaussianMixtures/RGtTJ/src/gmms.jl:71\n",
      "┌ Info: iteration 6, average log likelihood -1.950772\n",
      "└ @ GaussianMixtures /home/melih/.julia/packages/GaussianMixtures/RGtTJ/src/gmms.jl:71\n",
      "┌ Info: iteration 7, average log likelihood -1.950772\n",
      "└ @ GaussianMixtures /home/melih/.julia/packages/GaussianMixtures/RGtTJ/src/gmms.jl:71\n",
      "┌ Info: iteration 8, average log likelihood -1.950772\n",
      "└ @ GaussianMixtures /home/melih/.julia/packages/GaussianMixtures/RGtTJ/src/gmms.jl:71\n",
      "┌ Info: iteration 9, average log likelihood -1.950772\n",
      "└ @ GaussianMixtures /home/melih/.julia/packages/GaussianMixtures/RGtTJ/src/gmms.jl:71\n",
      "┌ Info: iteration 10, average log likelihood -1.950772\n",
      "└ @ GaussianMixtures /home/melih/.julia/packages/GaussianMixtures/RGtTJ/src/gmms.jl:71\n",
      "┌ Info: EM with 200 data points 10 iterations avll -1.950772\n",
      "│ 18.2 data points per parameter\n",
      "└ @ GaussianMixtures /home/melih/.julia/packages/GaussianMixtures/RGtTJ/src/gmms.jl:71\n"
     ]
    },
    {
     "data": {
      "text/plain": [
       "10-element Array{Float64,1}:\n",
       " -5.507781653746094 \n",
       " -1.9507716333937153\n",
       " -1.9507716333937157\n",
       " -1.9507716333937157\n",
       " -1.9507716333937157\n",
       " -1.9507716333937157\n",
       " -1.9507716333937157\n",
       " -1.9507716333937157\n",
       " -1.9507716333937157\n",
       " -1.9507716333937157"
      ]
     },
     "execution_count": 32,
     "metadata": {},
     "output_type": "execute_result"
    }
   ],
   "source": [
    "em!(gmm, X; nIter= 10)"
   ]
  },
  {
   "cell_type": "code",
   "execution_count": 33,
   "metadata": {},
   "outputs": [
    {
     "data": {
      "text/plain": [
       "GMM{Float64} with 2 components in 2 dimensions and full covariance\n",
       "Mix 1: weight 0.500000\n",
       " mean: [2.01355, 2.09492]\n",
       " covariance: 2×2 Array{Float64,2}:\n",
       " 4.62819  4.00792\n",
       " 4.00792  5.28411\n",
       "Mix 2: weight 0.500000\n",
       " mean: [2.01355, 2.09492]\n",
       " covariance: 2×2 Array{Float64,2}:\n",
       " 4.62819  4.00792\n",
       " 4.00792  5.28411\n"
      ]
     },
     "execution_count": 33,
     "metadata": {},
     "output_type": "execute_result"
    }
   ],
   "source": [
    "gmm"
   ]
  },
  {
   "cell_type": "code",
   "execution_count": 25,
   "metadata": {},
   "outputs": [
    {
     "data": {
      "text/plain": [
       "100×2 Array{Float64,2}:\n",
       " 0.5  0.5\n",
       " 0.5  0.5\n",
       " 0.5  0.5\n",
       " 0.5  0.5\n",
       " 0.5  0.5\n",
       " 0.5  0.5\n",
       " 0.5  0.5\n",
       " 0.5  0.5\n",
       " 0.5  0.5\n",
       " 0.5  0.5\n",
       " 0.5  0.5\n",
       " 0.5  0.5\n",
       " 0.5  0.5\n",
       " ⋮       \n",
       " 0.5  0.5\n",
       " 0.5  0.5\n",
       " 0.5  0.5\n",
       " 0.5  0.5\n",
       " 0.5  0.5\n",
       " 0.5  0.5\n",
       " 0.5  0.5\n",
       " 0.5  0.5\n",
       " 0.5  0.5\n",
       " 0.5  0.5\n",
       " 0.5  0.5\n",
       " 0.5  0.5"
      ]
     },
     "execution_count": 25,
     "metadata": {},
     "output_type": "execute_result"
    }
   ],
   "source": [
    "gmmposterior(gmm, X)[1]"
   ]
  },
  {
   "cell_type": "code",
   "execution_count": 21,
   "metadata": {},
   "outputs": [
    {
     "data": {
      "text/plain": [
       "GMM{Float64} with 5 components in 2 dimensions and full covariance\n",
       "Mix 1: weight 0.200000\n",
       " mean: [0.0684869, 0.0138058]\n",
       " covariance: 2×2 Array{Float64,2}:\n",
       " 1.09085   0.210428\n",
       " 0.210428  1.11116 \n",
       "Mix 2: weight 0.200000\n",
       " mean: [0.0684869, 0.0138058]\n",
       " covariance: 2×2 Array{Float64,2}:\n",
       " 1.09085   0.210428\n",
       " 0.210428  1.11116 \n",
       "⋮\n",
       "Mix 4: weight 0.200000\n",
       " mean: [0.0684869, 0.0138058]\n",
       " covariance: 2×2 Array{Float64,2}:\n",
       " 1.09085   0.210428\n",
       " 0.210428  1.11116 \n",
       "Mix 5: weight 0.200000\n",
       " mean: [0.0684869, 0.0138058]\n",
       " covariance: 2×2 Array{Float64,2}:\n",
       " 1.09085   0.210428\n",
       " 0.210428  1.11116 \n"
      ]
     },
     "execution_count": 21,
     "metadata": {},
     "output_type": "execute_result"
    },
    {
     "name": "stdout",
     "output_type": "stream",
     "text": [
      "4 (1:2, 4:5)\n"
     ]
    }
   ],
   "source": [
    "gmm"
   ]
  },
  {
   "cell_type": "code",
   "execution_count": 34,
   "metadata": {},
   "outputs": [
    {
     "name": "stdout",
     "output_type": "stream",
     "text": [
      "\u001b[32m\u001b[1m Resolving\u001b[22m\u001b[39m package versions...\n"
     ]
    },
    {
     "ename": "Pkg.Types.ResolverError",
     "evalue": "Unsatisfiable requirements detected for package MixtureModels [6ab79980]:\n MixtureModels [6ab79980] log:\n ├─possible versions are: [0.1.0-0.1.1, 0.2.0] or uninstalled\n ├─restricted to versions * by an explicit requirement, leaving only versions [0.1.0-0.1.1, 0.2.0]\n └─restricted by julia compatibility requirements to versions: uninstalled — no versions left",
     "output_type": "error",
     "traceback": [
      "Unsatisfiable requirements detected for package MixtureModels [6ab79980]:\n MixtureModels [6ab79980] log:\n ├─possible versions are: [0.1.0-0.1.1, 0.2.0] or uninstalled\n ├─restricted to versions * by an explicit requirement, leaving only versions [0.1.0-0.1.1, 0.2.0]\n └─restricted by julia compatibility requirements to versions: uninstalled — no versions left",
      "",
      "Stacktrace:",
      " [1] #propagate_constraints!#61(::Bool, ::Function, ::Pkg.GraphType.Graph, ::Set{Int64}) at /buildworker/worker/package_linux64/build/usr/share/julia/stdlib/v1.0/Pkg/src/GraphType.jl:1007",
      " [2] propagate_constraints! at /buildworker/worker/package_linux64/build/usr/share/julia/stdlib/v1.0/Pkg/src/GraphType.jl:948 [inlined]",
      " [3] #simplify_graph!#121(::Bool, ::Function, ::Pkg.GraphType.Graph, ::Set{Int64}) at /buildworker/worker/package_linux64/build/usr/share/julia/stdlib/v1.0/Pkg/src/GraphType.jl:1462",
      " [4] simplify_graph! at /buildworker/worker/package_linux64/build/usr/share/julia/stdlib/v1.0/Pkg/src/GraphType.jl:1462 [inlined] (repeats 2 times)",
      " [5] resolve_versions!(::Pkg.Types.Context, ::Array{Pkg.Types.PackageSpec,1}, ::Nothing) at /buildworker/worker/package_linux64/build/usr/share/julia/stdlib/v1.0/Pkg/src/Operations.jl:373",
      " [6] resolve_versions! at /buildworker/worker/package_linux64/build/usr/share/julia/stdlib/v1.0/Pkg/src/Operations.jl:316 [inlined]",
      " [7] #add_or_develop#62(::Array{Base.UUID,1}, ::Symbol, ::Function, ::Pkg.Types.Context, ::Array{Pkg.Types.PackageSpec,1}) at /buildworker/worker/package_linux64/build/usr/share/julia/stdlib/v1.0/Pkg/src/Operations.jl:1201",
      " [8] #add_or_develop at ./none:0 [inlined]",
      " [9] #add_or_develop#15(::Symbol, ::Bool, ::Base.Iterators.Pairs{Union{},Union{},Tuple{},NamedTuple{(),Tuple{}}}, ::Function, ::Pkg.Types.Context, ::Array{Pkg.Types.PackageSpec,1}) at /buildworker/worker/package_linux64/build/usr/share/julia/stdlib/v1.0/Pkg/src/API.jl:69",
      " [10] #add_or_develop at ./none:0 [inlined]",
      " [11] #add_or_develop#14 at /buildworker/worker/package_linux64/build/usr/share/julia/stdlib/v1.0/Pkg/src/API.jl:34 [inlined]",
      " [12] #add_or_develop at ./none:0 [inlined]",
      " [13] #add_or_develop#11 at /buildworker/worker/package_linux64/build/usr/share/julia/stdlib/v1.0/Pkg/src/API.jl:33 [inlined]",
      " [14] #add_or_develop at ./none:0 [inlined]",
      " [15] #add_or_develop#10 at /buildworker/worker/package_linux64/build/usr/share/julia/stdlib/v1.0/Pkg/src/API.jl:32 [inlined]",
      " [16] #add_or_develop at ./none:0 [inlined]",
      " [17] #add#20 at /buildworker/worker/package_linux64/build/usr/share/julia/stdlib/v1.0/Pkg/src/API.jl:74 [inlined]",
      " [18] add(::String) at /buildworker/worker/package_linux64/build/usr/share/julia/stdlib/v1.0/Pkg/src/API.jl:74",
      " [19] top-level scope at In[34]:1"
     ]
    }
   ],
   "source": [
    "Pkg.add(\"MixtureModels\")"
   ]
  },
  {
   "cell_type": "code",
   "execution_count": 35,
   "metadata": {},
   "outputs": [
    {
     "name": "stdout",
     "output_type": "stream",
     "text": [
      "\u001b[32m\u001b[1m Resolving\u001b[22m\u001b[39m package versions...\n",
      "\u001b[32m\u001b[1m Installed\u001b[22m\u001b[39m NaNMath ──────────────── v0.3.2\n",
      "\u001b[32m\u001b[1m Installed\u001b[22m\u001b[39m CommonSubexpressions ─── v0.2.0\n",
      "\u001b[32m\u001b[1m Installed\u001b[22m\u001b[39m Requires ─────────────── v0.5.2\n",
      "\u001b[32m\u001b[1m Installed\u001b[22m\u001b[39m Mocking ──────────────── v0.7.0\n",
      "\u001b[32m\u001b[1m Installed\u001b[22m\u001b[39m ElasticPDMats ────────── v0.2.1\n",
      "\u001b[32m\u001b[1m Installed\u001b[22m\u001b[39m FastGaussQuadrature ──── v0.4.0\n",
      "\u001b[32m\u001b[1m Installed\u001b[22m\u001b[39m DiffEqDiffTools ──────── v1.3.0\n",
      "\u001b[32m\u001b[1m Installed\u001b[22m\u001b[39m DiffRules ────────────── v0.0.10\n",
      "\u001b[32m\u001b[1m Installed\u001b[22m\u001b[39m RecipesBase ──────────── v0.7.0\n",
      "\u001b[32m\u001b[1m Installed\u001b[22m\u001b[39m ArrayInterface ───────── v1.2.1\n",
      "\u001b[32m\u001b[1m Installed\u001b[22m\u001b[39m NBInclude ────────────── v2.1.0\n",
      "\u001b[32m\u001b[1m Installed\u001b[22m\u001b[39m PositiveFactorizations ─ v0.2.2\n",
      "\u001b[32m\u001b[1m Installed\u001b[22m\u001b[39m DiffResults ──────────── v0.0.4\n",
      "\u001b[32m\u001b[1m Installed\u001b[22m\u001b[39m LineSearches ─────────── v7.0.1\n",
      "\u001b[32m\u001b[1m Installed\u001b[22m\u001b[39m NLSolversBase ────────── v7.5.0\n",
      "\u001b[32m\u001b[1m Installed\u001b[22m\u001b[39m FillArrays ───────────── v0.7.2\n",
      "\u001b[32m\u001b[1m Installed\u001b[22m\u001b[39m ElasticArrays ────────── v0.4.0\n",
      "\u001b[32m\u001b[1m Installed\u001b[22m\u001b[39m Optim ────────────────── v0.19.3\n",
      "\u001b[32m\u001b[1m Installed\u001b[22m\u001b[39m RData ────────────────── v0.6.3\n",
      "\u001b[32m\u001b[1m Installed\u001b[22m\u001b[39m CodecZlib ────────────── v0.6.0\n",
      "\u001b[32m\u001b[1m Installed\u001b[22m\u001b[39m DecisionTree ─────────── v0.9.0\n",
      "\u001b[32m\u001b[1m Installed\u001b[22m\u001b[39m Calculus ─────────────── v0.5.0\n",
      "\u001b[32m\u001b[1m Installed\u001b[22m\u001b[39m ForwardDiff ──────────── v0.10.3\n",
      "\u001b[32m\u001b[1m Installed\u001b[22m\u001b[39m EzXML ────────────────── v0.9.4\n",
      "\u001b[32m\u001b[1m Installed\u001b[22m\u001b[39m IterTools ────────────── v1.2.0\n",
      "\u001b[32m\u001b[1m Installed\u001b[22m\u001b[39m TimeZones ────────────── v0.10.2\n",
      "\u001b[32m\u001b[1m Installed\u001b[22m\u001b[39m TranscodingStreams ───── v0.9.5\n",
      "\u001b[32m\u001b[1m Installed\u001b[22m\u001b[39m ScikitLearn ──────────── v0.5.1\n",
      "\u001b[32m\u001b[1m Installed\u001b[22m\u001b[39m GaussianProcesses ────── v0.9.0\n",
      "\u001b[32m\u001b[1m Installed\u001b[22m\u001b[39m RDatasets ────────────── v0.6.1\n",
      "\u001b[32m\u001b[1m  Updating\u001b[22m\u001b[39m `~/.julia/environments/v1.0/Project.toml`\n",
      " \u001b[90m [3646fa90]\u001b[39m\u001b[92m + ScikitLearn v0.5.1\u001b[39m\n",
      "\u001b[32m\u001b[1m  Updating\u001b[22m\u001b[39m `~/.julia/environments/v1.0/Manifest.toml`\n",
      " \u001b[90m [4fba245c]\u001b[39m\u001b[92m + ArrayInterface v1.2.1\u001b[39m\n",
      " \u001b[90m [49dc2e85]\u001b[39m\u001b[92m + Calculus v0.5.0\u001b[39m\n",
      " \u001b[90m [944b1d66]\u001b[39m\u001b[92m + CodecZlib v0.6.0\u001b[39m\n",
      " \u001b[90m [bbf7d656]\u001b[39m\u001b[92m + CommonSubexpressions v0.2.0\u001b[39m\n",
      " \u001b[90m [7806a523]\u001b[39m\u001b[92m + DecisionTree v0.9.0\u001b[39m\n",
      " \u001b[90m [01453d9d]\u001b[39m\u001b[92m + DiffEqDiffTools v1.3.0\u001b[39m\n",
      " \u001b[90m [163ba53b]\u001b[39m\u001b[92m + DiffResults v0.0.4\u001b[39m\n",
      " \u001b[90m [b552c78f]\u001b[39m\u001b[92m + DiffRules v0.0.10\u001b[39m\n",
      " \u001b[90m [fdbdab4c]\u001b[39m\u001b[92m + ElasticArrays v0.4.0\u001b[39m\n",
      " \u001b[90m [2904ab23]\u001b[39m\u001b[92m + ElasticPDMats v0.2.1\u001b[39m\n",
      " \u001b[90m [8f5d6c58]\u001b[39m\u001b[92m + EzXML v0.9.4\u001b[39m\n",
      " \u001b[90m [442a2c76]\u001b[39m\u001b[92m + FastGaussQuadrature v0.4.0\u001b[39m\n",
      " \u001b[90m [1a297f60]\u001b[39m\u001b[92m + FillArrays v0.7.2\u001b[39m\n",
      " \u001b[90m [f6369f11]\u001b[39m\u001b[92m + ForwardDiff v0.10.3\u001b[39m\n",
      " \u001b[90m [891a1506]\u001b[39m\u001b[92m + GaussianProcesses v0.9.0\u001b[39m\n",
      " \u001b[90m [c8e1da08]\u001b[39m\u001b[92m + IterTools v1.2.0\u001b[39m\n",
      " \u001b[90m [d3d80556]\u001b[39m\u001b[92m + LineSearches v7.0.1\u001b[39m\n",
      " \u001b[90m [78c3b35d]\u001b[39m\u001b[92m + Mocking v0.7.0\u001b[39m\n",
      " \u001b[90m [0db19996]\u001b[39m\u001b[92m + NBInclude v2.1.0\u001b[39m\n",
      " \u001b[90m [d41bc354]\u001b[39m\u001b[92m + NLSolversBase v7.5.0\u001b[39m\n",
      " \u001b[90m [77ba4419]\u001b[39m\u001b[92m + NaNMath v0.3.2\u001b[39m\n",
      " \u001b[90m [429524aa]\u001b[39m\u001b[92m + Optim v0.19.3\u001b[39m\n",
      " \u001b[90m [85a6dd25]\u001b[39m\u001b[92m + PositiveFactorizations v0.2.2\u001b[39m\n",
      " \u001b[90m [df47a6cb]\u001b[39m\u001b[92m + RData v0.6.3\u001b[39m\n",
      " \u001b[90m [ce6b1742]\u001b[39m\u001b[92m + RDatasets v0.6.1\u001b[39m\n",
      " \u001b[90m [3cdcf5f2]\u001b[39m\u001b[92m + RecipesBase v0.7.0\u001b[39m\n",
      " \u001b[90m [ae029012]\u001b[39m\u001b[92m + Requires v0.5.2\u001b[39m\n",
      " \u001b[90m [3646fa90]\u001b[39m\u001b[92m + ScikitLearn v0.5.1\u001b[39m\n",
      " \u001b[90m [f269a46b]\u001b[39m\u001b[92m + TimeZones v0.10.2\u001b[39m\n",
      " \u001b[90m [3bb67fe8]\u001b[39m\u001b[92m + TranscodingStreams v0.9.5\u001b[39m\n",
      "\u001b[32m\u001b[1m  Building\u001b[22m\u001b[39m CodecZlib → `~/.julia/packages/CodecZlib/5t9zO/deps/build.log`\n",
      "\u001b[32m\u001b[1m  Building\u001b[22m\u001b[39m EzXML ────→ `~/.julia/packages/EzXML/G0JeY/deps/build.log`\n",
      "\u001b[32m\u001b[1m  Building\u001b[22m\u001b[39m TimeZones → `~/.julia/packages/TimeZones/A5RcB/deps/build.log`\n"
     ]
    }
   ],
   "source": [
    "]add ScikitLearn"
   ]
  },
  {
   "cell_type": "code",
   "execution_count": 48,
   "metadata": {},
   "outputs": [
    {
     "name": "stdout",
     "output_type": "stream",
     "text": [
      "  Iters               objv        objv-change | affected \n",
      "-------------------------------------------------------------\n",
      "      0       4.614381e+02\n",
      "      1       3.189460e+02      -1.424921e+02 |        2\n",
      "      2       3.142817e+02      -4.664285e+00 |        2\n",
      "      3       3.133555e+02      -9.261388e-01 |        2\n",
      "      4       3.121482e+02      -1.207363e+00 |        2\n",
      "      5       3.113324e+02      -8.157327e-01 |        2\n",
      "      6       3.111460e+02      -1.864424e-01 |        2\n",
      "      7       3.111221e+02      -2.388829e-02 |        0\n",
      "      8       3.111221e+02       0.000000e+00 |        0\n",
      "K-means converged with 8 iterations (objv = 311.12211257204854)\n"
     ]
    },
    {
     "name": "stderr",
     "output_type": "stream",
     "text": [
      "┌ Info: Initializing GMM, 3 Gaussians LinearAlgebra.diag covariance 2 dimensions using 200 data points\n",
      "└ @ GaussianMixtures /home/melih/.julia/packages/GaussianMixtures/RGtTJ/src/train.jl:77\n",
      "┌ Info: K-means with 200 data points using 8 iterations\n",
      "│ 22.2 data points per parameter\n",
      "└ @ GaussianMixtures /home/melih/.julia/packages/GaussianMixtures/RGtTJ/src/train.jl:138\n",
      "┌ Info: Running 10 iterations EM on diag cov GMM with 3 Gaussians in 2 dimensions\n",
      "└ @ GaussianMixtures /home/melih/.julia/packages/GaussianMixtures/RGtTJ/src/train.jl:242\n",
      "┌ Info: iteration 1, average log likelihood -1.725660\n",
      "└ @ GaussianMixtures /home/melih/.julia/packages/GaussianMixtures/RGtTJ/src/gmms.jl:71\n",
      "┌ Info: iteration 2, average log likelihood -1.719060\n",
      "└ @ GaussianMixtures /home/melih/.julia/packages/GaussianMixtures/RGtTJ/src/gmms.jl:71\n",
      "┌ Info: iteration 3, average log likelihood -1.717417\n",
      "└ @ GaussianMixtures /home/melih/.julia/packages/GaussianMixtures/RGtTJ/src/gmms.jl:71\n",
      "┌ Info: iteration 4, average log likelihood -1.716568\n",
      "└ @ GaussianMixtures /home/melih/.julia/packages/GaussianMixtures/RGtTJ/src/gmms.jl:71\n",
      "┌ Info: iteration 5, average log likelihood -1.715961\n",
      "└ @ GaussianMixtures /home/melih/.julia/packages/GaussianMixtures/RGtTJ/src/gmms.jl:71\n",
      "┌ Info: iteration 6, average log likelihood -1.715459\n",
      "└ @ GaussianMixtures /home/melih/.julia/packages/GaussianMixtures/RGtTJ/src/gmms.jl:71\n",
      "┌ Info: iteration 7, average log likelihood -1.715015\n",
      "└ @ GaussianMixtures /home/melih/.julia/packages/GaussianMixtures/RGtTJ/src/gmms.jl:71\n",
      "┌ Info: iteration 8, average log likelihood -1.714609\n",
      "└ @ GaussianMixtures /home/melih/.julia/packages/GaussianMixtures/RGtTJ/src/gmms.jl:71\n",
      "┌ Info: iteration 9, average log likelihood -1.714231\n",
      "└ @ GaussianMixtures /home/melih/.julia/packages/GaussianMixtures/RGtTJ/src/gmms.jl:71\n",
      "┌ Info: iteration 10, average log likelihood -1.713874\n",
      "└ @ GaussianMixtures /home/melih/.julia/packages/GaussianMixtures/RGtTJ/src/gmms.jl:71\n",
      "┌ Info: EM with 200 data points 10 iterations avll -1.713874\n",
      "│ 14.3 data points per parameter\n",
      "└ @ GaussianMixtures /home/melih/.julia/packages/GaussianMixtures/RGtTJ/src/gmms.jl:71\n"
     ]
    },
    {
     "data": {
      "text/plain": [
       "200-element Array{Int64,1}:\n",
       " 2\n",
       " 2\n",
       " 2\n",
       " 2\n",
       " 2\n",
       " 2\n",
       " 2\n",
       " 2\n",
       " 2\n",
       " 2\n",
       " 2\n",
       " 2\n",
       " 2\n",
       " ⋮\n",
       " 3\n",
       " 3\n",
       " 1\n",
       " 1\n",
       " 1\n",
       " 1\n",
       " 1\n",
       " 3\n",
       " 1\n",
       " 3\n",
       " 3\n",
       " 3"
      ]
     },
     "execution_count": 48,
     "metadata": {},
     "output_type": "execute_result"
    }
   ],
   "source": [
    "using GaussianMixtures: GMM\n",
    "using ScikitLearn: fit!, predict_proba\n",
    "\n",
    "gmm = fit!(GMM(n_components=3, # number of Gaussians to fit\n",
    "               kind=:diag), # diagonal covariance matrix (other option: :full)\n",
    "           X)\n",
    "argmax(predict_proba(gmm, X),2)"
   ]
  },
  {
   "cell_type": "code",
   "execution_count": 60,
   "metadata": {},
   "outputs": [
    {
     "data": {
      "text/plain": [
       "3×5×2 Array{Float64,3}:\n",
       "[:, :, 1] =\n",
       " 0.0  0.0  0.0  0.0  0.0\n",
       " 0.0  0.0  0.0  0.0  0.0\n",
       " 0.0  0.0  0.0  0.0  0.0\n",
       "\n",
       "[:, :, 2] =\n",
       " 0.0  0.0  0.0  0.0  0.0\n",
       " 0.0  0.0  0.0  0.0  0.0\n",
       " 0.0  0.0  0.0  0.0  0.0"
      ]
     },
     "execution_count": 60,
     "metadata": {},
     "output_type": "execute_result"
    }
   ],
   "source": [
    "T = 5\n",
    "Xᵖ = zeros(R,T,2)"
   ]
  },
  {
   "cell_type": "code",
   "execution_count": 61,
   "metadata": {},
   "outputs": [
    {
     "data": {
      "text/plain": [
       "200×2 Array{Float64,2}:\n",
       "  1.31636   -0.168588 \n",
       "  0.72205    0.570313 \n",
       " -0.515718   0.280166 \n",
       "  0.343045  -0.0624836\n",
       " -0.378063   0.903088 \n",
       "  0.242655   1.09123  \n",
       " -2.00935   -0.864192 \n",
       "  0.186061  -0.0631674\n",
       "  0.979084   0.530058 \n",
       " -0.704092   0.678778 \n",
       " -0.256162  -0.209686 \n",
       "  0.463475  -0.953381 \n",
       "  0.708883  -0.7628   \n",
       "  ⋮                   \n",
       "  4.31538    3.25244  \n",
       "  3.82664    3.24637  \n",
       "  3.52063    3.77244  \n",
       "  4.26628    4.08115  \n",
       "  2.7297     6.2803   \n",
       "  4.27932    4.4038   \n",
       "  3.80515    4.18755  \n",
       "  3.63458    3.53404  \n",
       "  4.62455    5.07443  \n",
       "  5.16587    3.07147  \n",
       "  2.49503    3.86513  \n",
       "  5.15258    1.76264  "
      ]
     },
     "execution_count": 61,
     "metadata": {},
     "output_type": "execute_result"
    }
   ],
   "source": [
    "X"
   ]
  },
  {
   "cell_type": "code",
   "execution_count": 62,
   "metadata": {},
   "outputs": [
    {
     "name": "stdout",
     "output_type": "stream",
     "text": [
      "  Iters               objv        objv-change | affected \n",
      "-------------------------------------------------------------\n",
      "      0       5.738387e+02\n",
      "      1       3.116034e+02      -2.622353e+02 |        3\n",
      "      2       3.076599e+02      -3.943442e+00 |        2\n",
      "      3       3.072643e+02      -3.955874e-01 |        2\n",
      "      4       3.071640e+02      -1.003578e-01 |        0\n",
      "      5       3.071640e+02       0.000000e+00 |        0\n",
      "K-means converged with 5 iterations (objv = 307.1639880723272)\n"
     ]
    },
    {
     "name": "stderr",
     "output_type": "stream",
     "text": [
      "┌ Info: Initializing GMM, 3 Gaussians LinearAlgebra.diag covariance 2 dimensions using 200 data points\n",
      "└ @ GaussianMixtures /home/melih/.julia/packages/GaussianMixtures/RGtTJ/src/train.jl:77\n",
      "┌ Info: K-means with 200 data points using 5 iterations\n",
      "│ 22.2 data points per parameter\n",
      "└ @ GaussianMixtures /home/melih/.julia/packages/GaussianMixtures/RGtTJ/src/train.jl:138\n",
      "┌ Info: Running 10 iterations EM on full cov GMM with 3 Gaussians in 2 dimensions\n",
      "└ @ GaussianMixtures /home/melih/.julia/packages/GaussianMixtures/RGtTJ/src/train.jl:242\n",
      "┌ Info: iteration 1, average log likelihood -1.725764\n",
      "└ @ GaussianMixtures /home/melih/.julia/packages/GaussianMixtures/RGtTJ/src/gmms.jl:71\n",
      "┌ Info: iteration 2, average log likelihood -1.718216\n",
      "└ @ GaussianMixtures /home/melih/.julia/packages/GaussianMixtures/RGtTJ/src/gmms.jl:71\n",
      "┌ Info: iteration 3, average log likelihood -1.715843\n",
      "└ @ GaussianMixtures /home/melih/.julia/packages/GaussianMixtures/RGtTJ/src/gmms.jl:71\n",
      "┌ Info: iteration 4, average log likelihood -1.714327\n",
      "└ @ GaussianMixtures /home/melih/.julia/packages/GaussianMixtures/RGtTJ/src/gmms.jl:71\n",
      "┌ Info: iteration 5, average log likelihood -1.713070\n",
      "└ @ GaussianMixtures /home/melih/.julia/packages/GaussianMixtures/RGtTJ/src/gmms.jl:71\n",
      "┌ Info: iteration 6, average log likelihood -1.711859\n",
      "└ @ GaussianMixtures /home/melih/.julia/packages/GaussianMixtures/RGtTJ/src/gmms.jl:71\n",
      "┌ Info: iteration 7, average log likelihood -1.710573\n",
      "└ @ GaussianMixtures /home/melih/.julia/packages/GaussianMixtures/RGtTJ/src/gmms.jl:71\n",
      "┌ Info: iteration 8, average log likelihood -1.709126\n",
      "└ @ GaussianMixtures /home/melih/.julia/packages/GaussianMixtures/RGtTJ/src/gmms.jl:71\n",
      "┌ Info: iteration 9, average log likelihood -1.707476\n",
      "└ @ GaussianMixtures /home/melih/.julia/packages/GaussianMixtures/RGtTJ/src/gmms.jl:71\n",
      "┌ Info: iteration 10, average log likelihood -1.705671\n",
      "└ @ GaussianMixtures /home/melih/.julia/packages/GaussianMixtures/RGtTJ/src/gmms.jl:71\n",
      "┌ Info: EM with 200 data points 10 iterations avll -1.705671\n",
      "│ 11.8 data points per parameter\n",
      "└ @ GaussianMixtures /home/melih/.julia/packages/GaussianMixtures/RGtTJ/src/gmms.jl:71\n"
     ]
    },
    {
     "data": {
      "text/plain": [
       "185×2 Array{Float64,2}:\n",
       "  0.72205    0.570313 \n",
       " -0.515718   0.280166 \n",
       "  0.343045  -0.0624836\n",
       "  0.242655   1.09123  \n",
       " -2.00935   -0.864192 \n",
       "  0.979084   0.530058 \n",
       " -0.704092   0.678778 \n",
       " -0.256162  -0.209686 \n",
       "  0.463475  -0.953381 \n",
       " -1.52663   -1.08488  \n",
       "  0.915789  -1.22688  \n",
       "  0.628634   0.790888 \n",
       "  1.68144    1.38048  \n",
       "  ⋮                   \n",
       "  4.31538    3.25244  \n",
       "  3.82664    3.24637  \n",
       "  3.52063    3.77244  \n",
       "  4.26628    4.08115  \n",
       "  2.7297     6.2803   \n",
       "  4.27932    4.4038   \n",
       "  3.80515    4.18755  \n",
       "  3.63458    3.53404  \n",
       "  4.62455    5.07443  \n",
       "  5.16587    3.07147  \n",
       "  2.49503    3.86513  \n",
       "  5.15258    1.76264  "
      ]
     },
     "execution_count": 62,
     "metadata": {},
     "output_type": "execute_result"
    }
   ],
   "source": [
    "gmm = fit!(GMM(n_components=R, kind=:full), X)\n",
    "clusters = argmax(predict_proba(gmm, X),2)\n",
    "unchosen = 1:size(X)[1]\n",
    "for r ∈ 1:R\n",
    "    cluster_r = findall(x->x==r, clusters)\n",
    "    chosen = map(x->x[1],randperm(length(cluster_r))[1:T])\n",
    "    unchosen = setdiff(unchosen,chosen)\n",
    "    Xᵖ[r,:,:] .= X[chosen,:] \n",
    "end\n",
    "\n",
    "X = X[unchosen,:]"
   ]
  },
  {
   "cell_type": "code",
   "execution_count": 55,
   "metadata": {},
   "outputs": [],
   "source": [
    "using Random: randperm"
   ]
  },
  {
   "cell_type": "code",
   "execution_count": 57,
   "metadata": {},
   "outputs": [
    {
     "ename": "UndefVarError",
     "evalue": "UndefVarError: chosen not defined",
     "output_type": "error",
     "traceback": [
      "UndefVarError: chosen not defined",
      "",
      "Stacktrace:",
      " [1] top-level scope at In[57]:1"
     ]
    }
   ],
   "source": [
    "chosen"
   ]
  },
  {
   "cell_type": "code",
   "execution_count": null,
   "metadata": {},
   "outputs": [],
   "source": []
  }
 ],
 "metadata": {
  "kernelspec": {
   "display_name": "Julia 1.0.4",
   "language": "julia",
   "name": "julia-1.0"
  },
  "language_info": {
   "file_extension": ".jl",
   "mimetype": "application/julia",
   "name": "julia",
   "version": "1.0.4"
  }
 },
 "nbformat": 4,
 "nbformat_minor": 2
}
